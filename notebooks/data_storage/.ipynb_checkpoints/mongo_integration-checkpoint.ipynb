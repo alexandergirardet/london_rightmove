{
 "cells": [
  {
   "cell_type": "code",
   "execution_count": 1,
   "id": "4b764f16-3e43-463f-af40-fbcc51f3f9cb",
   "metadata": {},
   "outputs": [],
   "source": [
    "from pymongo import MongoClient\n",
    "\n",
    "client = MongoClient(\"mongodb://localhost:27017/\") # Hosted with Docker"
   ]
  },
  {
   "cell_type": "markdown",
   "id": "3c7dc024-1194-4ca9-9179-dedcd5ca476c",
   "metadata": {},
   "source": [
    "## Access Database"
   ]
  },
  {
   "cell_type": "code",
   "execution_count": 2,
   "id": "35c41cd0-27e0-48a3-9b35-4c15988f0010",
   "metadata": {},
   "outputs": [],
   "source": [
    "db = client[\"rightmove\"]\n",
    "\n",
    "# Access collection\n",
    "collection = db[\"properties\"]"
   ]
  },
  {
   "cell_type": "code",
   "execution_count": null,
   "id": "fd6b7ec8-958b-4b02-b882-5eac66268c09",
   "metadata": {},
   "outputs": [],
   "source": [
    "# Insert a document\n",
    "collection.insert_one({\"name\": \"John Doe\", \"age\": 30})\n",
    "\n",
    "# Find a document\n",
    "user = collection.find_one({\"name\": \"John Doe\"})\n",
    "\n",
    "# Update a document\n",
    "collection.update_one({\"name\": \"John Doe\"}, {\"$set\": {\"age\": 31}})\n",
    "\n",
    "# Delete a document\n",
    "collection.delete_one({\"name\": \"John Doe\"})"
   ]
  },
  {
   "cell_type": "markdown",
   "id": "cf50b563-4cac-4156-9b6e-faaa4af9ca48",
   "metadata": {},
   "source": [
    "## Fetch data"
   ]
  },
  {
   "cell_type": "code",
   "execution_count": 30,
   "id": "77e22ba8-c237-4d04-959d-3683c114e35c",
   "metadata": {},
   "outputs": [],
   "source": [
    "import json\n",
    "\n",
    "with open(\"../resources/data/property.json\", \"r\") as file:\n",
    "    property = json.load(file) \n",
    "\n",
    "with open(\"../resources/data/property_1.json\", \"r\") as file:\n",
    "    property_1 = json.load(file) "
   ]
  },
  {
   "cell_type": "markdown",
   "id": "478f104c-0b48-4211-991f-76fe790f65ba",
   "metadata": {},
   "source": [
    "## Load data to MongoDB"
   ]
  },
  {
   "cell_type": "code",
   "execution_count": null,
   "id": "f97139f9-4383-4e3b-a368-d54b4463509d",
   "metadata": {},
   "outputs": [],
   "source": [
    "collection.insert_one(property)"
   ]
  },
  {
   "cell_type": "code",
   "execution_count": 31,
   "id": "6771b78d-0020-42d6-a96b-4301bf6b834f",
   "metadata": {},
   "outputs": [
    {
     "data": {
      "text/plain": [
       "<pymongo.results.InsertOneResult at 0x111f27dc0>"
      ]
     },
     "execution_count": 31,
     "metadata": {},
     "output_type": "execute_result"
    }
   ],
   "source": [
    "collection.insert_one(property_1)"
   ]
  },
  {
   "cell_type": "markdown",
   "id": "bcbe4789-0c1c-41d6-bede-22efb03fc8cd",
   "metadata": {},
   "source": [
    "## Load Data from MongoDB"
   ]
  },
  {
   "cell_type": "code",
   "execution_count": 13,
   "id": "9a27999b-7315-4a02-805e-25e05458427f",
   "metadata": {},
   "outputs": [],
   "source": [
    "property = collection.find_one({\"id\": 142547498})"
   ]
  },
  {
   "cell_type": "code",
   "execution_count": null,
   "id": "1609ed92-78c7-48e1-8d02-d1ea9eac2fde",
   "metadata": {},
   "outputs": [],
   "source": [
    "property"
   ]
  },
  {
   "cell_type": "markdown",
   "id": "9b51e9c9-8baf-4140-ad2c-18ee30995c5a",
   "metadata": {},
   "source": [
    "## Get a list of all rightmove IDs"
   ]
  },
  {
   "cell_type": "markdown",
   "id": "69201660-191d-4daf-8b6b-7944f8c58c4a",
   "metadata": {},
   "source": [
    "I created a new unique index in MongoDB to enforce uniqueness and quick access for IDs."
   ]
  },
  {
   "cell_type": "code",
   "execution_count": 35,
   "id": "367dcb10-508f-49a2-91bb-8bec6359f08c",
   "metadata": {},
   "outputs": [
    {
     "name": "stdout",
     "output_type": "stream",
     "text": [
      "[142547498, 142659089]\n"
     ]
    }
   ],
   "source": [
    "rightmove_ids = collection.find({}, {\"id\": 1})\n",
    "\n",
    "# Convert the result to a list of IDs\n",
    "ids = [doc['id'] for doc in rightmove_ids]\n",
    "\n",
    "print(ids)"
   ]
  },
  {
   "cell_type": "markdown",
   "id": "e4521181-d231-443b-8ed8-849763b0d736",
   "metadata": {},
   "source": [
    "### Close connection"
   ]
  },
  {
   "cell_type": "code",
   "execution_count": 37,
   "id": "8acde9bf-e654-4e7c-91c1-5b653d7ecd1a",
   "metadata": {},
   "outputs": [],
   "source": [
    "client.close()"
   ]
  },
  {
   "cell_type": "code",
   "execution_count": null,
   "id": "48a83a75-144e-466f-bbd1-31e9b26b074b",
   "metadata": {},
   "outputs": [],
   "source": []
  }
 ],
 "metadata": {
  "kernelspec": {
   "display_name": "Python 3 (ipykernel)",
   "language": "python",
   "name": "python3"
  },
  "language_info": {
   "codemirror_mode": {
    "name": "ipython",
    "version": 3
   },
   "file_extension": ".py",
   "mimetype": "text/x-python",
   "name": "python",
   "nbconvert_exporter": "python",
   "pygments_lexer": "ipython3",
   "version": "3.11.4"
  }
 },
 "nbformat": 4,
 "nbformat_minor": 5
}

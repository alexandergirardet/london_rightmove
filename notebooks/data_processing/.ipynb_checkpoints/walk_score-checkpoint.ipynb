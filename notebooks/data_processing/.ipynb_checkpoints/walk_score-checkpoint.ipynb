{
 "cells": [
  {
   "cell_type": "markdown",
   "id": "e966ddef-5b0c-44b2-a6d5-e82dfb87ae17",
   "metadata": {},
   "source": [
    "# Load Data"
   ]
  },
  {
   "cell_type": "code",
   "execution_count": 1,
   "id": "22c8bd99-c8fe-4d0a-a8c0-eca0f8096478",
   "metadata": {},
   "outputs": [],
   "source": [
    "import pandas as pd"
   ]
  },
  {
   "cell_type": "markdown",
   "id": "4b8121ac-9ae1-4d9e-8148-13a6ffd71713",
   "metadata": {},
   "source": [
    "This file contains all of the points of interest in London, along with their coordinates."
   ]
  },
  {
   "cell_type": "code",
   "execution_count": 4,
   "id": "729cc6c3-00f7-47f3-b695-f3a73692536e",
   "metadata": {},
   "outputs": [],
   "source": [
    "pois_df = pd.read_csv(\"../resources/data/London_pois.csv\", index_col=0)"
   ]
  },
  {
   "cell_type": "code",
   "execution_count": 6,
   "id": "628a3b78-a6b3-4eee-a074-ca2d1d1b901e",
   "metadata": {},
   "outputs": [
    {
     "data": {
      "text/html": [
       "<div>\n",
       "<style scoped>\n",
       "    .dataframe tbody tr th:only-of-type {\n",
       "        vertical-align: middle;\n",
       "    }\n",
       "\n",
       "    .dataframe tbody tr th {\n",
       "        vertical-align: top;\n",
       "    }\n",
       "\n",
       "    .dataframe thead th {\n",
       "        text-align: right;\n",
       "    }\n",
       "</style>\n",
       "<table border=\"1\" class=\"dataframe\">\n",
       "  <thead>\n",
       "    <tr style=\"text-align: right;\">\n",
       "      <th></th>\n",
       "      <th>geometry</th>\n",
       "      <th>poi_type_clean</th>\n",
       "      <th>amenities</th>\n",
       "      <th>lon</th>\n",
       "      <th>lat</th>\n",
       "      <th>lon_rad</th>\n",
       "      <th>lat_rad</th>\n",
       "    </tr>\n",
       "  </thead>\n",
       "  <tbody>\n",
       "    <tr>\n",
       "      <th>0</th>\n",
       "      <td>POINT (-0.1935029029846191 51.60203170776367)</td>\n",
       "      <td>restaurant</td>\n",
       "      <td>restaurants</td>\n",
       "      <td>-0.193503</td>\n",
       "      <td>51.602032</td>\n",
       "      <td>-0.003377</td>\n",
       "      <td>0.900625</td>\n",
       "    </tr>\n",
       "    <tr>\n",
       "      <th>1</th>\n",
       "      <td>POINT (-0.1156141981482506 51.52107620239258)</td>\n",
       "      <td>library</td>\n",
       "      <td>books</td>\n",
       "      <td>-0.115614</td>\n",
       "      <td>51.521076</td>\n",
       "      <td>-0.002018</td>\n",
       "      <td>0.899212</td>\n",
       "    </tr>\n",
       "    <tr>\n",
       "      <th>2</th>\n",
       "      <td>POINT (-0.0206975005567074 51.44462585449219)</td>\n",
       "      <td>library</td>\n",
       "      <td>books</td>\n",
       "      <td>-0.020698</td>\n",
       "      <td>51.444626</td>\n",
       "      <td>-0.000361</td>\n",
       "      <td>0.897878</td>\n",
       "    </tr>\n",
       "    <tr>\n",
       "      <th>3</th>\n",
       "      <td>POINT (-0.3340173959732056 51.411006927490234)</td>\n",
       "      <td>cafe</td>\n",
       "      <td>coffee</td>\n",
       "      <td>-0.334017</td>\n",
       "      <td>51.411007</td>\n",
       "      <td>-0.005830</td>\n",
       "      <td>0.897291</td>\n",
       "    </tr>\n",
       "    <tr>\n",
       "      <th>4</th>\n",
       "      <td>POINT (-0.1189566031098366 51.5173454284668)</td>\n",
       "      <td>bar</td>\n",
       "      <td>restaurants</td>\n",
       "      <td>-0.118957</td>\n",
       "      <td>51.517345</td>\n",
       "      <td>-0.002076</td>\n",
       "      <td>0.899147</td>\n",
       "    </tr>\n",
       "  </tbody>\n",
       "</table>\n",
       "</div>"
      ],
      "text/plain": [
       "                                         geometry poi_type_clean    amenities  \\\n",
       "0   POINT (-0.1935029029846191 51.60203170776367)     restaurant  restaurants   \n",
       "1   POINT (-0.1156141981482506 51.52107620239258)        library        books   \n",
       "2   POINT (-0.0206975005567074 51.44462585449219)        library        books   \n",
       "3  POINT (-0.3340173959732056 51.411006927490234)           cafe       coffee   \n",
       "4    POINT (-0.1189566031098366 51.5173454284668)            bar  restaurants   \n",
       "\n",
       "        lon        lat   lon_rad   lat_rad  \n",
       "0 -0.193503  51.602032 -0.003377  0.900625  \n",
       "1 -0.115614  51.521076 -0.002018  0.899212  \n",
       "2 -0.020698  51.444626 -0.000361  0.897878  \n",
       "3 -0.334017  51.411007 -0.005830  0.897291  \n",
       "4 -0.118957  51.517345 -0.002076  0.899147  "
      ]
     },
     "execution_count": 6,
     "metadata": {},
     "output_type": "execute_result"
    }
   ],
   "source": [
    "pois_df.head()"
   ]
  },
  {
   "cell_type": "markdown",
   "id": "a96b948e-3b84-461a-846d-4861ad96458c",
   "metadata": {},
   "source": [
    "Add map here."
   ]
  },
  {
   "cell_type": "markdown",
   "id": "79d8c293-2cb6-4527-a7dc-68832cfcae78",
   "metadata": {},
   "source": [
    "# Algorithm"
   ]
  },
  {
   "cell_type": "code",
   "execution_count": null,
   "id": "d90e194c-aaea-41f0-8eb4-598863c105a5",
   "metadata": {},
   "outputs": [],
   "source": [
    "def get_walk_score(oa_longitude, oa_latitude, df):\n",
    "    radian_longitude = radians(oa_longitude)\n",
    "    radian_latitude = radians(oa_latitude)\n",
    "\n",
    "    earth_radius = 6371000 # meters in earth\n",
    "\n",
    "    new_df = pd.DataFrame()\n",
    "    df = df.copy()\n",
    "\n",
    "    for key, values in amenity_weights.items():\n",
    "\n",
    "        current_df = df[df['amenities'] == key]\n",
    "        current_df.reset_index(drop=True, inplace=True)\n",
    "        current_ball = BallTree(current_df[['lon_rad', 'lat_rad']].values, metric='haversine') # What is the ball tree doing?\n",
    "        k = len(values)\n",
    "\n",
    "        distances, indices = current_ball.query([[radian_longitude, radian_latitude]], k=k, return_distance  = True)\n",
    "\n",
    "\n",
    "        distance_in_meters = [x * earth_radius for x in distances]\n",
    "\n",
    "        if k > 1:\n",
    "            result_df = current_df[current_df.index.isin(indices[0])]\n",
    "\n",
    "        else: \n",
    "            result_df = current_df.iloc[indices[0]]\n",
    "\n",
    "\n",
    "        ### Add series\n",
    "\n",
    "        dist_series = pd.Series(distance_in_meters[0], index=indices[0], name='distance')\n",
    "        weight_series = pd.Series(values, index=indices[0], name='weights')\n",
    "        result_df['distance'] = dist_series\n",
    "        result_df['weights'] = weight_series\n",
    "        new_df = pd.concat([new_df, result_df], axis=0, join='outer')\n",
    "\n",
    "        ### Calculate score\n",
    "\n",
    "    new_df['distance_decayed'] = new_df['distance'].apply(lambda x: float(distance_decay(x)))\n",
    "    new_df['weighted_distance'] = new_df['weights'] * new_df['distance_decayed'] * 6.67\n",
    "    scores = new_df[['weighted_distance', 'amenities']].groupby('amenities').sum()\n",
    "    walk_score = scores.sum().values[0]\n",
    "    return walk_score\n",
    "\n",
    "def distance_decay(distance):\n",
    "    M = float(1)\n",
    "    dist = distance/1000\n",
    "    score = math.e**((-5.0*(dist/4))**5.0)\n",
    "    return score"
   ]
  },
  {
   "cell_type": "markdown",
   "id": "88a692a7-3d2a-44d4-b13e-54baa3c85c1c",
   "metadata": {},
   "source": [
    "# Load Ball"
   ]
  },
  {
   "cell_type": "code",
   "execution_count": 9,
   "id": "a381da1b-3f48-454d-8aae-c66c60516277",
   "metadata": {},
   "outputs": [],
   "source": [
    "from sklearn.neighbors import BallTree\n",
    "\n",
    "ball_tree = BallTree(pois_df[['lon_rad', 'lat_rad']].values, metric='haversine') # What is the ball tree doing?"
   ]
  },
  {
   "cell_type": "markdown",
   "id": "10c29796-2265-40d4-827d-8e9a2c1be34c",
   "metadata": {},
   "source": [
    "# Load property"
   ]
  },
  {
   "cell_type": "code",
   "execution_count": 10,
   "id": "58c436d5-7f20-4f8f-98f7-e8aed42bfd46",
   "metadata": {},
   "outputs": [],
   "source": [
    "import json\n",
    "\n",
    "with open(\"../resources/data/property.json\", \"r\") as file:\n",
    "    property = json.load(file) "
   ]
  },
  {
   "cell_type": "code",
   "execution_count": 42,
   "id": "ecdcbd25-a44c-4287-98b7-52167b09686a",
   "metadata": {},
   "outputs": [],
   "source": [
    "latitude = property['location']['latitude']\n",
    "longitude = property['location']['longitude']"
   ]
  },
  {
   "cell_type": "code",
   "execution_count": null,
   "id": "598ac31d-dc0d-48b7-aed4-29d4e7a0bc77",
   "metadata": {},
   "outputs": [],
   "source": [
    "latitude = 51.602032\t\n",
    "\n",
    "longitude = -0.193503"
   ]
  },
  {
   "cell_type": "markdown",
   "id": "65375fbe-b5df-4913-b7a8-4fc1d72e0b6a",
   "metadata": {},
   "source": [
    "## Process property"
   ]
  },
  {
   "cell_type": "code",
   "execution_count": 47,
   "id": "a5935e3d-724b-4f04-8551-7fb7f6582358",
   "metadata": {},
   "outputs": [],
   "source": [
    "from math import radians"
   ]
  },
  {
   "cell_type": "code",
   "execution_count": 48,
   "id": "2fe4d3c0-9acb-49ce-a2f2-ec50a060dc3f",
   "metadata": {},
   "outputs": [],
   "source": [
    "radian_longitude = radians(longitude)\n",
    "radian_latitude = radians(latitude)\n",
    "\n",
    "k = 100\n",
    "\n",
    "distances, indices = ball_tree.query([[radian_longitude, radian_latitude]], k=k, return_distance  = True)"
   ]
  },
  {
   "cell_type": "code",
   "execution_count": null,
   "id": "c8d8c647-b2ea-47d1-94c3-e1e12f1918ed",
   "metadata": {},
   "outputs": [],
   "source": [
    "dist_series = pd.Series(distances[0], index=indices[0], name='distance')\n",
    "\n",
    "results_df = pd.DataFrame(dist_series)"
   ]
  },
  {
   "cell_type": "markdown",
   "id": "66e43488-2809-4906-9ce1-2735d4d2b5df",
   "metadata": {},
   "source": [
    "### Result of closest properties"
   ]
  },
  {
   "cell_type": "markdown",
   "id": "1fee4a6c-0cfe-43ca-9ee3-ae512910f1e8",
   "metadata": {},
   "source": [
    "This DF returns the closest amenitites based on their index. "
   ]
  },
  {
   "cell_type": "code",
   "execution_count": 51,
   "id": "07d9bc69-3e8d-427f-ba55-cca5c307bdd8",
   "metadata": {},
   "outputs": [
    {
     "data": {
      "text/html": [
       "<div>\n",
       "<style scoped>\n",
       "    .dataframe tbody tr th:only-of-type {\n",
       "        vertical-align: middle;\n",
       "    }\n",
       "\n",
       "    .dataframe tbody tr th {\n",
       "        vertical-align: top;\n",
       "    }\n",
       "\n",
       "    .dataframe thead th {\n",
       "        text-align: right;\n",
       "    }\n",
       "</style>\n",
       "<table border=\"1\" class=\"dataframe\">\n",
       "  <thead>\n",
       "    <tr style=\"text-align: right;\">\n",
       "      <th></th>\n",
       "      <th>distance</th>\n",
       "    </tr>\n",
       "  </thead>\n",
       "  <tbody>\n",
       "    <tr>\n",
       "      <th>0</th>\n",
       "      <td>5.374171e-09</td>\n",
       "    </tr>\n",
       "    <tr>\n",
       "      <th>216</th>\n",
       "      <td>4.935937e-06</td>\n",
       "    </tr>\n",
       "    <tr>\n",
       "      <th>5618</th>\n",
       "      <td>1.594400e-05</td>\n",
       "    </tr>\n",
       "    <tr>\n",
       "      <th>11303</th>\n",
       "      <td>1.614258e-05</td>\n",
       "    </tr>\n",
       "    <tr>\n",
       "      <th>5620</th>\n",
       "      <td>2.179708e-05</td>\n",
       "    </tr>\n",
       "  </tbody>\n",
       "</table>\n",
       "</div>"
      ],
      "text/plain": [
       "           distance\n",
       "0      5.374171e-09\n",
       "216    4.935937e-06\n",
       "5618   1.594400e-05\n",
       "11303  1.614258e-05\n",
       "5620   2.179708e-05"
      ]
     },
     "execution_count": 51,
     "metadata": {},
     "output_type": "execute_result"
    }
   ],
   "source": [
    "results_df.head()"
   ]
  },
  {
   "cell_type": "markdown",
   "id": "f005740e-eaf4-4354-b743-f974fe433e0b",
   "metadata": {},
   "source": [
    "### Perform a join to get the amenity type of the closest amenities."
   ]
  },
  {
   "cell_type": "code",
   "execution_count": 52,
   "id": "ac725f13-efa7-4b65-a78e-bc5bbcab65a7",
   "metadata": {},
   "outputs": [],
   "source": [
    "results_df = results_df.join(pois_df['amenities'], how='left')"
   ]
  },
  {
   "cell_type": "code",
   "execution_count": 53,
   "id": "51b05c67-243c-4c5c-8cf2-be3368fea7ff",
   "metadata": {},
   "outputs": [
    {
     "data": {
      "text/html": [
       "<div>\n",
       "<style scoped>\n",
       "    .dataframe tbody tr th:only-of-type {\n",
       "        vertical-align: middle;\n",
       "    }\n",
       "\n",
       "    .dataframe tbody tr th {\n",
       "        vertical-align: top;\n",
       "    }\n",
       "\n",
       "    .dataframe thead th {\n",
       "        text-align: right;\n",
       "    }\n",
       "</style>\n",
       "<table border=\"1\" class=\"dataframe\">\n",
       "  <thead>\n",
       "    <tr style=\"text-align: right;\">\n",
       "      <th></th>\n",
       "      <th>distance</th>\n",
       "      <th>amenities</th>\n",
       "    </tr>\n",
       "  </thead>\n",
       "  <tbody>\n",
       "    <tr>\n",
       "      <th>0</th>\n",
       "      <td>5.374171e-09</td>\n",
       "      <td>restaurants</td>\n",
       "    </tr>\n",
       "    <tr>\n",
       "      <th>216</th>\n",
       "      <td>4.935937e-06</td>\n",
       "      <td>restaurants</td>\n",
       "    </tr>\n",
       "    <tr>\n",
       "      <th>5618</th>\n",
       "      <td>1.594400e-05</td>\n",
       "      <td>restaurants</td>\n",
       "    </tr>\n",
       "    <tr>\n",
       "      <th>11303</th>\n",
       "      <td>1.614258e-05</td>\n",
       "      <td>grocery</td>\n",
       "    </tr>\n",
       "    <tr>\n",
       "      <th>5620</th>\n",
       "      <td>2.179708e-05</td>\n",
       "      <td>restaurants</td>\n",
       "    </tr>\n",
       "  </tbody>\n",
       "</table>\n",
       "</div>"
      ],
      "text/plain": [
       "           distance    amenities\n",
       "0      5.374171e-09  restaurants\n",
       "216    4.935937e-06  restaurants\n",
       "5618   1.594400e-05  restaurants\n",
       "11303  1.614258e-05      grocery\n",
       "5620   2.179708e-05  restaurants"
      ]
     },
     "execution_count": 53,
     "metadata": {},
     "output_type": "execute_result"
    }
   ],
   "source": [
    "results_df.head()"
   ]
  },
  {
   "cell_type": "code",
   "execution_count": 54,
   "id": "658426e5-2887-4095-a590-5f2133c9bff5",
   "metadata": {},
   "outputs": [],
   "source": [
    "earth_radius = 6371000\n",
    "\n",
    "def distance_decay(distance):\n",
    "    M = float(1)\n",
    "    dist = distance/1000\n",
    "    score = math.e**((-5.0*(dist/4))**5.0)\n",
    "    return score\n",
    "\n",
    "results_df['distance_in_metres'] = results_df['distance'].apply(lambda x: x * earth_radius)"
   ]
  },
  {
   "cell_type": "code",
   "execution_count": 55,
   "id": "60e3967d-2cbe-4774-a2fb-799b9865b5ed",
   "metadata": {},
   "outputs": [],
   "source": [
    "import math\n",
    "results_df['distance_decayed'] = results_df['distance_in_metres'].apply(lambda x: float(distance_decay(x)))"
   ]
  },
  {
   "cell_type": "markdown",
   "id": "942541af-a392-4485-b479-2bf83b96a03f",
   "metadata": {},
   "source": [
    "We now have the distances in metres and we have decayed them according to our decay function."
   ]
  },
  {
   "cell_type": "code",
   "execution_count": 57,
   "id": "0a813f75-81a3-4e88-ba27-2ba3c08032eb",
   "metadata": {},
   "outputs": [
    {
     "data": {
      "text/html": [
       "<div>\n",
       "<style scoped>\n",
       "    .dataframe tbody tr th:only-of-type {\n",
       "        vertical-align: middle;\n",
       "    }\n",
       "\n",
       "    .dataframe tbody tr th {\n",
       "        vertical-align: top;\n",
       "    }\n",
       "\n",
       "    .dataframe thead th {\n",
       "        text-align: right;\n",
       "    }\n",
       "</style>\n",
       "<table border=\"1\" class=\"dataframe\">\n",
       "  <thead>\n",
       "    <tr style=\"text-align: right;\">\n",
       "      <th></th>\n",
       "      <th>distance</th>\n",
       "      <th>amenities</th>\n",
       "      <th>distance_in_metres</th>\n",
       "      <th>distance_decayed</th>\n",
       "    </tr>\n",
       "  </thead>\n",
       "  <tbody>\n",
       "    <tr>\n",
       "      <th>0</th>\n",
       "      <td>5.374171e-09</td>\n",
       "      <td>restaurants</td>\n",
       "      <td>0.034239</td>\n",
       "      <td>1.000000</td>\n",
       "    </tr>\n",
       "    <tr>\n",
       "      <th>216</th>\n",
       "      <td>4.935937e-06</td>\n",
       "      <td>restaurants</td>\n",
       "      <td>31.446854</td>\n",
       "      <td>1.000000</td>\n",
       "    </tr>\n",
       "    <tr>\n",
       "      <th>5618</th>\n",
       "      <td>1.594400e-05</td>\n",
       "      <td>restaurants</td>\n",
       "      <td>101.579218</td>\n",
       "      <td>0.999967</td>\n",
       "    </tr>\n",
       "    <tr>\n",
       "      <th>11303</th>\n",
       "      <td>1.614258e-05</td>\n",
       "      <td>grocery</td>\n",
       "      <td>102.844363</td>\n",
       "      <td>0.999965</td>\n",
       "    </tr>\n",
       "    <tr>\n",
       "      <th>5620</th>\n",
       "      <td>2.179708e-05</td>\n",
       "      <td>restaurants</td>\n",
       "      <td>138.869221</td>\n",
       "      <td>0.999842</td>\n",
       "    </tr>\n",
       "  </tbody>\n",
       "</table>\n",
       "</div>"
      ],
      "text/plain": [
       "           distance    amenities  distance_in_metres  distance_decayed\n",
       "0      5.374171e-09  restaurants            0.034239          1.000000\n",
       "216    4.935937e-06  restaurants           31.446854          1.000000\n",
       "5618   1.594400e-05  restaurants          101.579218          0.999967\n",
       "11303  1.614258e-05      grocery          102.844363          0.999965\n",
       "5620   2.179708e-05  restaurants          138.869221          0.999842"
      ]
     },
     "execution_count": 57,
     "metadata": {},
     "output_type": "execute_result"
    }
   ],
   "source": [
    "results_df.head()"
   ]
  },
  {
   "cell_type": "markdown",
   "id": "432aa691-3fc0-4d85-8907-b47c23807e37",
   "metadata": {},
   "source": [
    "# Weights"
   ]
  },
  {
   "cell_type": "code",
   "execution_count": 59,
   "id": "77dacfd1-0264-4193-8370-8ea59ef3d461",
   "metadata": {},
   "outputs": [],
   "source": [
    "amenity_weights = {\n",
    "\"grocery\": [3],\n",
    "\"restaurants\": [.75, .45, .25, .25, .225, .225, .225, .225, .2, .2],\n",
    "\"shopping\": [.5, .45, .4, .35, .3],\n",
    "\"coffee\": [1.25, .75],\n",
    "\"banks\": [1],\n",
    "\"parks\": [1],\n",
    "\"schools\": [1],\n",
    "\"books\": [1],\n",
    "\"entertainment\": [1],\n",
    "}"
   ]
  },
  {
   "cell_type": "code",
   "execution_count": 64,
   "id": "c9b7df53-d557-4b5d-b288-b86716ca35f8",
   "metadata": {},
   "outputs": [
    {
     "name": "stdout",
     "output_type": "stream",
     "text": [
      "grocery [3]\n",
      "1\n",
      "restaurants [0.75, 0.45, 0.25, 0.25, 0.225, 0.225, 0.225, 0.225, 0.2, 0.2]\n",
      "10\n",
      "shopping [0.5, 0.45, 0.4, 0.35, 0.3]\n",
      "5\n",
      "coffee [1.25, 0.75]\n",
      "2\n",
      "banks [1]\n",
      "1\n",
      "parks [1]\n",
      "1\n",
      "schools [1]\n",
      "1\n",
      "books [1]\n",
      "1\n",
      "entertainment [1]\n",
      "1\n"
     ]
    }
   ],
   "source": [
    "for key, values in amenity_weights.items():\n",
    "    print(key, values)\n",
    "    k = len(values)\n",
    "    print(k)"
   ]
  },
  {
   "cell_type": "markdown",
   "id": "c5bb5f57-be41-4247-8013-c8b49fecb102",
   "metadata": {},
   "source": [
    "## Calculate walk score, with vector multiplication"
   ]
  },
  {
   "cell_type": "code",
   "execution_count": 139,
   "id": "cae3f852-247e-4301-aec9-fba3d923e51f",
   "metadata": {},
   "outputs": [],
   "source": [
    "import numpy as np"
   ]
  },
  {
   "cell_type": "code",
   "execution_count": 250,
   "id": "4b14a193-3b31-4083-8d13-80280b0dd4c9",
   "metadata": {},
   "outputs": [],
   "source": [
    "def process_results_df(distance_series):\n",
    "    results_df = pd.DataFrame(distance_series)\n",
    "\n",
    "    results_df = results_df.join(pois_df['amenities'], how='left')\n",
    "\n",
    "    results_df['distance_in_metres'] = results_df['distance'].apply(lambda x: x * earth_radius)\n",
    "\n",
    "    results_df['distance_decayed'] = results_df['distance_in_metres'].apply(lambda x: float(distance_decay(x)))\n",
    "\n",
    "    return results_df"
   ]
  },
  {
   "cell_type": "code",
   "execution_count": 251,
   "id": "675cc08d-0184-4745-80f0-ce59074e6620",
   "metadata": {},
   "outputs": [],
   "source": [
    "def calculate_amenity_walk_score(property_distance_df, amenity, weights):\n",
    "    k = len(weights)\n",
    "    weight_array = np.array(weights)\n",
    "    \n",
    "    dist_array = property_distance_df[property_distance_df['amenities'] == amenity].iloc[0:k]['distance_decayed'].values\n",
    "    dist_array_padded = np.pad(dist_array, (0, weight_array.size - dist_array.size), 'constant')\n",
    "\n",
    "    scores_array = dist_array_padded * weight_array\n",
    "\n",
    "    amenity_score = scores_array.sum()\n",
    "\n",
    "    return amenity_score"
   ]
  },
  {
   "cell_type": "code",
   "execution_count": 298,
   "id": "0db198d7-7f7a-4f25-9d10-ab62f633cd7e",
   "metadata": {},
   "outputs": [],
   "source": [
    "def calculuate_walk_score(property):\n",
    "\n",
    "    property_id = property['id']\n",
    "    latitude = property['location']['latitude']\n",
    "    longitude = property['location']['longitude']\n",
    "\n",
    "    radian_longitude = radians(longitude)\n",
    "    radian_latitude = radians(latitude)\n",
    "\n",
    "    k = 100 # Maximum number of amenities to return\n",
    "\n",
    "    distances, indices = ball_tree.query([[radian_longitude, radian_latitude]], k=k, return_distance  = True)\n",
    "\n",
    "    dist_series = pd.Series(distances[0], index=indices[0], name='distance')\n",
    "\n",
    "    results_df = process_results_df(dist_series)\n",
    "\n",
    "    # print(results_df)\n",
    "\n",
    "    scores_dict = {}\n",
    "\n",
    "    \n",
    "    walk_score = 0\n",
    "    \n",
    "    for key, values in amenity_weights.items():\n",
    "    \n",
    "        amenity_score = calculate_amenity_walk_score(results_df, key, values)\n",
    "    \n",
    "        scores_dict[key] = amenity_score\n",
    "\n",
    "    return scores_dict"
   ]
  },
  {
   "cell_type": "code",
   "execution_count": 299,
   "id": "9d3bb700-64db-4da6-a5d0-8440f01f9ee9",
   "metadata": {},
   "outputs": [
    {
     "ename": "NameError",
     "evalue": "name 'scores_df' is not defined",
     "output_type": "error",
     "traceback": [
      "\u001b[0;31m---------------------------------------------------------------------------\u001b[0m",
      "\u001b[0;31mNameError\u001b[0m                                 Traceback (most recent call last)",
      "Cell \u001b[0;32mIn[299], line 1\u001b[0m\n\u001b[0;32m----> 1\u001b[0m \u001b[43mscores_df\u001b[49m\n",
      "\u001b[0;31mNameError\u001b[0m: name 'scores_df' is not defined"
     ]
    }
   ],
   "source": [
    "scores_df"
   ]
  },
  {
   "cell_type": "markdown",
   "id": "407455f7-ba51-4cea-8eff-2b0b8d410617",
   "metadata": {},
   "source": [
    "### Test"
   ]
  },
  {
   "cell_type": "code",
   "execution_count": 300,
   "id": "8737b656-f71b-42c9-84c4-9f6a76a54816",
   "metadata": {},
   "outputs": [],
   "source": [
    "property = {\n",
    "    \"location\": {\n",
    "        \"latitude\": 51.602032,\n",
    "        \"longitude\": -0.193503\n",
    "    },\n",
    "    \"id\": 12345\n",
    "}"
   ]
  },
  {
   "cell_type": "code",
   "execution_count": 301,
   "id": "bc851821-f89e-48af-b36c-06500ca2a7cb",
   "metadata": {},
   "outputs": [
    {
     "data": {
      "text/plain": [
       "{'location': {'latitude': 51.602032, 'longitude': -0.193503}, 'id': 12345}"
      ]
     },
     "execution_count": 301,
     "metadata": {},
     "output_type": "execute_result"
    }
   ],
   "source": [
    "property"
   ]
  },
  {
   "cell_type": "code",
   "execution_count": 302,
   "id": "421f1dc9-a1ac-428c-a2b4-27bee781d0e1",
   "metadata": {},
   "outputs": [],
   "source": [
    "scores_dict = calculuate_walk_score(property)"
   ]
  },
  {
   "cell_type": "code",
   "execution_count": 309,
   "id": "6c8891ef-97b9-4964-ad62-9dc77fa9f338",
   "metadata": {},
   "outputs": [
    {
     "data": {
      "text/plain": [
       "78.01155246151885"
      ]
     },
     "execution_count": 309,
     "metadata": {},
     "output_type": "execute_result"
    }
   ],
   "source": [
    "sum(scores_dict.values()) * 6.67"
   ]
  },
  {
   "cell_type": "code",
   "execution_count": null,
   "id": "e26c2f7a-df66-499b-b38f-36b58f1d809f",
   "metadata": {},
   "outputs": [],
   "source": [
    "[key, value"
   ]
  },
  {
   "cell_type": "markdown",
   "id": "18514cdc-ed87-493a-ae45-865f3c705699",
   "metadata": {},
   "source": [
    "# Speed test"
   ]
  },
  {
   "cell_type": "markdown",
   "id": "73c2d7a9-d382-41f9-ad62-cb31f233b65f",
   "metadata": {},
   "source": [
    "## Connect to Mongo DB"
   ]
  },
  {
   "cell_type": "code",
   "execution_count": 259,
   "id": "71e142cc-a1bc-4a89-8e63-714595e0d798",
   "metadata": {},
   "outputs": [],
   "source": [
    "from pymongo import MongoClient\n",
    "\n",
    "client = MongoClient(\"mongodb://localhost:27017/\") # Hosted with Docker"
   ]
  },
  {
   "cell_type": "code",
   "execution_count": 260,
   "id": "cdc11c50-8469-46dd-a287-5ada0dff0461",
   "metadata": {},
   "outputs": [],
   "source": [
    "db = client[\"rightmove\"]\n",
    "\n",
    "# Access collection\n",
    "collection = db[\"properties\"]"
   ]
  },
  {
   "cell_type": "markdown",
   "id": "b50dbe06-a071-4d22-8794-db0b566c34c2",
   "metadata": {},
   "source": [
    "#### Fetch 1000 properties"
   ]
  },
  {
   "cell_type": "code",
   "execution_count": 262,
   "id": "d3d6a091-48d2-4e4f-bfa3-7fa3661f09be",
   "metadata": {},
   "outputs": [],
   "source": [
    "fields = {'id': 1, 'location': 1}  # fields to include (1) or exclude (0)\n",
    "query = {}\n",
    "\n",
    "# Fetch data from the collection\n",
    "data = collection.find(query, fields).limit(1000)\n",
    "\n",
    "# Convert to Pandas DataFrame\n",
    "df = pd.DataFrame(list(data))"
   ]
  },
  {
   "cell_type": "code",
   "execution_count": 265,
   "id": "085bf09c-7c88-440f-bfc6-3a9837760352",
   "metadata": {},
   "outputs": [
    {
     "data": {
      "text/html": [
       "<div>\n",
       "<style scoped>\n",
       "    .dataframe tbody tr th:only-of-type {\n",
       "        vertical-align: middle;\n",
       "    }\n",
       "\n",
       "    .dataframe tbody tr th {\n",
       "        vertical-align: top;\n",
       "    }\n",
       "\n",
       "    .dataframe thead th {\n",
       "        text-align: right;\n",
       "    }\n",
       "</style>\n",
       "<table border=\"1\" class=\"dataframe\">\n",
       "  <thead>\n",
       "    <tr style=\"text-align: right;\">\n",
       "      <th></th>\n",
       "      <th>_id</th>\n",
       "      <th>id</th>\n",
       "      <th>location</th>\n",
       "    </tr>\n",
       "  </thead>\n",
       "  <tbody>\n",
       "    <tr>\n",
       "      <th>0</th>\n",
       "      <td>656dfa586037a12e52f660b6</td>\n",
       "      <td>142473758</td>\n",
       "      <td>{'latitude': 57.156601, 'longitude': -2.10075}</td>\n",
       "    </tr>\n",
       "    <tr>\n",
       "      <th>1</th>\n",
       "      <td>656dfa586037a12e52f660b7</td>\n",
       "      <td>86375754</td>\n",
       "      <td>{'latitude': 57.16631, 'longitude': -2.11688}</td>\n",
       "    </tr>\n",
       "    <tr>\n",
       "      <th>2</th>\n",
       "      <td>656dfa586037a12e52f660b8</td>\n",
       "      <td>141848477</td>\n",
       "      <td>{'latitude': 57.15214, 'longitude': -2.0856}</td>\n",
       "    </tr>\n",
       "    <tr>\n",
       "      <th>3</th>\n",
       "      <td>656dfa586037a12e52f660b9</td>\n",
       "      <td>142066406</td>\n",
       "      <td>{'latitude': 57.14584, 'longitude': -2.098261}</td>\n",
       "    </tr>\n",
       "    <tr>\n",
       "      <th>4</th>\n",
       "      <td>656dfa586037a12e52f660ba</td>\n",
       "      <td>142557041</td>\n",
       "      <td>{'latitude': 57.15393, 'longitude': -2.09585}</td>\n",
       "    </tr>\n",
       "    <tr>\n",
       "      <th>...</th>\n",
       "      <td>...</td>\n",
       "      <td>...</td>\n",
       "      <td>...</td>\n",
       "    </tr>\n",
       "    <tr>\n",
       "      <th>995</th>\n",
       "      <td>656dfa8d6037a12e52f66499</td>\n",
       "      <td>142627973</td>\n",
       "      <td>{'latitude': 52.609923, 'longitude': -1.835996}</td>\n",
       "    </tr>\n",
       "    <tr>\n",
       "      <th>996</th>\n",
       "      <td>656dfa8d6037a12e52f6649a</td>\n",
       "      <td>142627952</td>\n",
       "      <td>{'latitude': 52.575893, 'longitude': -1.878751}</td>\n",
       "    </tr>\n",
       "    <tr>\n",
       "      <th>997</th>\n",
       "      <td>656dfa8d6037a12e52f6649b</td>\n",
       "      <td>142627976</td>\n",
       "      <td>{'latitude': 52.579851, 'longitude': -1.901134}</td>\n",
       "    </tr>\n",
       "    <tr>\n",
       "      <th>998</th>\n",
       "      <td>656dfa8d6037a12e52f6649c</td>\n",
       "      <td>142628000</td>\n",
       "      <td>{'latitude': 52.550468, 'longitude': -1.857056}</td>\n",
       "    </tr>\n",
       "    <tr>\n",
       "      <th>999</th>\n",
       "      <td>656dfa8d6037a12e52f6649d</td>\n",
       "      <td>142628012</td>\n",
       "      <td>{'latitude': 52.549908, 'longitude': -1.844977}</td>\n",
       "    </tr>\n",
       "  </tbody>\n",
       "</table>\n",
       "<p>1000 rows × 3 columns</p>\n",
       "</div>"
      ],
      "text/plain": [
       "                          _id         id  \\\n",
       "0    656dfa586037a12e52f660b6  142473758   \n",
       "1    656dfa586037a12e52f660b7   86375754   \n",
       "2    656dfa586037a12e52f660b8  141848477   \n",
       "3    656dfa586037a12e52f660b9  142066406   \n",
       "4    656dfa586037a12e52f660ba  142557041   \n",
       "..                        ...        ...   \n",
       "995  656dfa8d6037a12e52f66499  142627973   \n",
       "996  656dfa8d6037a12e52f6649a  142627952   \n",
       "997  656dfa8d6037a12e52f6649b  142627976   \n",
       "998  656dfa8d6037a12e52f6649c  142628000   \n",
       "999  656dfa8d6037a12e52f6649d  142628012   \n",
       "\n",
       "                                            location  \n",
       "0     {'latitude': 57.156601, 'longitude': -2.10075}  \n",
       "1      {'latitude': 57.16631, 'longitude': -2.11688}  \n",
       "2       {'latitude': 57.15214, 'longitude': -2.0856}  \n",
       "3     {'latitude': 57.14584, 'longitude': -2.098261}  \n",
       "4      {'latitude': 57.15393, 'longitude': -2.09585}  \n",
       "..                                               ...  \n",
       "995  {'latitude': 52.609923, 'longitude': -1.835996}  \n",
       "996  {'latitude': 52.575893, 'longitude': -1.878751}  \n",
       "997  {'latitude': 52.579851, 'longitude': -1.901134}  \n",
       "998  {'latitude': 52.550468, 'longitude': -1.857056}  \n",
       "999  {'latitude': 52.549908, 'longitude': -1.844977}  \n",
       "\n",
       "[1000 rows x 3 columns]"
      ]
     },
     "execution_count": 265,
     "metadata": {},
     "output_type": "execute_result"
    }
   ],
   "source": [
    "df"
   ]
  },
  {
   "cell_type": "code",
   "execution_count": 313,
   "id": "1c4fc104-e316-480a-92cc-e66f49bfae6a",
   "metadata": {},
   "outputs": [
    {
     "name": "stdout",
     "output_type": "stream",
     "text": [
      "CPU times: user 1.78 s, sys: 26.7 ms, total: 1.81 s\n",
      "Wall time: 1.84 s\n"
     ]
    }
   ],
   "source": [
    "%%time\n",
    "properties_processed = []\n",
    "for row in df.itertuples():\n",
    "    index = row.Index\n",
    "    property = {\n",
    "        \"id\": row.id,\n",
    "        \"location\": row.location\n",
    "    }\n",
    "    scores_dict = calculuate_walk_score(property)\n",
    "    walk_score = sum(scores_dict.values()) * 6.67\n",
    "    scores_dict['walk_score'] = walk_score\n",
    "\n",
    "    property['scores'] = scores_dict\n",
    "    properties_processed.append(property)"
   ]
  },
  {
   "cell_type": "code",
   "execution_count": null,
   "id": "d69822a7-2074-4fb8-b166-c23bb5cc7527",
   "metadata": {},
   "outputs": [],
   "source": [
    "properties_processed"
   ]
  },
  {
   "cell_type": "code",
   "execution_count": null,
   "id": "d18944cf-c02c-499f-b34a-90847bfd07ad",
   "metadata": {},
   "outputs": [],
   "source": []
  }
 ],
 "metadata": {
  "kernelspec": {
   "display_name": "Python 3 (ipykernel)",
   "language": "python",
   "name": "python3"
  },
  "language_info": {
   "codemirror_mode": {
    "name": "ipython",
    "version": 3
   },
   "file_extension": ".py",
   "mimetype": "text/x-python",
   "name": "python",
   "nbconvert_exporter": "python",
   "pygments_lexer": "ipython3",
   "version": "3.11.4"
  }
 },
 "nbformat": 4,
 "nbformat_minor": 5
}

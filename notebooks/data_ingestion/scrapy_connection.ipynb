{
 "cells": [
  {
   "cell_type": "markdown",
   "id": "5e5492f1-7a93-4509-a5d6-99ac7c56dadb",
   "metadata": {},
   "source": [
    "This notebook is to test the integration with scrapyd to scehdule runs."
   ]
  },
  {
   "cell_type": "code",
   "execution_count": 1,
   "id": "f53b22b9-f901-4000-bc8b-822f87abb6e2",
   "metadata": {},
   "outputs": [],
   "source": [
    "import requests"
   ]
  },
  {
   "cell_type": "code",
   "execution_count": 2,
   "id": "bdfd9578-2d5d-4a08-a51c-e919a93774ba",
   "metadata": {},
   "outputs": [],
   "source": [
    "spider = \"rightmove\"\n",
    "project = \"rightmove_scraper\""
   ]
  },
  {
   "cell_type": "markdown",
   "id": "e5fb7732-c1ef-45a4-83d4-118818da84ed",
   "metadata": {},
   "source": [
    "## Schedule job"
   ]
  },
  {
   "cell_type": "code",
   "execution_count": 15,
   "id": "5268cded-e321-4c5d-a11d-228cc52615b6",
   "metadata": {},
   "outputs": [
    {
     "name": "stdout",
     "output_type": "stream",
     "text": [
      "{\"node_name\": \"d9198cfc8c27\", \"status\": \"ok\", \"jobid\": \"c3fc2a8a936b11eebe730242ac1b0006\"}\n",
      "\n",
      "Request successful\n",
      "Job started\n"
     ]
    }
   ],
   "source": [
    "SCRAPYD_ENDPOINT = \"http://localhost:6800/schedule.json\"\n",
    "\n",
    "spider = \"rightmove\"\n",
    "project = \"rightmove_scraper\"\n",
    "payload = f\"project={project}&spider={spider}\"\n",
    "headers = {\n",
    "    'Content-Type': 'application/x-www-form-urlencoded'\n",
    "}\n",
    "\n",
    "response = requests.request(\"POST\", SCRAPYD_ENDPOINT, headers=headers, data=payload)\n",
    "\n",
    "print(response.text)\n",
    "if response.status_code == 200:\n",
    "    print(\"Request successful\")\n",
    "    if response.json()['status'] == 'ok':\n",
    "        print(\"Job started\")\n",
    "        job_id = response.json()['jobid']\n",
    "else:\n",
    "    print(response.text)\n",
    "    raise ValueError(\"Request failed\")"
   ]
  },
  {
   "cell_type": "code",
   "execution_count": 16,
   "id": "2ea697a8-f1b1-4c34-8759-8457ed6001f8",
   "metadata": {},
   "outputs": [
    {
     "data": {
      "text/plain": [
       "'c3fc2a8a936b11eebe730242ac1b0006'"
      ]
     },
     "execution_count": 16,
     "metadata": {},
     "output_type": "execute_result"
    }
   ],
   "source": [
    "job_id"
   ]
  },
  {
   "cell_type": "markdown",
   "id": "cf474c91-356f-4d90-8765-85564cb3266d",
   "metadata": {},
   "source": [
    "## Check job"
   ]
  },
  {
   "cell_type": "code",
   "execution_count": 17,
   "id": "c7152ebb-c49e-4b6f-812c-82c425a2794c",
   "metadata": {},
   "outputs": [
    {
     "name": "stdout",
     "output_type": "stream",
     "text": [
      "{\"node_name\": \"d9198cfc8c27\", \"status\": \"ok\", \"pending\": [], \"running\": [{\"project\": \"rightmove_scraper\", \"spider\": \"rightmove\", \"id\": \"c3fc2a8a936b11eebe730242ac1b0006\", \"pid\": 45, \"start_time\": \"2023-12-05 12:42:39.979369\"}], \"finished\": [{\"project\": \"rightmove_scraper\", \"spider\": \"rightmove\", \"id\": \"cddc3cf8936a11eebe730242ac1b0006\", \"start_time\": \"2023-12-05 12:35:44.985567\", \"end_time\": \"2023-12-05 12:37:23.300061\", \"log_url\": \"/logs/rightmove_scraper/rightmove/cddc3cf8936a11eebe730242ac1b0006.log\", \"items_url\": \"/items/rightmove_scraper/rightmove/cddc3cf8936a11eebe730242ac1b0006.jl\"}, {\"project\": \"rightmove_scraper\", \"spider\": \"rightmove\", \"id\": \"93ae7428936b11eebe730242ac1b0006\", \"start_time\": \"2023-12-05 12:41:15.135047\", \"end_time\": \"2023-12-05 12:42:13.706062\", \"log_url\": \"/logs/rightmove_scraper/rightmove/93ae7428936b11eebe730242ac1b0006.log\", \"items_url\": \"/items/rightmove_scraper/rightmove/93ae7428936b11eebe730242ac1b0006.jl\"}]}\n",
      "\n"
     ]
    }
   ],
   "source": [
    "import requests\n",
    "\n",
    "url = f\"http://localhost:6800/listjobs.json?project={project}\"\n",
    "\n",
    "payload = {}\n",
    "headers = {}\n",
    "\n",
    "response = requests.request(\"GET\", url, headers=headers, data=payload)\n",
    "\n",
    "print(response.text)"
   ]
  },
  {
   "cell_type": "markdown",
   "id": "93ec794d-9cc7-44bb-905a-4650404eeeb0",
   "metadata": {},
   "source": [
    "## Cancel Job"
   ]
  },
  {
   "cell_type": "code",
   "execution_count": 18,
   "id": "60c90559-2f28-4d7a-aa12-f601ba6ec8bd",
   "metadata": {},
   "outputs": [
    {
     "name": "stdout",
     "output_type": "stream",
     "text": [
      "{\"node_name\": \"d9198cfc8c27\", \"status\": \"ok\", \"prevstate\": \"running\"}\n",
      "\n",
      "Request successful\n"
     ]
    }
   ],
   "source": [
    "SCRAPYD_ENDPOINT = \"http://localhost:6800/cancel.json\"\n",
    "\n",
    "spider = \"rightmove\"\n",
    "project = \"rightmove_scraper\"\n",
    "job_id = \"c3fc2a8a936b11eebe730242ac1b0006\"\n",
    "payload = f\"project={project}&job={job_id}\"\n",
    "headers = {\n",
    "    'Content-Type': 'application/x-www-form-urlencoded'\n",
    "}\n",
    "\n",
    "response = requests.request(\"POST\", SCRAPYD_ENDPOINT, headers=headers, data=payload)\n",
    "\n",
    "print(response.text)\n",
    "if response.status_code == 200:\n",
    "    print(\"Request successful\")\n",
    "else:\n",
    "    print(response.text)\n",
    "    raise ValueError(\"Request failed\")"
   ]
  },
  {
   "cell_type": "code",
   "execution_count": null,
   "id": "b44e1572-9bc0-4e57-be99-6b25c15201a7",
   "metadata": {},
   "outputs": [],
   "source": []
  }
 ],
 "metadata": {
  "kernelspec": {
   "display_name": "Python 3 (ipykernel)",
   "language": "python",
   "name": "python3"
  },
  "language_info": {
   "codemirror_mode": {
    "name": "ipython",
    "version": 3
   },
   "file_extension": ".py",
   "mimetype": "text/x-python",
   "name": "python",
   "nbconvert_exporter": "python",
   "pygments_lexer": "ipython3",
   "version": "3.11.4"
  }
 },
 "nbformat": 4,
 "nbformat_minor": 5
}

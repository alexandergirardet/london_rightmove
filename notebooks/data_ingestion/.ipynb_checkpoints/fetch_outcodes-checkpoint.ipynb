{
 "cells": [
  {
   "cell_type": "code",
   "execution_count": 5,
   "id": "7995756c-fe5f-48d9-8512-d797b73e5157",
   "metadata": {},
   "outputs": [],
   "source": [
    "from selenium import webdriver\n",
    "from selenium.webdriver.common.keys import Keys\n",
    "from selenium.webdriver.common.by import By\n",
    "\n",
    "import pandas as pd\n",
    "import re"
   ]
  },
  {
   "cell_type": "code",
   "execution_count": null,
   "id": "f9e3c5c5-bcad-4d4b-bdc9-0a43adbfd444",
   "metadata": {},
   "outputs": [],
   "source": [
    "# Function that returns right ID for a given outcode\n",
    "def get_outcode_value(postcode, driver):\n",
    "    driver.get(\"https://www.rightmove.co.uk/property-to-rent.html\")\n",
    "    input_box = driver.find_element(By.XPATH, '//*[@id=\"searchLocation\"]')\n",
    "    input_box.send_keys(postcode)\n",
    "    search_box = driver.find_element(By.XPATH, '//*[@id=\"search\"]')\n",
    "    search_box.click()\n",
    "    \n",
    "    try:\n",
    "        submit = driver.find_element(By.ID, \"submit\")\n",
    "        submit.click()\n",
    "        url = driver.current_url\n",
    "        outcode_value = re.findall(\"(?<=locationIdentifier=OUTCODE%5E)(.*)(?=&insId)\", url)[0]\n",
    "    except:\n",
    "        header_title = driver.find_element(By.ID, \"headerTitle\")\n",
    "        outcode_value = None\n",
    "    \n",
    "        \n",
    "    return outcode_value\n",
    "\n",
    "# Function to fetch currently loaded outcodes in case selenium crashed\n",
    "def fetch_current_rightmove_outcodes(cursor):\n",
    "    cursor.execute(\"SELECT outcode FROM rightmove_outcodes\")\n",
    "    fetched_outcodes = cursor.fetchall()\n",
    "    outcode_list = [x[0] for x in fetched_outcodes]\n",
    "\n",
    "    return outcode_list"
   ]
  },
  {
   "cell_type": "code",
   "execution_count": null,
   "id": "adcf7674-49d6-4c70-991c-6f9463e11782",
   "metadata": {},
   "outputs": [],
   "source": [
    "def fetch_outcodes(df, cursor, driver):\n",
    "    for row in df.itertuples():\n",
    "        outcode = row.postcode\n",
    "        index = row.Index\n",
    "        \n",
    "        if outcode not in current_outcodes:\n",
    "            outcode_value = get_outcode_value(outcode, driver)\n",
    "            \n",
    "            if outcode_value is not None:\n",
    "\n",
    "                transaction = \"INSERT IGNORE INTO rightmove_outcodes(outcode, rightmove_code) VALUES ('{}', {});\".format(\n",
    "                outcode, outcode_value)\n",
    "\n",
    "                cursor.execute(transaction)\n",
    "\n",
    "                con.commit()\n",
    "            else:\n",
    "                pass\n",
    "        else:\n",
    "            pass"
   ]
  },
  {
   "cell_type": "code",
   "execution_count": null,
   "id": "76829d13-b123-4c27-88b5-c516e5fac8a1",
   "metadata": {},
   "outputs": [],
   "source": [
    "def run():\n",
    "    driver = webdriver.Firefox()\n",
    "\n",
    "    current_outcodes = fetch_current_rightmove_outcodes(driver)\n",
    "\n",
    "    # Load UK outcode csv file into pandas\n",
    "    df = pd.read_csv(\"../../data/outcodes.csv\", index_col=0)\n",
    "\n",
    "    fetch_outcodes(df, cursor, driver) "
   ]
  },
  {
   "cell_type": "code",
   "execution_count": null,
   "id": "281a6c10-cf5d-488a-82d5-f5ef567b2179",
   "metadata": {},
   "outputs": [],
   "source": [
    "import os\n",
    "gecko_path = os.path.expanduser('~/Downloads/geckodriver')\n",
    "driver = webdriver.Firefox(executable_path=gecko_path)\n",
    "\n",
    "driver.get(\"https://www.rightmove.co.uk/property-to-rent.html\")\n",
    "\n",
    "input_box = driver.find_element(By.XPATH, '//*[@id=\"searchLocation\"]')\n",
    "input_box.send_keys(postcode)\n",
    "search_box = driver.find_element(By.XPATH, '//*[@id=\"search\"]')\n",
    "search_box.click()"
   ]
  },
  {
   "cell_type": "code",
   "execution_count": null,
   "id": "a842cd6d-42df-47f4-89a0-a43f33c429d9",
   "metadata": {},
   "outputs": [],
   "source": []
  }
 ],
 "metadata": {
  "kernelspec": {
   "display_name": "Python 3 (ipykernel)",
   "language": "python",
   "name": "python3"
  },
  "language_info": {
   "codemirror_mode": {
    "name": "ipython",
    "version": 3
   },
   "file_extension": ".py",
   "mimetype": "text/x-python",
   "name": "python",
   "nbconvert_exporter": "python",
   "pygments_lexer": "ipython3",
   "version": "3.11.4"
  }
 },
 "nbformat": 4,
 "nbformat_minor": 5
}

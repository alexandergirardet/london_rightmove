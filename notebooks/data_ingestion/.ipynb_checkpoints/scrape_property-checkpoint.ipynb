{
 "cells": [
  {
   "cell_type": "code",
   "execution_count": 2,
   "id": "2eed98b7-a513-4b57-b1dd-1b5149dc8db6",
   "metadata": {},
   "outputs": [],
   "source": [
    "import requests\n",
    "import pandas as pd\n",
    "from bs4 import BeautifulSoup"
   ]
  },
  {
   "cell_type": "markdown",
   "id": "c502d0a4-9527-4ee0-b921-79fe1e25a4fa",
   "metadata": {},
   "source": [
    "# Rightmove outcodes"
   ]
  },
  {
   "cell_type": "markdown",
   "id": "e91c6054-b3f2-4feb-97dc-b31c03060111",
   "metadata": {},
   "source": [
    "Rightmove has a unique ID for each outcode. I had to use Selenium to scrape them and downloaded them into a csv file."
   ]
  },
  {
   "cell_type": "code",
   "execution_count": 3,
   "id": "382b4a97-a42c-493e-a32b-57dff0916383",
   "metadata": {},
   "outputs": [],
   "source": [
    "df = pd.read_csv(\"/Users/alexander.girardet/Code/Personal/projects/rightmove_project/notebooks/resources/data/rightmove_outcodes.csv\", index_col=0)"
   ]
  },
  {
   "cell_type": "code",
   "execution_count": 4,
   "id": "f0f1a862-bba5-4fcc-a626-7a7959894585",
   "metadata": {},
   "outputs": [
    {
     "data": {
      "text/html": [
       "<div>\n",
       "<style scoped>\n",
       "    .dataframe tbody tr th:only-of-type {\n",
       "        vertical-align: middle;\n",
       "    }\n",
       "\n",
       "    .dataframe tbody tr th {\n",
       "        vertical-align: top;\n",
       "    }\n",
       "\n",
       "    .dataframe thead th {\n",
       "        text-align: right;\n",
       "    }\n",
       "</style>\n",
       "<table border=\"1\" class=\"dataframe\">\n",
       "  <thead>\n",
       "    <tr style=\"text-align: right;\">\n",
       "      <th></th>\n",
       "      <th>outcode</th>\n",
       "      <th>rightmove_code</th>\n",
       "    </tr>\n",
       "  </thead>\n",
       "  <tbody>\n",
       "    <tr>\n",
       "      <th>0</th>\n",
       "      <td>AB10</td>\n",
       "      <td>1</td>\n",
       "    </tr>\n",
       "    <tr>\n",
       "      <th>1</th>\n",
       "      <td>AB11</td>\n",
       "      <td>2</td>\n",
       "    </tr>\n",
       "    <tr>\n",
       "      <th>2</th>\n",
       "      <td>AB12</td>\n",
       "      <td>3</td>\n",
       "    </tr>\n",
       "    <tr>\n",
       "      <th>3</th>\n",
       "      <td>AB13</td>\n",
       "      <td>4</td>\n",
       "    </tr>\n",
       "    <tr>\n",
       "      <th>4</th>\n",
       "      <td>AB14</td>\n",
       "      <td>5</td>\n",
       "    </tr>\n",
       "  </tbody>\n",
       "</table>\n",
       "</div>"
      ],
      "text/plain": [
       "  outcode  rightmove_code\n",
       "0    AB10               1\n",
       "1    AB11               2\n",
       "2    AB12               3\n",
       "3    AB13               4\n",
       "4    AB14               5"
      ]
     },
     "execution_count": 4,
     "metadata": {},
     "output_type": "execute_result"
    }
   ],
   "source": [
    "df.head()"
   ]
  },
  {
   "cell_type": "markdown",
   "id": "b3c149f1-2177-4cd3-826f-9f100bb4318c",
   "metadata": {},
   "source": [
    "# Query"
   ]
  },
  {
   "cell_type": "markdown",
   "id": "5fa00a39-3777-4e26-a1ad-a46054dd3b96",
   "metadata": {},
   "source": [
    "## Headers for the request to be authenticated."
   ]
  },
  {
   "cell_type": "code",
   "execution_count": 5,
   "id": "f3f0828c-d7f3-429d-b80b-640bb55fd65d",
   "metadata": {},
   "outputs": [],
   "source": [
    "headers = {\n",
    "            'Accept': 'application/json, text/plain, */*',\n",
    "            'Accept-Language': 'en-GB,en-US;q=0.9,en;q=0.8',\n",
    "            'Connection': 'keep-alive',\n",
    "            'Referer': 'https://www.rightmove.co.uk/property-to-rent/find.html?locationIdentifier=REGION%5E87490&index=24&propertyTypes=&includeLetAgreed=false&mustHave=&dontShow=&furnishTypes=&keywords=',\n",
    "            'Sec-Fetch-Dest': 'empty',\n",
    "            'Sec-Fetch-Mode': 'cors',\n",
    "            'Sec-Fetch-Site': 'same-origin',\n",
    "            'User-Agent': 'Mozilla/5.0 (Macintosh; Intel Mac OS X 10_15_7) AppleWebKit/537.36 (KHTML, like Gecko) Chrome/100.0.4896.88 Safari/537.36',\n",
    "            'sec-ch-ua': '\" Not A;Brand\";v=\"99\", \"Chromium\";v=\"100\", \"Google Chrome\";v=\"100\"',\n",
    "            'sec-ch-ua-mobile': '?0',\n",
    "            'sec-ch-ua-platform': '\"macOS\"'\n",
    "        }"
   ]
  },
  {
   "cell_type": "markdown",
   "id": "5295d191-0583-4d81-a97b-a66fa907a0a3",
   "metadata": {},
   "source": [
    "## Request properties in a postcode."
   ]
  },
  {
   "cell_type": "code",
   "execution_count": 6,
   "id": "b877a395-5165-4345-8a82-fce5dc8adda6",
   "metadata": {},
   "outputs": [],
   "source": [
    "rightmove_code = df.iloc[0].rightmove_code\n",
    "\n",
    "index_jump = 0\n",
    "\n",
    "url = f\"https://www.rightmove.co.uk/api/_search?locationIdentifier=OUTCODE%5E{rightmove_code}&numberOfPropertiesPerPage=24&radius=10.0&sortType=6&index={index_jump}&includeLetAgreed=false&viewType=LIST&channel=RENT&areaSizeUnit=sqft&currencyCode=GBP&isFetching=false\""
   ]
  },
  {
   "cell_type": "code",
   "execution_count": 7,
   "id": "1d64ce35-a0db-4110-838f-b2b5b80cba1e",
   "metadata": {},
   "outputs": [],
   "source": [
    "res = requests.get(url, headers=headers)"
   ]
  },
  {
   "cell_type": "code",
   "execution_count": 8,
   "id": "82fc6efa-b482-40e7-b4db-47def831f487",
   "metadata": {},
   "outputs": [],
   "source": [
    "properties = res.json()['properties']"
   ]
  },
  {
   "cell_type": "code",
   "execution_count": 9,
   "id": "cbfc9a1b-bb1f-4ce2-a9a0-84da3b9cd81c",
   "metadata": {},
   "outputs": [
    {
     "data": {
      "text/plain": [
       "25"
      ]
     },
     "execution_count": 9,
     "metadata": {},
     "output_type": "execute_result"
    }
   ],
   "source": [
    "len(properties)"
   ]
  },
  {
   "cell_type": "markdown",
   "id": "a45ac30d-9cb7-4423-96a6-ad3700e1e5bf",
   "metadata": {},
   "source": [
    "Returns 25 properties per page."
   ]
  },
  {
   "cell_type": "markdown",
   "id": "6fd755b1-1a60-4aec-a728-1f47d4d5e28a",
   "metadata": {},
   "source": [
    "## Extract content for a property"
   ]
  },
  {
   "cell_type": "code",
   "execution_count": 70,
   "id": "52ed9da3-9c37-406f-b60c-6c8aa29c78bc",
   "metadata": {},
   "outputs": [],
   "source": [
    "property = properties[2]\n",
    "property_id = property['id']"
   ]
  },
  {
   "cell_type": "code",
   "execution_count": 71,
   "id": "8401e488-6fca-4f35-9811-5fb68384e333",
   "metadata": {},
   "outputs": [],
   "source": [
    "property_url = f\"https://www.rightmove.co.uk/properties/{property_id}\""
   ]
  },
  {
   "cell_type": "code",
   "execution_count": 72,
   "id": "db325111-ef15-4751-bf76-ee8c5d57c48f",
   "metadata": {},
   "outputs": [
    {
     "data": {
      "text/plain": [
       "'https://www.rightmove.co.uk/properties/142659089'"
      ]
     },
     "execution_count": 72,
     "metadata": {},
     "output_type": "execute_result"
    }
   ],
   "source": [
    "property_url"
   ]
  },
  {
   "cell_type": "code",
   "execution_count": 73,
   "id": "4509e3ca-db7d-4735-9c7b-16c8fce3dd09",
   "metadata": {},
   "outputs": [],
   "source": [
    "property_res = requests.get(property_url, headers=headers)"
   ]
  },
  {
   "cell_type": "markdown",
   "id": "ad5fd62a-8fd0-47c8-aba4-6f21c2eaee5d",
   "metadata": {},
   "source": [
    "## BeautifulSoup HTML parsing"
   ]
  },
  {
   "cell_type": "code",
   "execution_count": 74,
   "id": "bc18d004-d0c2-4180-8aed-11fb16e445aa",
   "metadata": {},
   "outputs": [],
   "source": [
    "soup = BeautifulSoup(property_res.text, 'lxml')"
   ]
  },
  {
   "cell_type": "code",
   "execution_count": 75,
   "id": "8b04845d-16cf-4a43-9fed-1a5ad220b903",
   "metadata": {},
   "outputs": [],
   "source": [
    "summary = soup.find(\"div\", {\"class\": \"OD0O7FWw1TjbTD4sdRi1_\"}).div.text"
   ]
  },
  {
   "cell_type": "code",
   "execution_count": 76,
   "id": "bf17e7f7-b5b4-4dfe-b695-6abcf316b762",
   "metadata": {},
   "outputs": [],
   "source": [
    "uls = soup.find(\"ul\", {\"class\": \"_1uI3IvdF5sIuBtRIvKrreQ\"})"
   ]
  },
  {
   "cell_type": "code",
   "execution_count": 77,
   "id": "2509be1f-2042-4925-9343-570d364a6723",
   "metadata": {},
   "outputs": [],
   "source": [
    "features = uls.find_all(\"li\")\n",
    "feature_list = [feature.text for feature in features]"
   ]
  },
  {
   "cell_type": "code",
   "execution_count": 78,
   "id": "59362836-ebf1-45ec-b90a-80666f4970c4",
   "metadata": {},
   "outputs": [
    {
     "data": {
      "text/plain": [
       "['No Agent Fees', 'Students Can Enquire', 'Property Reference Number: 1915996']"
      ]
     },
     "execution_count": 78,
     "metadata": {},
     "output_type": "execute_result"
    }
   ],
   "source": [
    "feature_list"
   ]
  },
  {
   "cell_type": "code",
   "execution_count": 79,
   "id": "bd7b75db-1da0-4617-9265-9e11050a31a6",
   "metadata": {},
   "outputs": [
    {
     "data": {
      "text/plain": [
       "\"Property Reference: 1915996.This 2 bedroom house is in the popular area of Mugiemoss, Bucksburn and is available for let from the start of January 2024The property boasts an enviable location within an established community and with an easy commute to the city centre. Good quality laminate and carpet along with blinds and white goods are all included with the house. Upstairs there are two double bedrooms, one featuring a built in wardrobe. There is also a three piece bathroom suite upstairs with a shower over the bath and there is a separate downstairs cloakroom.The spacious open plan lounge/kitchen features a built in oven and hob, washer-dryer and fridge freezer.Outside there is a fully enclosed garden and also a residents parking area.A deposit of one month's rent is required and eligibility criteria will need to be met. This property is suitable for pets with an additional 50% deposit.\\xa0Scottish charity number: SCO44825, **some photos are for illustration purposes only**Summary & Exclusions:- Rent Amount: £632.42 per month (£145.94 per week)- Deposit / Bond: £632.41- 2 Bedrooms- 2 Bathrooms- Property comes unfurnished- Available to move in from 05 January, 2024- Maximum number of tenants is 3- DSS enquiries welcome- Students welcome to enquire- Pets considered / by arrangement- No Smokers- Family Friendly- Bills not included- Property has parking- Property has garden access- EPC Rating: B  If calling, please quote reference: 1915996  Fees:You will not be charged any admin fees. ** Contact today to book a viewing and have the landlord show you round! ** Request Details form responded to 24/7, with phone bookings available 9am-9pm, 7 days a week.OpenRent is on the Scottish Letting Agent Register, registration number LARN1809026The landlord is on the Scottish Landlord Register, registration number 453083/100/19571\""
      ]
     },
     "execution_count": 79,
     "metadata": {},
     "output_type": "execute_result"
    }
   ],
   "source": [
    "summary"
   ]
  },
  {
   "cell_type": "code",
   "execution_count": 80,
   "id": "1c490731-0a49-4f24-be66-840296853b41",
   "metadata": {},
   "outputs": [
    {
     "data": {
      "text/plain": [
       "['No Agent Fees', 'Students Can Enquire', 'Property Reference Number: 1915996']"
      ]
     },
     "execution_count": 80,
     "metadata": {},
     "output_type": "execute_result"
    }
   ],
   "source": [
    "feature_list"
   ]
  },
  {
   "cell_type": "markdown",
   "id": "e90283cd-046a-48ed-9138-58b30af6990c",
   "metadata": {},
   "source": [
    "### Final Property output"
   ]
  },
  {
   "cell_type": "code",
   "execution_count": 81,
   "id": "64fc23bb-6a26-456f-883f-0b806a38e655",
   "metadata": {},
   "outputs": [],
   "source": [
    "from pydantic import BaseModel, ValidationError"
   ]
  },
  {
   "cell_type": "code",
   "execution_count": 82,
   "id": "f98a13a9-a2bf-42bc-a83b-b39fc25631a4",
   "metadata": {},
   "outputs": [],
   "source": [
    "# class Property(BaseModel):\n",
    "#     id: int\n",
    "#     bedrooms: Optional[int]\n",
    "#     bathrooms: Optional[int]\n",
    "#     numberOfImages: Optional[int]\n",
    "#     numberOfFloorplans: Optional[int]\n",
    "#     numberOfVirtualTours: Optional[int]\n",
    "#     countCode: Optional[str]\n",
    "#     feature_list: Optional[List[str]] = None\n",
    "#     summary: str\n",
    "\n",
    "# class Location(BaseModel):\n",
    "#     latitude: float\n",
    "#     longitude: float\n",
    "\n",
    "# class PropertyImages(BaseModel):\n",
    "#     images: Optional[List[Image]]\n",
    "\n",
    "# class Image(BaseModel):\n",
    "#     srcUrl: Optional[str]\n",
    "#     url: Optional[str]\n",
    "#     caption: Optional[str]"
   ]
  },
  {
   "cell_type": "code",
   "execution_count": 83,
   "id": "6104fc87-44e9-4570-be97-893c31ba4cf9",
   "metadata": {},
   "outputs": [],
   "source": [
    "property['summary'] = summary"
   ]
  },
  {
   "cell_type": "code",
   "execution_count": 84,
   "id": "f83afece-bfb6-4048-8087-c07725cfb9f6",
   "metadata": {},
   "outputs": [],
   "source": [
    "property['feature_list'] = feature_list"
   ]
  },
  {
   "cell_type": "markdown",
   "id": "55be5d9c-014d-4a31-9f15-077d66f1cdc5",
   "metadata": {},
   "source": [
    "### Load data to a JSON file"
   ]
  },
  {
   "cell_type": "code",
   "execution_count": 85,
   "id": "cda66c66-a5ea-413f-9c79-00fb7091566a",
   "metadata": {},
   "outputs": [],
   "source": [
    "import json\n",
    "with open(\"../resources/data/property_1.json\", \"w\") as file:\n",
    "    json.dump(property, file, indent=4)"
   ]
  },
  {
   "cell_type": "code",
   "execution_count": null,
   "id": "bf7f87ee-1ea2-401a-a0fc-26e87f149afe",
   "metadata": {},
   "outputs": [],
   "source": []
  }
 ],
 "metadata": {
  "kernelspec": {
   "display_name": "Python 3 (ipykernel)",
   "language": "python",
   "name": "python3"
  },
  "language_info": {
   "codemirror_mode": {
    "name": "ipython",
    "version": 3
   },
   "file_extension": ".py",
   "mimetype": "text/x-python",
   "name": "python",
   "nbconvert_exporter": "python",
   "pygments_lexer": "ipython3",
   "version": "3.11.4"
  }
 },
 "nbformat": 4,
 "nbformat_minor": 5
}

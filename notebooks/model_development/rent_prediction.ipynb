{
 "cells": [
  {
   "cell_type": "markdown",
   "id": "6e5b8cbb-2286-4991-90a0-1fb47da0ee99",
   "metadata": {},
   "source": [
    "The goal of this notebook is to use MLFlow Experiment tracking and create a model that predicts the rental value of a property based on a few features. Problem definition: Predict the rental value of a property. "
   ]
  },
  {
   "cell_type": "code",
   "execution_count": 1,
   "id": "0c215f0b-101b-4bf0-ac09-e1fc2ebbe434",
   "metadata": {},
   "outputs": [],
   "source": [
    "import pandas as pd\n",
    "import matplotlib.pyplot as plt\n",
    "import seaborn as sns"
   ]
  },
  {
   "cell_type": "markdown",
   "id": "4be661de-ef65-478d-959f-6adbee3bccfa",
   "metadata": {},
   "source": [
    "# Set up MLflow"
   ]
  },
  {
   "cell_type": "code",
   "execution_count": 2,
   "id": "d382daa2-40f4-4921-afa9-015f02041de7",
   "metadata": {},
   "outputs": [
    {
     "name": "stderr",
     "output_type": "stream",
     "text": [
      "2024/01/29 10:38:15 INFO mlflow.tracking.fluent: Experiment with name 'rightmove-rent-prediction' does not exist. Creating a new experiment.\n"
     ]
    },
    {
     "data": {
      "text/plain": [
       "<Experiment: artifact_location='mlflow-artifacts:/1', creation_time=1706524695369, experiment_id='1', last_update_time=1706524695369, lifecycle_stage='active', name='rightmove-rent-prediction', tags={}>"
      ]
     },
     "execution_count": 2,
     "metadata": {},
     "output_type": "execute_result"
    }
   ],
   "source": [
    "import mlflow\n",
    "\n",
    "mlflow.set_tracking_uri(\"http://localhost:8090\")\n",
    "# mlflow.set_tracking_uri(\"sqlite:///mlflow.db\") # Local Database\n",
    "mlflow.set_experiment(\"rightmove-rent-prediction\")"
   ]
  },
  {
   "cell_type": "markdown",
   "id": "b053c8a0-c40f-4ebf-b231-4e60db4dcf28",
   "metadata": {},
   "source": [
    "# Load data"
   ]
  },
  {
   "cell_type": "markdown",
   "id": "de66cf2d-0f74-49ff-ab44-d81aa5837bb9",
   "metadata": {},
   "source": [
    "We load data from our local mongo Server running on Docker Compose. "
   ]
  },
  {
   "cell_type": "code",
   "execution_count": 3,
   "id": "e91b8b35-300a-48bc-a4ce-48bead810f6d",
   "metadata": {},
   "outputs": [],
   "source": [
    "from pymongo import MongoClient\n",
    "\n",
    "def load_data_from_mongo(collection_name, fields):\n",
    "\n",
    "    MONGO_URI = \"mongodb://localhost:27017/\"\n",
    "    \n",
    "    client = MongoClient(MONGO_URI) # Hosted with Docker\n",
    "\n",
    "    db = client[\"rightmove\"]\n",
    "\n",
    "    # Access collection\n",
    "    collection = db[collection_name]\n",
    "    \n",
    "    # fields = {\"propertyImages\": 1, \"id\": 1}\n",
    "    query = {}\n",
    "    \n",
    "    # Fetch data from the collection\n",
    "    data = collection.find(query, fields)\n",
    "    \n",
    "    # Convert to Pandas DataFrame\n",
    "    df = pd.DataFrame(list(data))\n",
    "\n",
    "    return df"
   ]
  },
  {
   "cell_type": "code",
   "execution_count": 4,
   "id": "d91a80fa-a485-48f0-ae4d-b4ae3fb948eb",
   "metadata": {},
   "outputs": [],
   "source": [
    "fields = {\"id\": 1, \"bedrooms\": 1, \"bathrooms\":1, \"location\":1, \"price\":1}\n",
    "df = load_data_from_mongo(\"properties\", fields)\n",
    "df = df.drop(columns=['_id', 'id'])"
   ]
  },
  {
   "cell_type": "code",
   "execution_count": 8,
   "id": "2cbcfa94-e803-4437-9906-fa58702d555d",
   "metadata": {},
   "outputs": [],
   "source": [
    "df.to_csv(\"property_data.csv\")"
   ]
  },
  {
   "cell_type": "markdown",
   "id": "f021284c-4e32-4348-83d9-c8fab221029d",
   "metadata": {},
   "source": [
    "We have 3 features to act as a baseline for our model. Number of bedrooms, bathrooms and location. Price will act as the target variable to predict."
   ]
  },
  {
   "cell_type": "code",
   "execution_count": 5,
   "id": "4921ae24-dea5-4453-b240-9ba11b921659",
   "metadata": {},
   "outputs": [
    {
     "data": {
      "text/html": [
       "<div>\n",
       "<style scoped>\n",
       "    .dataframe tbody tr th:only-of-type {\n",
       "        vertical-align: middle;\n",
       "    }\n",
       "\n",
       "    .dataframe tbody tr th {\n",
       "        vertical-align: top;\n",
       "    }\n",
       "\n",
       "    .dataframe thead th {\n",
       "        text-align: right;\n",
       "    }\n",
       "</style>\n",
       "<table border=\"1\" class=\"dataframe\">\n",
       "  <thead>\n",
       "    <tr style=\"text-align: right;\">\n",
       "      <th></th>\n",
       "      <th>bedrooms</th>\n",
       "      <th>bathrooms</th>\n",
       "      <th>location</th>\n",
       "      <th>price</th>\n",
       "    </tr>\n",
       "  </thead>\n",
       "  <tbody>\n",
       "    <tr>\n",
       "      <th>0</th>\n",
       "      <td>2</td>\n",
       "      <td>1.0</td>\n",
       "      <td>{'latitude': 57.156601, 'longitude': -2.10075}</td>\n",
       "      <td>{'amount': 700, 'frequency': 'monthly', 'curre...</td>\n",
       "    </tr>\n",
       "    <tr>\n",
       "      <th>1</th>\n",
       "      <td>2</td>\n",
       "      <td>1.0</td>\n",
       "      <td>{'latitude': 57.16631, 'longitude': -2.11688}</td>\n",
       "      <td>{'amount': 500, 'frequency': 'monthly', 'curre...</td>\n",
       "    </tr>\n",
       "    <tr>\n",
       "      <th>2</th>\n",
       "      <td>2</td>\n",
       "      <td>1.0</td>\n",
       "      <td>{'latitude': 57.15214, 'longitude': -2.0856}</td>\n",
       "      <td>{'amount': 850, 'frequency': 'monthly', 'curre...</td>\n",
       "    </tr>\n",
       "    <tr>\n",
       "      <th>3</th>\n",
       "      <td>2</td>\n",
       "      <td>1.0</td>\n",
       "      <td>{'latitude': 57.14584, 'longitude': -2.098261}</td>\n",
       "      <td>{'amount': 750, 'frequency': 'monthly', 'curre...</td>\n",
       "    </tr>\n",
       "    <tr>\n",
       "      <th>4</th>\n",
       "      <td>2</td>\n",
       "      <td>2.0</td>\n",
       "      <td>{'latitude': 57.15393, 'longitude': -2.09585}</td>\n",
       "      <td>{'amount': 850, 'frequency': 'monthly', 'curre...</td>\n",
       "    </tr>\n",
       "  </tbody>\n",
       "</table>\n",
       "</div>"
      ],
      "text/plain": [
       "   bedrooms  bathrooms                                        location  \\\n",
       "0         2        1.0  {'latitude': 57.156601, 'longitude': -2.10075}   \n",
       "1         2        1.0   {'latitude': 57.16631, 'longitude': -2.11688}   \n",
       "2         2        1.0    {'latitude': 57.15214, 'longitude': -2.0856}   \n",
       "3         2        1.0  {'latitude': 57.14584, 'longitude': -2.098261}   \n",
       "4         2        2.0   {'latitude': 57.15393, 'longitude': -2.09585}   \n",
       "\n",
       "                                               price  \n",
       "0  {'amount': 700, 'frequency': 'monthly', 'curre...  \n",
       "1  {'amount': 500, 'frequency': 'monthly', 'curre...  \n",
       "2  {'amount': 850, 'frequency': 'monthly', 'curre...  \n",
       "3  {'amount': 750, 'frequency': 'monthly', 'curre...  \n",
       "4  {'amount': 850, 'frequency': 'monthly', 'curre...  "
      ]
     },
     "execution_count": 5,
     "metadata": {},
     "output_type": "execute_result"
    }
   ],
   "source": [
    "df.head()"
   ]
  },
  {
   "cell_type": "markdown",
   "id": "9759941c-4989-4013-90d5-4772f0e0249b",
   "metadata": {},
   "source": [
    "# EDA"
   ]
  },
  {
   "cell_type": "markdown",
   "id": "4d9d06d4-3e8f-43ca-b57e-9b5d31630c51",
   "metadata": {},
   "source": [
    "## Preprocessing"
   ]
  },
  {
   "cell_type": "markdown",
   "id": "6a589e6c-ded5-4f7c-87fc-ef81461d0f0b",
   "metadata": {},
   "source": [
    "We first need to standardize the target variable."
   ]
  },
  {
   "cell_type": "code",
   "execution_count": 6,
   "id": "8a86ce20-7f09-46fc-a932-31162bce64ef",
   "metadata": {},
   "outputs": [],
   "source": [
    "def convert_frequencies(x):\n",
    "    frequency = x['frequency']\n",
    "    price = x['amount']\n",
    "    \n",
    "    if frequency == 'monthly':\n",
    "        return price * 12\n",
    "    elif frequency == 'weekly':\n",
    "        return (price / 7) * 365\n",
    "    elif frequency == 'daily':\n",
    "        return price * 365\n",
    "    elif frequency == 'quarterly':\n",
    "        return price * 4\n",
    "    else: # Yearly\n",
    "        return price\n",
    "\n",
    "df['longitude'] = df['location'].apply(lambda x: x['longitude'])\n",
    "df['latitude'] = df['location'].apply(lambda x: x['latitude'])\n",
    "\n",
    "df = df.drop(columns=['location'])\n",
    "df['price'] = df['price'].apply(convert_frequencies)"
   ]
  },
  {
   "cell_type": "code",
   "execution_count": 7,
   "id": "386a0b2b-9ba5-4e9b-9aa4-124eca6fe26a",
   "metadata": {},
   "outputs": [
    {
     "data": {
      "text/html": [
       "<div>\n",
       "<style scoped>\n",
       "    .dataframe tbody tr th:only-of-type {\n",
       "        vertical-align: middle;\n",
       "    }\n",
       "\n",
       "    .dataframe tbody tr th {\n",
       "        vertical-align: top;\n",
       "    }\n",
       "\n",
       "    .dataframe thead th {\n",
       "        text-align: right;\n",
       "    }\n",
       "</style>\n",
       "<table border=\"1\" class=\"dataframe\">\n",
       "  <thead>\n",
       "    <tr style=\"text-align: right;\">\n",
       "      <th></th>\n",
       "      <th>bedrooms</th>\n",
       "      <th>bathrooms</th>\n",
       "      <th>price</th>\n",
       "      <th>longitude</th>\n",
       "      <th>latitude</th>\n",
       "    </tr>\n",
       "  </thead>\n",
       "  <tbody>\n",
       "    <tr>\n",
       "      <th>0</th>\n",
       "      <td>2</td>\n",
       "      <td>1.0</td>\n",
       "      <td>8400.0</td>\n",
       "      <td>-2.100750</td>\n",
       "      <td>57.156601</td>\n",
       "    </tr>\n",
       "    <tr>\n",
       "      <th>1</th>\n",
       "      <td>2</td>\n",
       "      <td>1.0</td>\n",
       "      <td>6000.0</td>\n",
       "      <td>-2.116880</td>\n",
       "      <td>57.166310</td>\n",
       "    </tr>\n",
       "    <tr>\n",
       "      <th>2</th>\n",
       "      <td>2</td>\n",
       "      <td>1.0</td>\n",
       "      <td>10200.0</td>\n",
       "      <td>-2.085600</td>\n",
       "      <td>57.152140</td>\n",
       "    </tr>\n",
       "    <tr>\n",
       "      <th>3</th>\n",
       "      <td>2</td>\n",
       "      <td>1.0</td>\n",
       "      <td>9000.0</td>\n",
       "      <td>-2.098261</td>\n",
       "      <td>57.145840</td>\n",
       "    </tr>\n",
       "    <tr>\n",
       "      <th>4</th>\n",
       "      <td>2</td>\n",
       "      <td>2.0</td>\n",
       "      <td>10200.0</td>\n",
       "      <td>-2.095850</td>\n",
       "      <td>57.153930</td>\n",
       "    </tr>\n",
       "  </tbody>\n",
       "</table>\n",
       "</div>"
      ],
      "text/plain": [
       "   bedrooms  bathrooms    price  longitude   latitude\n",
       "0         2        1.0   8400.0  -2.100750  57.156601\n",
       "1         2        1.0   6000.0  -2.116880  57.166310\n",
       "2         2        1.0  10200.0  -2.085600  57.152140\n",
       "3         2        1.0   9000.0  -2.098261  57.145840\n",
       "4         2        2.0  10200.0  -2.095850  57.153930"
      ]
     },
     "execution_count": 7,
     "metadata": {},
     "output_type": "execute_result"
    }
   ],
   "source": [
    "df.head()"
   ]
  },
  {
   "cell_type": "markdown",
   "id": "2d781dee-e546-41e6-8f14-c4e3f0933753",
   "metadata": {},
   "source": [
    "## Split Data"
   ]
  },
  {
   "cell_type": "markdown",
   "id": "67c52658-fdef-40b6-88ea-90a23f8d0648",
   "metadata": {},
   "source": [
    "To prevent biases in our data analysis, we will split the data first, and then explore the training_val set. We want a test set to be completely unseen."
   ]
  },
  {
   "cell_type": "code",
   "execution_count": 8,
   "id": "90bbbe08-16e8-42f7-a52a-75ea149761c9",
   "metadata": {},
   "outputs": [],
   "source": [
    "from sklearn.model_selection import train_test_split\n",
    "\n",
    "# Assuming 'df' is your pandas DataFrame\n",
    "train_val, test = train_test_split(df, test_size=0.2, random_state=42)  # 20% for test set\n",
    "train, val = train_test_split(train_val, test_size=0.25, random_state=42)  # Splitting the remaining 80% into 60% training and 20% validation\n"
   ]
  },
  {
   "cell_type": "code",
   "execution_count": 9,
   "id": "a95ec19b-19b2-4fd2-a200-5f02a8ab0223",
   "metadata": {},
   "outputs": [
    {
     "data": {
      "text/html": [
       "<div>\n",
       "<style scoped>\n",
       "    .dataframe tbody tr th:only-of-type {\n",
       "        vertical-align: middle;\n",
       "    }\n",
       "\n",
       "    .dataframe tbody tr th {\n",
       "        vertical-align: top;\n",
       "    }\n",
       "\n",
       "    .dataframe thead th {\n",
       "        text-align: right;\n",
       "    }\n",
       "</style>\n",
       "<table border=\"1\" class=\"dataframe\">\n",
       "  <thead>\n",
       "    <tr style=\"text-align: right;\">\n",
       "      <th></th>\n",
       "      <th>bedrooms</th>\n",
       "      <th>bathrooms</th>\n",
       "      <th>price</th>\n",
       "      <th>longitude</th>\n",
       "      <th>latitude</th>\n",
       "    </tr>\n",
       "  </thead>\n",
       "  <tbody>\n",
       "    <tr>\n",
       "      <th>18566</th>\n",
       "      <td>2</td>\n",
       "      <td>1.0</td>\n",
       "      <td>10800.000000</td>\n",
       "      <td>0.716820</td>\n",
       "      <td>52.032810</td>\n",
       "    </tr>\n",
       "    <tr>\n",
       "      <th>21265</th>\n",
       "      <td>4</td>\n",
       "      <td>1.0</td>\n",
       "      <td>27062.142857</td>\n",
       "      <td>-1.163420</td>\n",
       "      <td>52.961060</td>\n",
       "    </tr>\n",
       "    <tr>\n",
       "      <th>8607</th>\n",
       "      <td>3</td>\n",
       "      <td>2.0</td>\n",
       "      <td>11100.000000</td>\n",
       "      <td>-1.302500</td>\n",
       "      <td>53.496020</td>\n",
       "    </tr>\n",
       "    <tr>\n",
       "      <th>26266</th>\n",
       "      <td>1</td>\n",
       "      <td>1.0</td>\n",
       "      <td>5100.000000</td>\n",
       "      <td>-2.736508</td>\n",
       "      <td>52.060356</td>\n",
       "    </tr>\n",
       "    <tr>\n",
       "      <th>43690</th>\n",
       "      <td>1</td>\n",
       "      <td>1.0</td>\n",
       "      <td>19200.000000</td>\n",
       "      <td>-0.317519</td>\n",
       "      <td>51.515651</td>\n",
       "    </tr>\n",
       "  </tbody>\n",
       "</table>\n",
       "</div>"
      ],
      "text/plain": [
       "       bedrooms  bathrooms         price  longitude   latitude\n",
       "18566         2        1.0  10800.000000   0.716820  52.032810\n",
       "21265         4        1.0  27062.142857  -1.163420  52.961060\n",
       "8607          3        2.0  11100.000000  -1.302500  53.496020\n",
       "26266         1        1.0   5100.000000  -2.736508  52.060356\n",
       "43690         1        1.0  19200.000000  -0.317519  51.515651"
      ]
     },
     "execution_count": 9,
     "metadata": {},
     "output_type": "execute_result"
    }
   ],
   "source": [
    "train_val.head()"
   ]
  },
  {
   "cell_type": "markdown",
   "id": "2db24343-ca9c-44a2-a04d-df7fe1707eb2",
   "metadata": {},
   "source": [
    "## Analysis"
   ]
  },
  {
   "cell_type": "code",
   "execution_count": 10,
   "id": "a446e469-5b38-488c-bccc-ccce0a22cba2",
   "metadata": {},
   "outputs": [
    {
     "name": "stdout",
     "output_type": "stream",
     "text": [
      "<class 'pandas.core.frame.DataFrame'>\n",
      "Index: 50355 entries, 18566 to 56422\n",
      "Data columns (total 5 columns):\n",
      " #   Column     Non-Null Count  Dtype  \n",
      "---  ------     --------------  -----  \n",
      " 0   bedrooms   50355 non-null  int64  \n",
      " 1   bathrooms  47401 non-null  float64\n",
      " 2   price      50355 non-null  float64\n",
      " 3   longitude  50355 non-null  float64\n",
      " 4   latitude   50355 non-null  float64\n",
      "dtypes: float64(4), int64(1)\n",
      "memory usage: 2.3 MB\n"
     ]
    }
   ],
   "source": [
    "train_val.info()"
   ]
  },
  {
   "cell_type": "code",
   "execution_count": 11,
   "id": "358fd823-61da-4990-9a70-d8348202ac28",
   "metadata": {},
   "outputs": [
    {
     "data": {
      "text/html": [
       "<div>\n",
       "<style scoped>\n",
       "    .dataframe tbody tr th:only-of-type {\n",
       "        vertical-align: middle;\n",
       "    }\n",
       "\n",
       "    .dataframe tbody tr th {\n",
       "        vertical-align: top;\n",
       "    }\n",
       "\n",
       "    .dataframe thead th {\n",
       "        text-align: right;\n",
       "    }\n",
       "</style>\n",
       "<table border=\"1\" class=\"dataframe\">\n",
       "  <thead>\n",
       "    <tr style=\"text-align: right;\">\n",
       "      <th></th>\n",
       "      <th>bedrooms</th>\n",
       "      <th>bathrooms</th>\n",
       "      <th>price</th>\n",
       "      <th>longitude</th>\n",
       "      <th>latitude</th>\n",
       "    </tr>\n",
       "  </thead>\n",
       "  <tbody>\n",
       "    <tr>\n",
       "      <th>count</th>\n",
       "      <td>50355.000000</td>\n",
       "      <td>47401.000000</td>\n",
       "      <td>5.035500e+04</td>\n",
       "      <td>50355.000000</td>\n",
       "      <td>50355.000000</td>\n",
       "    </tr>\n",
       "    <tr>\n",
       "      <th>mean</th>\n",
       "      <td>2.368941</td>\n",
       "      <td>1.399000</td>\n",
       "      <td>2.766539e+04</td>\n",
       "      <td>-1.306509</td>\n",
       "      <td>52.410608</td>\n",
       "    </tr>\n",
       "    <tr>\n",
       "      <th>std</th>\n",
       "      <td>6.635001</td>\n",
       "      <td>1.113256</td>\n",
       "      <td>1.475869e+06</td>\n",
       "      <td>1.364034</td>\n",
       "      <td>1.376013</td>\n",
       "    </tr>\n",
       "    <tr>\n",
       "      <th>min</th>\n",
       "      <td>0.000000</td>\n",
       "      <td>0.000000</td>\n",
       "      <td>1.000000e+00</td>\n",
       "      <td>-7.629866</td>\n",
       "      <td>50.056373</td>\n",
       "    </tr>\n",
       "    <tr>\n",
       "      <th>25%</th>\n",
       "      <td>1.000000</td>\n",
       "      <td>1.000000</td>\n",
       "      <td>1.020000e+04</td>\n",
       "      <td>-2.241748</td>\n",
       "      <td>51.465842</td>\n",
       "    </tr>\n",
       "    <tr>\n",
       "      <th>50%</th>\n",
       "      <td>2.000000</td>\n",
       "      <td>1.000000</td>\n",
       "      <td>1.440000e+04</td>\n",
       "      <td>-1.263788</td>\n",
       "      <td>51.901180</td>\n",
       "    </tr>\n",
       "    <tr>\n",
       "      <th>75%</th>\n",
       "      <td>3.000000</td>\n",
       "      <td>2.000000</td>\n",
       "      <td>2.163929e+04</td>\n",
       "      <td>-0.172232</td>\n",
       "      <td>53.376778</td>\n",
       "    </tr>\n",
       "    <tr>\n",
       "      <th>max</th>\n",
       "      <td>1450.000000</td>\n",
       "      <td>75.000000</td>\n",
       "      <td>3.174174e+08</td>\n",
       "      <td>1.919810</td>\n",
       "      <td>58.520245</td>\n",
       "    </tr>\n",
       "  </tbody>\n",
       "</table>\n",
       "</div>"
      ],
      "text/plain": [
       "           bedrooms     bathrooms         price     longitude      latitude\n",
       "count  50355.000000  47401.000000  5.035500e+04  50355.000000  50355.000000\n",
       "mean       2.368941      1.399000  2.766539e+04     -1.306509     52.410608\n",
       "std        6.635001      1.113256  1.475869e+06      1.364034      1.376013\n",
       "min        0.000000      0.000000  1.000000e+00     -7.629866     50.056373\n",
       "25%        1.000000      1.000000  1.020000e+04     -2.241748     51.465842\n",
       "50%        2.000000      1.000000  1.440000e+04     -1.263788     51.901180\n",
       "75%        3.000000      2.000000  2.163929e+04     -0.172232     53.376778\n",
       "max     1450.000000     75.000000  3.174174e+08      1.919810     58.520245"
      ]
     },
     "execution_count": 11,
     "metadata": {},
     "output_type": "execute_result"
    }
   ],
   "source": [
    "train_val.describe()"
   ]
  },
  {
   "cell_type": "markdown",
   "id": "aaf5e180-a777-4dcb-be80-247b19a40e13",
   "metadata": {},
   "source": [
    "We can immediately spot anomalies such as a property with 1450 bedrooms, or another one with 75 bathrooms. "
   ]
  },
  {
   "cell_type": "code",
   "execution_count": 12,
   "id": "b2ac925e-c2e6-4948-ba5a-e08d76869b6c",
   "metadata": {},
   "outputs": [
    {
     "data": {
      "text/plain": [
       "bedrooms        0\n",
       "bathrooms    3710\n",
       "price           0\n",
       "longitude       0\n",
       "latitude        0\n",
       "dtype: int64"
      ]
     },
     "execution_count": 12,
     "metadata": {},
     "output_type": "execute_result"
    }
   ],
   "source": [
    "df.isnull().sum()"
   ]
  },
  {
   "cell_type": "markdown",
   "id": "7baa4725-e212-4e4b-a96b-ed02eaad3692",
   "metadata": {},
   "source": [
    "Bathrooms are missing some values, I believe it will be a good indicator of value so it may be worth imputing the data."
   ]
  },
  {
   "cell_type": "code",
   "execution_count": 13,
   "id": "b79226f8-fa64-4ba3-99fc-6f1fca6427a1",
   "metadata": {},
   "outputs": [
    {
     "data": {
      "text/plain": [
       "array([[<Axes: title={'center': 'bedrooms'}>,\n",
       "        <Axes: title={'center': 'bathrooms'}>],\n",
       "       [<Axes: title={'center': 'price'}>,\n",
       "        <Axes: title={'center': 'longitude'}>],\n",
       "       [<Axes: title={'center': 'latitude'}>, <Axes: >]], dtype=object)"
      ]
     },
     "execution_count": 13,
     "metadata": {},
     "output_type": "execute_result"
    },
    {
     "data": {
      "image/png": "[encoded data removed]",
      "text/plain": [
       "<Figure size 640x480 with 6 Axes>"
      ]
     },
     "metadata": {},
     "output_type": "display_data"
    }
   ],
   "source": [
    "df.hist(bins=20)"
   ]
  },
  {
   "cell_type": "markdown",
   "id": "19349edf-694e-4319-88d3-659e8744f3c6",
   "metadata": {},
   "source": [
    "Clearly the anomalies across all categories are heavily skewing the distribution of the data, need to handle them."
   ]
  },
  {
   "cell_type": "markdown",
   "id": "cc73e750-eb77-48fa-be67-286b7fe6d5da",
   "metadata": {},
   "source": [
    "## Anomaly handling"
   ]
  },
  {
   "cell_type": "markdown",
   "id": "c0a49440-8060-4dd7-ad02-7aa50688410e",
   "metadata": {},
   "source": [
    "### Bedrooms"
   ]
  },
  {
   "cell_type": "code",
   "execution_count": 14,
   "id": "d3480461-8ab6-4d15-939c-f3e9037c8cfb",
   "metadata": {},
   "outputs": [
    {
     "data": {
      "image/png": "[encoded data removed]",
      "text/plain": [
       "<Figure size 1000x600 with 1 Axes>"
      ]
     },
     "metadata": {},
     "output_type": "display_data"
    }
   ],
   "source": [
    "column = 'bedrooms'\n",
    "\n",
    "# Boxplot\n",
    "plt.figure(figsize=(10, 6))\n",
    "sns.boxplot(x=train_val[column])\n",
    "plt.title(f'Box Plot of {column} pre-processing')\n",
    "plt.show()"
   ]
  },
  {
   "cell_type": "code",
   "execution_count": 15,
   "id": "c2db84d1-07ed-4642-9d92-b557368ac1dc",
   "metadata": {},
   "outputs": [],
   "source": [
    "train_val = train_val[train_val['bedrooms'] < 50]"
   ]
  },
  {
   "cell_type": "code",
   "execution_count": 16,
   "id": "eee59ebd-65e9-4ed7-90f3-d37c36976a10",
   "metadata": {},
   "outputs": [
    {
     "data": {
      "image/png": "[encoded data removed]",
      "text/plain": [
       "<Figure size 1000x600 with 1 Axes>"
      ]
     },
     "metadata": {},
     "output_type": "display_data"
    }
   ],
   "source": [
    "column = 'bedrooms'\n",
    "\n",
    "# Boxplot\n",
    "plt.figure(figsize=(10, 6))\n",
    "sns.boxplot(x=train_val[column])\n",
    "plt.title(f'Box Plot of {column} post-processing')\n",
    "plt.show()"
   ]
  },
  {
   "cell_type": "markdown",
   "id": "7593338c-42a0-437f-a2ee-efda5be60e0f",
   "metadata": {},
   "source": [
    "### Bathrooms"
   ]
  },
  {
   "cell_type": "code",
   "execution_count": 17,
   "id": "c9e0b7b0-26aa-4f94-b237-c943bfd9a761",
   "metadata": {},
   "outputs": [
    {
     "data": {
      "image/png": "[encoded data removed]",
      "text/plain": [
       "<Figure size 1000x600 with 1 Axes>"
      ]
     },
     "metadata": {},
     "output_type": "display_data"
    }
   ],
   "source": [
    "column = 'bathrooms'\n",
    "\n",
    "# Boxplot\n",
    "plt.figure(figsize=(10, 6))\n",
    "sns.boxplot(x=train_val[column])\n",
    "plt.title(f'Box Plot of {column} pre')\n",
    "plt.show()"
   ]
  },
  {
   "cell_type": "code",
   "execution_count": 18,
   "id": "b8764f1b-6192-455b-98c6-7187e3ce90c1",
   "metadata": {},
   "outputs": [],
   "source": [
    "train_val = train_val[train_val['bathrooms'] < 18]"
   ]
  },
  {
   "cell_type": "code",
   "execution_count": 19,
   "id": "96390020-9773-410f-a9f4-c7d7fb519088",
   "metadata": {},
   "outputs": [
    {
     "data": {
      "image/png": "[encoded data removed]",
      "text/plain": [
       "<Figure size 1000x600 with 1 Axes>"
      ]
     },
     "metadata": {},
     "output_type": "display_data"
    }
   ],
   "source": [
    "column = 'bathrooms'\n",
    "\n",
    "# Boxplot\n",
    "plt.figure(figsize=(10, 6))\n",
    "sns.boxplot(x=train_val[column])\n",
    "plt.title(f'Box Plot of {column} post-processing')\n",
    "plt.show()"
   ]
  },
  {
   "cell_type": "markdown",
   "id": "82f167f1-8f3a-4991-9eab-61a383f09f24",
   "metadata": {},
   "source": [
    "### Price"
   ]
  },
  {
   "cell_type": "code",
   "execution_count": 20,
   "id": "12e82438-3044-4e40-ad94-e2bf1eaae4a0",
   "metadata": {},
   "outputs": [
    {
     "data": {
      "image/png": "[encoded data removed]",
      "text/plain": [
       "<Figure size 1000x600 with 1 Axes>"
      ]
     },
     "metadata": {},
     "output_type": "display_data"
    }
   ],
   "source": [
    "column = 'price'\n",
    "\n",
    "# Boxplot\n",
    "plt.figure(figsize=(10, 6))\n",
    "sns.boxplot(x=train_val[column])\n",
    "plt.title(f'Box Plot of {column} pre-processing')\n",
    "plt.show()"
   ]
  },
  {
   "cell_type": "code",
   "execution_count": 21,
   "id": "8a3251dc-1d6a-4067-8647-7dd662794c3f",
   "metadata": {},
   "outputs": [],
   "source": [
    "train_val = train_val[train_val['price'] < 200_000]"
   ]
  },
  {
   "cell_type": "code",
   "execution_count": 22,
   "id": "5f918479-7a92-4cc4-b007-706151b4f2cb",
   "metadata": {},
   "outputs": [
    {
     "data": {
      "image/png": "[encoded data removed]",
      "text/plain": [
       "<Figure size 1000x600 with 1 Axes>"
      ]
     },
     "metadata": {},
     "output_type": "display_data"
    }
   ],
   "source": [
    "column = 'price'\n",
    "\n",
    "# Boxplot\n",
    "plt.figure(figsize=(10, 6))\n",
    "sns.boxplot(x=train_val[column])\n",
    "plt.title(f'Box Plot of {column} pre-processing')\n",
    "plt.show()"
   ]
  },
  {
   "cell_type": "code",
   "execution_count": 23,
   "id": "13a97c3d-9d35-4370-9842-c0c252807f6e",
   "metadata": {},
   "outputs": [
    {
     "data": {
      "text/plain": [
       "array([[<Axes: title={'center': 'bedrooms'}>,\n",
       "        <Axes: title={'center': 'bathrooms'}>],\n",
       "       [<Axes: title={'center': 'price'}>,\n",
       "        <Axes: title={'center': 'longitude'}>],\n",
       "       [<Axes: title={'center': 'latitude'}>, <Axes: >]], dtype=object)"
      ]
     },
     "execution_count": 23,
     "metadata": {},
     "output_type": "execute_result"
    },
    {
     "data": {
      "image/png": "[encoded data removed]",
      "text/plain": [
       "<Figure size 640x480 with 6 Axes>"
      ]
     },
     "metadata": {},
     "output_type": "display_data"
    }
   ],
   "source": [
    "train_val.hist(bins=50)"
   ]
  },
  {
   "cell_type": "code",
   "execution_count": 24,
   "id": "da917046-004d-42c8-b4de-ea5a72c374fc",
   "metadata": {},
   "outputs": [],
   "source": [
    "def remove_anamolies(df):\n",
    "    df = df[df['bedrooms'] < 50]\n",
    "    df = df[df['bathrooms'] < 18]\n",
    "    df = df[df['price'] < 1_000_000]\n",
    "\n",
    "    return df"
   ]
  },
  {
   "cell_type": "code",
   "execution_count": 25,
   "id": "4f806922-4d25-4987-aedd-20b78216b12b",
   "metadata": {},
   "outputs": [],
   "source": [
    "train_val = remove_anamolies(train_val)"
   ]
  },
  {
   "cell_type": "markdown",
   "id": "9fe1e5f0-1d9f-441c-99bc-edf91b7568a8",
   "metadata": {},
   "source": [
    "## Correlation"
   ]
  },
  {
   "cell_type": "code",
   "execution_count": 26,
   "id": "70367cc8-6d9c-4d3c-b878-b37c24990d27",
   "metadata": {},
   "outputs": [
    {
     "data": {
      "text/html": [
       "<div>\n",
       "<style scoped>\n",
       "    .dataframe tbody tr th:only-of-type {\n",
       "        vertical-align: middle;\n",
       "    }\n",
       "\n",
       "    .dataframe tbody tr th {\n",
       "        vertical-align: top;\n",
       "    }\n",
       "\n",
       "    .dataframe thead th {\n",
       "        text-align: right;\n",
       "    }\n",
       "</style>\n",
       "<table border=\"1\" class=\"dataframe\">\n",
       "  <thead>\n",
       "    <tr style=\"text-align: right;\">\n",
       "      <th></th>\n",
       "      <th>bedrooms</th>\n",
       "      <th>bathrooms</th>\n",
       "      <th>price</th>\n",
       "      <th>longitude</th>\n",
       "      <th>latitude</th>\n",
       "    </tr>\n",
       "  </thead>\n",
       "  <tbody>\n",
       "    <tr>\n",
       "      <th>bedrooms</th>\n",
       "      <td>1.000000</td>\n",
       "      <td>0.516584</td>\n",
       "      <td>0.343976</td>\n",
       "      <td>-0.065098</td>\n",
       "      <td>0.005896</td>\n",
       "    </tr>\n",
       "    <tr>\n",
       "      <th>bathrooms</th>\n",
       "      <td>0.516584</td>\n",
       "      <td>1.000000</td>\n",
       "      <td>0.352840</td>\n",
       "      <td>0.025811</td>\n",
       "      <td>-0.033949</td>\n",
       "    </tr>\n",
       "    <tr>\n",
       "      <th>price</th>\n",
       "      <td>0.343976</td>\n",
       "      <td>0.352840</td>\n",
       "      <td>1.000000</td>\n",
       "      <td>0.244331</td>\n",
       "      <td>-0.272523</td>\n",
       "    </tr>\n",
       "    <tr>\n",
       "      <th>longitude</th>\n",
       "      <td>-0.065098</td>\n",
       "      <td>0.025811</td>\n",
       "      <td>0.244331</td>\n",
       "      <td>1.000000</td>\n",
       "      <td>-0.373363</td>\n",
       "    </tr>\n",
       "    <tr>\n",
       "      <th>latitude</th>\n",
       "      <td>0.005896</td>\n",
       "      <td>-0.033949</td>\n",
       "      <td>-0.272523</td>\n",
       "      <td>-0.373363</td>\n",
       "      <td>1.000000</td>\n",
       "    </tr>\n",
       "  </tbody>\n",
       "</table>\n",
       "</div>"
      ],
      "text/plain": [
       "           bedrooms  bathrooms     price  longitude  latitude\n",
       "bedrooms   1.000000   0.516584  0.343976  -0.065098  0.005896\n",
       "bathrooms  0.516584   1.000000  0.352840   0.025811 -0.033949\n",
       "price      0.343976   0.352840  1.000000   0.244331 -0.272523\n",
       "longitude -0.065098   0.025811  0.244331   1.000000 -0.373363\n",
       "latitude   0.005896  -0.033949 -0.272523  -0.373363  1.000000"
      ]
     },
     "execution_count": 26,
     "metadata": {},
     "output_type": "execute_result"
    }
   ],
   "source": [
    "train_val.corr()"
   ]
  },
  {
   "cell_type": "markdown",
   "id": "d2c274de-0269-4d5e-99b4-226b8b32bb9a",
   "metadata": {},
   "source": [
    "The number of bathrooms and bedrooms are most correlate with price, which is no surpise given it is an indication of property size."
   ]
  },
  {
   "cell_type": "markdown",
   "id": "80ed86ea-b20c-4e27-9b34-2d00953617e9",
   "metadata": {},
   "source": [
    "### Bathrooms and Bedrooms"
   ]
  },
  {
   "cell_type": "code",
   "execution_count": 27,
   "id": "de4eb44e-4bf0-4311-b7f4-bc775aa0fe72",
   "metadata": {},
   "outputs": [
    {
     "data": {
      "image/png": "[encoded data removed]",
      "text/plain": [
       "<Figure size 1500x600 with 2 Axes>"
      ]
     },
     "metadata": {},
     "output_type": "display_data"
    }
   ],
   "source": [
    "fig, axes = plt.subplots(nrows=1, ncols=2, figsize=(15, 6))\n",
    "\n",
    "\n",
    "axes[0].set_title(\"Bathroom price correlation\")\n",
    "sns.regplot(data=train_val, x=\"bathrooms\", y=\"price\", ax=axes[0])\n",
    "\n",
    "axes[1].set_title(\"Bedroom price correlation\")\n",
    "sns.regplot(data=train_val, x=\"bedrooms\", y=\"price\", ax=axes[1])\n",
    "                  \n",
    "                  \n",
    "plt.tight_layout()                  \n",
    "plt.show()"
   ]
  },
  {
   "cell_type": "markdown",
   "id": "bb869c84-b1a1-4ad9-beec-9a3fd462c4c3",
   "metadata": {},
   "source": [
    "## Imputting data"
   ]
  },
  {
   "cell_type": "code",
   "execution_count": 28,
   "id": "011cf3c5-8e34-4577-b2ec-05b6520f1654",
   "metadata": {},
   "outputs": [
    {
     "data": {
      "text/plain": [
       "<Axes: title={'center': 'Bedroom price correlation'}, xlabel='bedrooms', ylabel='bathrooms'>"
      ]
     },
     "execution_count": 28,
     "metadata": {},
     "output_type": "execute_result"
    },
    {
     "data": {
      "image/png": "[encoded data removed]",
      "text/plain": [
       "<Figure size 640x480 with 1 Axes>"
      ]
     },
     "metadata": {},
     "output_type": "display_data"
    }
   ],
   "source": [
    "plt.title(\"Bedroom price correlation\")\n",
    "sns.regplot(data=train_val, x=\"bedrooms\", y=\"bathrooms\")"
   ]
  },
  {
   "cell_type": "markdown",
   "id": "ce4eaddf-0d28-45ae-b0f3-a697b8077877",
   "metadata": {},
   "source": [
    "There is a relativaly strong correlation between the number of bedrooms and the number of bathrooms. So I believe imputting based on bedrooms will be best. "
   ]
  },
  {
   "cell_type": "markdown",
   "id": "c82cc40e-0114-409e-b1d5-85bfe91f44b4",
   "metadata": {},
   "source": [
    "## Drop rows"
   ]
  },
  {
   "cell_type": "code",
   "execution_count": 29,
   "id": "3c392e62-019b-473e-a1ee-8956948d8a57",
   "metadata": {},
   "outputs": [],
   "source": [
    "train_val = train_val.drop_duplicates()"
   ]
  },
  {
   "cell_type": "code",
   "execution_count": 30,
   "id": "c95a9e88-51b8-46fe-84dc-5e77b1b6df84",
   "metadata": {},
   "outputs": [],
   "source": [
    "train_val = train_val.dropna()"
   ]
  },
  {
   "cell_type": "markdown",
   "id": "02483b6e-b556-49b2-b147-b259406ec454",
   "metadata": {},
   "source": [
    "# Initial baseline model"
   ]
  },
  {
   "cell_type": "code",
   "execution_count": 31,
   "id": "3a4c7e69-1890-4bb0-9f04-9269932215bf",
   "metadata": {},
   "outputs": [],
   "source": [
    "X = train_val[['bedrooms', 'bathrooms', 'longitude', 'latitude']]\n",
    "y = train_val['price']\n",
    "\n",
    "X_train, X_val, y_train, y_val = train_test_split(X, y, test_size=0.25, random_state=42)  # Splitting the remaining 80% into 60% training and 20% validation"
   ]
  },
  {
   "cell_type": "markdown",
   "id": "7013b8ce-7d23-4015-a13d-ea6b17d78fb2",
   "metadata": {},
   "source": [
    "### Linear Regression"
   ]
  },
  {
   "cell_type": "code",
   "execution_count": 32,
   "id": "e90977ca-18fd-4faf-b2d3-ad2d37b1900b",
   "metadata": {},
   "outputs": [],
   "source": [
    "from sklearn.linear_model import LinearRegression\n",
    "from sklearn.metrics import mean_squared_error"
   ]
  },
  {
   "cell_type": "markdown",
   "id": "8b41cd21-576f-4077-96da-186d47d4d556",
   "metadata": {},
   "source": [
    "We will use mean square error as our error metric as we are predicting continious values. "
   ]
  },
  {
   "cell_type": "code",
   "execution_count": 33,
   "id": "67ae12f6-96d4-47d8-b5ef-336818f1d8d7",
   "metadata": {},
   "outputs": [
    {
     "data": {
      "text/html": [
       "<style>#sk-container-id-1 {color: black;}#sk-container-id-1 pre{padding: 0;}#sk-container-id-1 div.sk-toggleable {background-color: white;}#sk-container-id-1 label.sk-toggleable__label {cursor: pointer;display: block;width: 100%;margin-bottom: 0;padding: 0.3em;box-sizing: border-box;text-align: center;}#sk-container-id-1 label.sk-toggleable__label-arrow:before {content: \"▸\";float: left;margin-right: 0.25em;color: #696969;}#sk-container-id-1 label.sk-toggleable__label-arrow:hover:before {color: black;}#sk-container-id-1 div.sk-estimator:hover label.sk-toggleable__label-arrow:before {color: black;}#sk-container-id-1 div.sk-toggleable__content {max-height: 0;max-width: 0;overflow: hidden;text-align: left;background-color: #f0f8ff;}#sk-container-id-1 div.sk-toggleable__content pre {margin: 0.2em;color: black;border-radius: 0.25em;background-color: #f0f8ff;}#sk-container-id-1 input.sk-toggleable__control:checked~div.sk-toggleable__content {max-height: 200px;max-width: 100%;overflow: auto;}#sk-container-id-1 input.sk-toggleable__control:checked~label.sk-toggleable__label-arrow:before {content: \"▾\";}#sk-container-id-1 div.sk-estimator input.sk-toggleable__control:checked~label.sk-toggleable__label {background-color: #d4ebff;}#sk-container-id-1 div.sk-label input.sk-toggleable__control:checked~label.sk-toggleable__label {background-color: #d4ebff;}#sk-container-id-1 input.sk-hidden--visually {border: 0;clip: rect(1px 1px 1px 1px);clip: rect(1px, 1px, 1px, 1px);height: 1px;margin: -1px;overflow: hidden;padding: 0;position: absolute;width: 1px;}#sk-container-id-1 div.sk-estimator {font-family: monospace;background-color: #f0f8ff;border: 1px dotted black;border-radius: 0.25em;box-sizing: border-box;margin-bottom: 0.5em;}#sk-container-id-1 div.sk-estimator:hover {background-color: #d4ebff;}#sk-container-id-1 div.sk-parallel-item::after {content: \"\";width: 100%;border-bottom: 1px solid gray;flex-grow: 1;}#sk-container-id-1 div.sk-label:hover label.sk-toggleable__label {background-color: #d4ebff;}#sk-container-id-1 div.sk-serial::before {content: \"\";position: absolute;border-left: 1px solid gray;box-sizing: border-box;top: 0;bottom: 0;left: 50%;z-index: 0;}#sk-container-id-1 div.sk-serial {display: flex;flex-direction: column;align-items: center;background-color: white;padding-right: 0.2em;padding-left: 0.2em;position: relative;}#sk-container-id-1 div.sk-item {position: relative;z-index: 1;}#sk-container-id-1 div.sk-parallel {display: flex;align-items: stretch;justify-content: center;background-color: white;position: relative;}#sk-container-id-1 div.sk-item::before, #sk-container-id-1 div.sk-parallel-item::before {content: \"\";position: absolute;border-left: 1px solid gray;box-sizing: border-box;top: 0;bottom: 0;left: 50%;z-index: -1;}#sk-container-id-1 div.sk-parallel-item {display: flex;flex-direction: column;z-index: 1;position: relative;background-color: white;}#sk-container-id-1 div.sk-parallel-item:first-child::after {align-self: flex-end;width: 50%;}#sk-container-id-1 div.sk-parallel-item:last-child::after {align-self: flex-start;width: 50%;}#sk-container-id-1 div.sk-parallel-item:only-child::after {width: 0;}#sk-container-id-1 div.sk-dashed-wrapped {border: 1px dashed gray;margin: 0 0.4em 0.5em 0.4em;box-sizing: border-box;padding-bottom: 0.4em;background-color: white;}#sk-container-id-1 div.sk-label label {font-family: monospace;font-weight: bold;display: inline-block;line-height: 1.2em;}#sk-container-id-1 div.sk-label-container {text-align: center;}#sk-container-id-1 div.sk-container {/* jupyter's `normalize.less` sets `[hidden] { display: none; }` but bootstrap.min.css set `[hidden] { display: none !important; }` so we also need the `!important` here to be able to override the default hidden behavior on the sphinx rendered scikit-learn.org. See: https://github.com/scikit-learn/scikit-learn/issues/21755 */display: inline-block !important;position: relative;}#sk-container-id-1 div.sk-text-repr-fallback {display: none;}</style><div id=\"sk-container-id-1\" class=\"sk-top-container\"><div class=\"sk-text-repr-fallback\"><pre>LinearRegression()</pre><b>In a Jupyter environment, please rerun this cell to show the HTML representation or trust the notebook. <br />On GitHub, the HTML representation is unable to render, please try loading this page with nbviewer.org.</b></div><div class=\"sk-container\" hidden><div class=\"sk-item\"><div class=\"sk-estimator sk-toggleable\"><input class=\"sk-toggleable__control sk-hidden--visually\" id=\"sk-estimator-id-1\" type=\"checkbox\" checked><label for=\"sk-estimator-id-1\" class=\"sk-toggleable__label sk-toggleable__label-arrow\">LinearRegression</label><div class=\"sk-toggleable__content\"><pre>LinearRegression()</pre></div></div></div></div></div>"
      ],
      "text/plain": [
       "LinearRegression()"
      ]
     },
     "execution_count": 33,
     "metadata": {},
     "output_type": "execute_result"
    }
   ],
   "source": [
    "# Create a linear regression model\n",
    "model = LinearRegression()\n",
    "model.fit(X_train, y_train)"
   ]
  },
  {
   "cell_type": "code",
   "execution_count": 37,
   "id": "e7b3a40d-bbc2-4d76-a834-258b207daef6",
   "metadata": {},
   "outputs": [
    {
     "ename": "NameError",
     "evalue": "name 'dataset_source_url' is not defined",
     "output_type": "error",
     "traceback": [
      "\u001b[0;31m---------------------------------------------------------------------------\u001b[0m",
      "\u001b[0;31mNameError\u001b[0m                                 Traceback (most recent call last)",
      "Cell \u001b[0;32mIn[37], line 2\u001b[0m\n\u001b[1;32m      1\u001b[0m \u001b[38;5;28;01mfrom\u001b[39;00m \u001b[38;5;21;01mmlflow\u001b[39;00m\u001b[38;5;21;01m.\u001b[39;00m\u001b[38;5;21;01mdata\u001b[39;00m\u001b[38;5;21;01m.\u001b[39;00m\u001b[38;5;21;01mpandas_dataset\u001b[39;00m \u001b[38;5;28;01mimport\u001b[39;00m PandasDataset\n\u001b[0;32m----> 2\u001b[0m dataset: PandasDataset \u001b[38;5;241m=\u001b[39m mlflow\u001b[38;5;241m.\u001b[39mdata\u001b[38;5;241m.\u001b[39mfrom_pandas(df, source\u001b[38;5;241m=\u001b[39m\u001b[43mdataset_source_url\u001b[49m)\n",
      "\u001b[0;31mNameError\u001b[0m: name 'dataset_source_url' is not defined"
     ]
    }
   ],
   "source": [
    "from mlflow.data.pandas_dataset import PandasDataset\n",
    "dataset: PandasDataset = mlflow.data.from_pandas(df, source=dataset_source_url)"
   ]
  },
  {
   "cell_type": "code",
   "execution_count": 34,
   "id": "93e39567-7bc1-4e22-bebe-7f9fa08f89e5",
   "metadata": {},
   "outputs": [],
   "source": [
    "with mlflow.start_run():\n",
    "\n",
    "    mlflow.set_tag(\"developer\", \"Alex\") # Addind metadata\n",
    "\n",
    "    mlflow.log_param(\"Model type\", \"Linear Regression\")\n",
    "\n",
    "    model = LinearRegression()\n",
    "    model.fit(X_train, y_train)\n",
    "    \n",
    "    y_pred = model.predict(X_val)\n",
    "    \n",
    "    rmse = mean_squared_error(y_val, y_pred, squared=False)\n",
    "\n",
    "    mlflow.log_metric(\"rmse\", rmse)"
   ]
  },
  {
   "cell_type": "code",
   "execution_count": 35,
   "id": "f12975de-9ca7-414c-a8fb-0ce74c91872d",
   "metadata": {},
   "outputs": [
    {
     "data": {
      "text/plain": [
       "13376.51083272644"
      ]
     },
     "execution_count": 35,
     "metadata": {},
     "output_type": "execute_result"
    }
   ],
   "source": [
    "rmse"
   ]
  },
  {
   "cell_type": "markdown",
   "id": "9ccc2380-5427-4390-a16a-6f79ed208ecb",
   "metadata": {},
   "source": [
    "## RandomForest"
   ]
  },
  {
   "cell_type": "code",
   "execution_count": 129,
   "id": "27f38bfb-57a6-4063-9a8c-3135decbe15f",
   "metadata": {},
   "outputs": [],
   "source": [
    "from sklearn.model_selection import train_test_split, GridSearchCV\n",
    "from sklearn.ensemble import RandomForestRegressor\n",
    "\n",
    "param_grid = {\n",
    "    'n_estimators': [100, 200, 300],\n",
    "    'max_depth': [None, 10, 20, 30],\n",
    "    'min_samples_split': [2, 5, 10],\n",
    "    'min_samples_leaf': [1, 2, 4]\n",
    "}"
   ]
  },
  {
   "cell_type": "code",
   "execution_count": 134,
   "id": "9c67b9f1-5353-4451-9bdb-59d413a9ee42",
   "metadata": {},
   "outputs": [],
   "source": [
    "rf = RandomForestRegressor()\n",
    "\n",
    "# Initialize the GridSearchCV with RMSE as scoring metric\n",
    "grid_search = GridSearchCV(estimator=rf, param_grid=param_grid, scoring='neg_root_mean_squared_error', cv=5, n_jobs=-1)"
   ]
  },
  {
   "cell_type": "code",
   "execution_count": 138,
   "id": "1f97148f-c0d4-415c-a46a-3fd8d6282710",
   "metadata": {},
   "outputs": [
    {
     "data": {
      "text/plain": [
       "{'bootstrap': True,\n",
       " 'ccp_alpha': 0.0,\n",
       " 'criterion': 'squared_error',\n",
       " 'max_depth': None,\n",
       " 'max_features': 1.0,\n",
       " 'max_leaf_nodes': None,\n",
       " 'max_samples': None,\n",
       " 'min_impurity_decrease': 0.0,\n",
       " 'min_samples_leaf': 1,\n",
       " 'min_samples_split': 2,\n",
       " 'min_weight_fraction_leaf': 0.0,\n",
       " 'n_estimators': 100,\n",
       " 'n_jobs': None,\n",
       " 'oob_score': False,\n",
       " 'random_state': None,\n",
       " 'verbose': 0,\n",
       " 'warm_start': False}"
      ]
     },
     "execution_count": 138,
     "metadata": {},
     "output_type": "execute_result"
    }
   ],
   "source": [
    "rf.get_params()"
   ]
  },
  {
   "cell_type": "code",
   "execution_count": 140,
   "id": "9f3113b9-9292-4954-b6df-6af25923914d",
   "metadata": {},
   "outputs": [],
   "source": [
    "import numpy as np"
   ]
  },
  {
   "cell_type": "code",
   "execution_count": 141,
   "id": "f536fef4-5f97-4596-928a-7285abda94d3",
   "metadata": {},
   "outputs": [
    {
     "name": "stderr",
     "output_type": "stream",
     "text": [
      "2024/01/26 14:45:33 WARNING mlflow.utils.environment: Encountered an unexpected error while inferring pip requirements (model URI: /var/folders/6d/8tvwdn1n6j924gfrc5bg5h5rsn3bgj/T/tmpfwyx5gg3/model/model.pkl, flavor: sklearn), fall back to return ['scikit-learn==1.3.2', 'cloudpickle==2.2.1']. Set logging level to DEBUG to see the full traceback.\n"
     ]
    }
   ],
   "source": [
    "with mlflow.start_run():\n",
    "\n",
    "    # Fit the model on the training data\n",
    "    rf.fit(X_train, y_train)\n",
    "\n",
    "    # Get the best parameters from GridSearchCV\n",
    "    # Make predictions on the test set\n",
    "    y_pred = rf.predict(X_test)\n",
    "\n",
    "    params = rf.get_params()\n",
    "\n",
    "    # Calculate RMSE\n",
    "    rmse = np.sqrt(mean_squared_error(y_test, y_pred))\n",
    "\n",
    "    # Log the best parameters and RMSE to MlFlow\n",
    "    mlflow.log_params(params)\n",
    "    mlflow.log_metric(\"rmse\", rmse)\n",
    "\n",
    "    mlflow.log_param(\"Model type\", \"RandomForestRegressor\")\n",
    "\n",
    "    # Save the best model to MlFlow\n",
    "    mlflow.sklearn.log_model(best_model, \"RandomForestRegressorModel\")"
   ]
  },
  {
   "cell_type": "code",
   "execution_count": 149,
   "id": "40c8b529-723c-4b7a-b353-fe38b248c574",
   "metadata": {},
   "outputs": [],
   "source": [
    "def run_experiment(params):\n",
    "    \n",
    "    with mlflow.start_run(): \n",
    "            mlflow.log_params(params)\n",
    "            rf = RandomForestRegressor(**params)\n",
    "            rf.fit(X_train, y_train)\n",
    "            # Make predictions on the test set\n",
    "            y_pred = rf.predict(X_test)\n",
    "        \n",
    "            # Calculate RMSE\n",
    "            rmse = np.sqrt(mean_squared_error(y_test, y_pred))\n",
    "\n",
    "            print(f\"Returned RMSE of {rmse}\")\n",
    "        \n",
    "            # Log the best parameters and RMSE to MlFlow\n",
    "            mlflow.log_metric(\"rmse\", rmse)\n",
    "        \n",
    "            mlflow.log_param(\"Model type\", \"RandomForestRegressor\")\n",
    "        \n",
    "            # Save the best model to MlFlow\n",
    "            mlflow.sklearn.log_model(best_model, \"RandomForestRegressorModel\")"
   ]
  },
  {
   "cell_type": "code",
   "execution_count": 150,
   "id": "d588dfa7-3e8c-4ccf-bcde-26d0eaa3750f",
   "metadata": {},
   "outputs": [],
   "source": [
    "from sklearn.model_selection import GridSearchCV, ParameterGrid"
   ]
  },
  {
   "cell_type": "code",
   "execution_count": null,
   "id": "a096532a-8e31-419f-b9b4-5e9ff78d4e40",
   "metadata": {},
   "outputs": [],
   "source": [
    "run_experiment(ParameterGrid(param_grid)[0])"
   ]
  },
  {
   "cell_type": "code",
   "execution_count": 147,
   "id": "2ed04ba6-bedf-4e88-8bfe-2ca229c62a71",
   "metadata": {},
   "outputs": [
    {
     "data": {
      "text/plain": [
       "{'n_estimators': 100,\n",
       " 'min_samples_split': 2,\n",
       " 'min_samples_leaf': 1,\n",
       " 'max_depth': None}"
      ]
     },
     "execution_count": 147,
     "metadata": {},
     "output_type": "execute_result"
    }
   ],
   "source": [
    "ParameterGrid(param_grid)[0]"
   ]
  },
  {
   "cell_type": "code",
   "execution_count": null,
   "id": "d5e81030-5f3e-4fdf-bd7e-daae3243d751",
   "metadata": {},
   "outputs": [],
   "source": [
    "for params in ParameterGrid(param_grid):\n",
    "    print(f\"Starting experiment with params: {params}\")\n",
    "    run_experiment(params)"
   ]
  },
  {
   "cell_type": "markdown",
   "id": "872c08f2-8680-44c1-9c2e-29bcb93034ab",
   "metadata": {},
   "source": [
    "## Interpreting Random Forest"
   ]
  },
  {
   "cell_type": "markdown",
   "id": "5c941a52-a963-4d0b-9ca4-24f854086615",
   "metadata": {},
   "source": [
    "Based on MLFlow the most powerful model had:\n",
    "max_depth\tNone\n",
    "min_samples_leaf\t2\n",
    "min_samples_split\t2\n",
    "n_estimators\t200\n",
    "\n",
    "The resulting RMSE was 7865. Which considering the average yearly rental price is 18997 is fairly poor, because the variance in prediction will be way too large. "
   ]
  },
  {
   "cell_type": "code",
   "execution_count": 160,
   "id": "78529a1a-f050-4743-9481-c78a35ed78aa",
   "metadata": {},
   "outputs": [],
   "source": [
    "best_params = {\n",
    "    'n_estimators': 200,\n",
    "    'max_depth': None,\n",
    "    'min_samples_split': 2,\n",
    "    'min_samples_leaf': 1\n",
    "}"
   ]
  },
  {
   "cell_type": "code",
   "execution_count": 162,
   "id": "0f84d9d2-a499-4352-a1e6-33d5ac64f4bf",
   "metadata": {},
   "outputs": [],
   "source": [
    "model = RandomForestRegressor(**best_params)"
   ]
  },
  {
   "cell_type": "code",
   "execution_count": 165,
   "id": "c4d8fa01-4cbb-4111-92cf-54c0a50cc65e",
   "metadata": {},
   "outputs": [
    {
     "data": {
      "text/html": [
       "<style>#sk-container-id-3 {color: black;}#sk-container-id-3 pre{padding: 0;}#sk-container-id-3 div.sk-toggleable {background-color: white;}#sk-container-id-3 label.sk-toggleable__label {cursor: pointer;display: block;width: 100%;margin-bottom: 0;padding: 0.3em;box-sizing: border-box;text-align: center;}#sk-container-id-3 label.sk-toggleable__label-arrow:before {content: \"▸\";float: left;margin-right: 0.25em;color: #696969;}#sk-container-id-3 label.sk-toggleable__label-arrow:hover:before {color: black;}#sk-container-id-3 div.sk-estimator:hover label.sk-toggleable__label-arrow:before {color: black;}#sk-container-id-3 div.sk-toggleable__content {max-height: 0;max-width: 0;overflow: hidden;text-align: left;background-color: #f0f8ff;}#sk-container-id-3 div.sk-toggleable__content pre {margin: 0.2em;color: black;border-radius: 0.25em;background-color: #f0f8ff;}#sk-container-id-3 input.sk-toggleable__control:checked~div.sk-toggleable__content {max-height: 200px;max-width: 100%;overflow: auto;}#sk-container-id-3 input.sk-toggleable__control:checked~label.sk-toggleable__label-arrow:before {content: \"▾\";}#sk-container-id-3 div.sk-estimator input.sk-toggleable__control:checked~label.sk-toggleable__label {background-color: #d4ebff;}#sk-container-id-3 div.sk-label input.sk-toggleable__control:checked~label.sk-toggleable__label {background-color: #d4ebff;}#sk-container-id-3 input.sk-hidden--visually {border: 0;clip: rect(1px 1px 1px 1px);clip: rect(1px, 1px, 1px, 1px);height: 1px;margin: -1px;overflow: hidden;padding: 0;position: absolute;width: 1px;}#sk-container-id-3 div.sk-estimator {font-family: monospace;background-color: #f0f8ff;border: 1px dotted black;border-radius: 0.25em;box-sizing: border-box;margin-bottom: 0.5em;}#sk-container-id-3 div.sk-estimator:hover {background-color: #d4ebff;}#sk-container-id-3 div.sk-parallel-item::after {content: \"\";width: 100%;border-bottom: 1px solid gray;flex-grow: 1;}#sk-container-id-3 div.sk-label:hover label.sk-toggleable__label {background-color: #d4ebff;}#sk-container-id-3 div.sk-serial::before {content: \"\";position: absolute;border-left: 1px solid gray;box-sizing: border-box;top: 0;bottom: 0;left: 50%;z-index: 0;}#sk-container-id-3 div.sk-serial {display: flex;flex-direction: column;align-items: center;background-color: white;padding-right: 0.2em;padding-left: 0.2em;position: relative;}#sk-container-id-3 div.sk-item {position: relative;z-index: 1;}#sk-container-id-3 div.sk-parallel {display: flex;align-items: stretch;justify-content: center;background-color: white;position: relative;}#sk-container-id-3 div.sk-item::before, #sk-container-id-3 div.sk-parallel-item::before {content: \"\";position: absolute;border-left: 1px solid gray;box-sizing: border-box;top: 0;bottom: 0;left: 50%;z-index: -1;}#sk-container-id-3 div.sk-parallel-item {display: flex;flex-direction: column;z-index: 1;position: relative;background-color: white;}#sk-container-id-3 div.sk-parallel-item:first-child::after {align-self: flex-end;width: 50%;}#sk-container-id-3 div.sk-parallel-item:last-child::after {align-self: flex-start;width: 50%;}#sk-container-id-3 div.sk-parallel-item:only-child::after {width: 0;}#sk-container-id-3 div.sk-dashed-wrapped {border: 1px dashed gray;margin: 0 0.4em 0.5em 0.4em;box-sizing: border-box;padding-bottom: 0.4em;background-color: white;}#sk-container-id-3 div.sk-label label {font-family: monospace;font-weight: bold;display: inline-block;line-height: 1.2em;}#sk-container-id-3 div.sk-label-container {text-align: center;}#sk-container-id-3 div.sk-container {/* jupyter's `normalize.less` sets `[hidden] { display: none; }` but bootstrap.min.css set `[hidden] { display: none !important; }` so we also need the `!important` here to be able to override the default hidden behavior on the sphinx rendered scikit-learn.org. See: https://github.com/scikit-learn/scikit-learn/issues/21755 */display: inline-block !important;position: relative;}#sk-container-id-3 div.sk-text-repr-fallback {display: none;}</style><div id=\"sk-container-id-3\" class=\"sk-top-container\"><div class=\"sk-text-repr-fallback\"><pre>RandomForestRegressor(n_estimators=200)</pre><b>In a Jupyter environment, please rerun this cell to show the HTML representation or trust the notebook. <br />On GitHub, the HTML representation is unable to render, please try loading this page with nbviewer.org.</b></div><div class=\"sk-container\" hidden><div class=\"sk-item\"><div class=\"sk-estimator sk-toggleable\"><input class=\"sk-toggleable__control sk-hidden--visually\" id=\"sk-estimator-id-3\" type=\"checkbox\" checked><label for=\"sk-estimator-id-3\" class=\"sk-toggleable__label sk-toggleable__label-arrow\">RandomForestRegressor</label><div class=\"sk-toggleable__content\"><pre>RandomForestRegressor(n_estimators=200)</pre></div></div></div></div></div>"
      ],
      "text/plain": [
       "RandomForestRegressor(n_estimators=200)"
      ]
     },
     "execution_count": 165,
     "metadata": {},
     "output_type": "execute_result"
    }
   ],
   "source": [
    "model.fit(X_train, y_train)"
   ]
  },
  {
   "cell_type": "markdown",
   "id": "58fd7e65-bd43-4e8a-9d1e-30888d3d343d",
   "metadata": {},
   "source": [
    "### Feature importance"
   ]
  },
  {
   "cell_type": "code",
   "execution_count": 168,
   "id": "f8ecf673-c694-4439-992e-f643271367f1",
   "metadata": {},
   "outputs": [
    {
     "data": {
      "image/png": "[encoded data removed]",
      "text/plain": [
       "<Figure size 1000x600 with 1 Axes>"
      ]
     },
     "metadata": {},
     "output_type": "display_data"
    }
   ],
   "source": [
    "importances = model.feature_importances_\n",
    "# Sort the feature importances in descending order\n",
    "sorted_indices = importances.argsort()[::-1]\n",
    "feature_names = X_train.columns\n",
    "\n",
    "# Visualize the Feature Importancess\n",
    "plt.figure(figsize=(10, 6))\n",
    "plt.title(\"Feature Importances\")\n",
    "plt.bar(range(X.shape[1]), importances[sorted_indices], align='center')\n",
    "plt.xticks(range(X.shape[1]), feature_names[sorted_indices], rotation=90)\n",
    "plt.tight_layout()\n",
    "plt.show()"
   ]
  },
  {
   "cell_type": "markdown",
   "id": "80defa1f-365b-4b7e-bde2-6ced8a6ccf83",
   "metadata": {},
   "source": [
    "This is extremely fascinating, as it is implying that location are the most powerful preditors of rental value for a property. Which would be consistent with most research relating to property valuations. We can play around with developing some new features. "
   ]
  },
  {
   "cell_type": "markdown",
   "id": "b75cbeb3-da98-4943-b643-26140fdcfe7f",
   "metadata": {},
   "source": [
    "# XGBoost"
   ]
  },
  {
   "cell_type": "code",
   "execution_count": 171,
   "id": "94712cb6-406e-4539-a7bc-bb10686f996d",
   "metadata": {},
   "outputs": [],
   "source": [
    "import xgboost as xgb"
   ]
  },
  {
   "cell_type": "code",
   "execution_count": null,
   "id": "1627c1d5-0294-4e21-a1b2-2fa22d2505d4",
   "metadata": {},
   "outputs": [],
   "source": [
    "xg_reg = xgb.XGBRegressor()\n",
    "\n",
    "with mlflow.start_run():\n",
    "\n",
    "    mlflow.set_tag(\"developer\", \"Alex\") # Addind metadata\n",
    "\n",
    "    mlflow.log_param(\"Model type\", \"XGboost\")\n",
    "\n",
    "    xg_reg = xgb.XGBRegressor()\n",
    "    xg_reg.fit(X_train, y_train)\n",
    "    \n",
    "    y_pred = xg_reg.predict(X_val)\n",
    "    \n",
    "    rmse = mean_squared_error(y_val, y_pred, squared=False)\n",
    "\n",
    "    mlflow.log_metric(\"rmse\", rmse)"
   ]
  },
  {
   "cell_type": "code",
   "execution_count": 174,
   "id": "ff1798e5-b29e-4dc8-9fae-dbbf10ce4e96",
   "metadata": {},
   "outputs": [
    {
     "data": {
      "text/plain": [
       "7810.196025656261"
      ]
     },
     "execution_count": 174,
     "metadata": {},
     "output_type": "execute_result"
    }
   ],
   "source": [
    "rmse"
   ]
  },
  {
   "cell_type": "markdown",
   "id": "c08ebabd-f162-4c39-993b-08780d67d384",
   "metadata": {},
   "source": [
    "Unsurprisingly XGBoost performs better than other models. "
   ]
  },
  {
   "cell_type": "markdown",
   "id": "3cb32efd-8411-4c7e-b7fa-a43a9b338b82",
   "metadata": {},
   "source": [
    "### Finetuning XGBoost"
   ]
  },
  {
   "cell_type": "code",
   "execution_count": 175,
   "id": "f59b9b73-50f7-4559-b032-a2cb86ed4e1a",
   "metadata": {},
   "outputs": [],
   "source": [
    "from hyperopt import fmin, tpe, hp, STATUS_OK, Trials\n",
    "from hyperopt.pyll import scope"
   ]
  },
  {
   "cell_type": "code",
   "execution_count": 176,
   "id": "5a5fd807-8f32-4988-8986-92892d8ee80d",
   "metadata": {},
   "outputs": [],
   "source": [
    "train = xgb.DMatrix(X_train, label=y_train)\n",
    "valid = xgb.DMatrix(X_val, label=y_val)"
   ]
  },
  {
   "cell_type": "code",
   "execution_count": 178,
   "id": "e51d3dce-af84-40ad-96f3-8719161479f4",
   "metadata": {},
   "outputs": [],
   "source": [
    "def objective(params):\n",
    "    with mlflow.start_run(): # Start a new MLflow run for each evaluation\n",
    "        mlflow.set_tag(\"Model type\", \"xgboost\") # Log model tag\n",
    "        mlflow.log_params(params) # Log parameters\n",
    "\n",
    "        # Train the model\n",
    "        booster = xgb.train(\n",
    "            params=params,\n",
    "            dtrain=train, # Your training dataset\n",
    "            num_boost_round=1000,\n",
    "            evals=[(valid, 'validation')], # Your validation dataset\n",
    "            early_stopping_rounds=50\n",
    "        )\n",
    "\n",
    "        # Make predictions and calculate RMSE\n",
    "        y_pred = booster.predict(valid) # Your validation dataset\n",
    "        rmse = mean_squared_error(y_val, y_pred, squared=False) # y_val should be your validation target\n",
    "        mlflow.log_metric(\"rmse\", rmse) # Log RMSE metric\n",
    "\n",
    "    return {'loss': rmse, 'status': STATUS_OK}"
   ]
  },
  {
   "cell_type": "code",
   "execution_count": 179,
   "id": "71adf819-e892-47df-ac2f-d942e08b18ae",
   "metadata": {},
   "outputs": [],
   "source": [
    "# Define the search space for Hyperopt\n",
    "search_space = {\n",
    "    'max_depth': scope.int(hp.quniform('max_depth', 4, 100, 1)),\n",
    "    'learning_rate': hp.loguniform('learning_rate', -3, 0),\n",
    "    'reg_alpha': hp.loguniform('reg_alpha', -5, -1),\n",
    "    'reg_lambda': hp.loguniform('reg_lambda', -6, -1),\n",
    "    'min_child_weight': hp.loguniform('min_child_weight', -1, 3),\n",
    "    'objective': 'reg:squarederror', # Updated objective for regression\n",
    "    'seed': 42\n",
    "}"
   ]
  },
  {
   "cell_type": "code",
   "execution_count": null,
   "id": "54dbaa0c-7087-4a12-aeca-807c236c6046",
   "metadata": {},
   "outputs": [],
   "source": [
    "# Run Hyperopt\n",
    "best_result = fmin(\n",
    "    fn=objective,\n",
    "    space=search_space,\n",
    "    algo=tpe.suggest,\n",
    "    max_evals=50,\n",
    "    trials=Trials()\n",
    ")\n",
    "\n",
    "print(\"Best Hyperparameters:\", best_result)"
   ]
  },
  {
   "cell_type": "markdown",
   "id": "b3224f65-b3d0-4e5c-8a41-80dcb79d50cd",
   "metadata": {},
   "source": [
    "# Features"
   ]
  },
  {
   "cell_type": "markdown",
   "id": "ddfb7efb-eb08-418d-98d8-e57edda757c3",
   "metadata": {},
   "source": [
    "We will now add new features to our data and try and improve upon our model."
   ]
  },
  {
   "cell_type": "code",
   "execution_count": 44,
   "id": "afecde3d-35da-4327-931e-5c4f53c6f0f9",
   "metadata": {},
   "outputs": [],
   "source": [
    "def convert_frequencies(x):\n",
    "    frequency = x['frequency']\n",
    "    price = x['amount']\n",
    "    \n",
    "    if frequency == 'monthly':\n",
    "        return price * 12\n",
    "    elif frequency == 'weekly':\n",
    "        return (price / 7) * 365\n",
    "    elif frequency == 'daily':\n",
    "        return price * 365\n",
    "    elif frequency == 'quarterly':\n",
    "        return price * 4\n",
    "    else: # Yearly\n",
    "        return price\n",
    "\n",
    "def remove_anamolies(df):\n",
    "    df = df[df['bedrooms'] < 50]\n",
    "    df = df[df['bathrooms'] < 18]\n",
    "    df = df[df['price'] < 1_000_000]\n",
    "\n",
    "    return df\n",
    "\n",
    "def preprocess_data(df):\n",
    "    df['longitude'] = df['location'].apply(lambda x: x['longitude'])\n",
    "    df['latitude'] = df['location'].apply(lambda x: x['latitude'])\n",
    "\n",
    "    df = df.drop_duplicates(subset='id')\n",
    "    \n",
    "    df = df.drop(columns=['_id', 'id', 'location'])\n",
    "    \n",
    "    df['price'] = df['price'].apply(convert_frequencies)\n",
    "\n",
    "    df = remove_anamolies(df)\n",
    "\n",
    "    df = df.dropna()\n",
    "\n",
    "    return df"
   ]
  },
  {
   "cell_type": "code",
   "execution_count": 231,
   "id": "8cdffcc8-a97f-4099-92e4-883fac59e658",
   "metadata": {},
   "outputs": [],
   "source": [
    "fields = {\"id\": 1, \"bedrooms\": 1, \"bathrooms\":1, \"location\":1, \"price\":1, \"feature_list\": 1, \"commercial\": 1, \"development\": 1, \"students\": 1, \"summary\": 1}\n",
    "df = load_data_from_mongo(fields)"
   ]
  },
  {
   "cell_type": "code",
   "execution_count": 232,
   "id": "b61d8bec-4ff5-4992-b456-6498943028d3",
   "metadata": {},
   "outputs": [],
   "source": [
    "preprocessed_df = preprocess_data(df)"
   ]
  },
  {
   "cell_type": "code",
   "execution_count": 234,
   "id": "e0961fd9-8c63-4af4-93eb-7a9d6b85768c",
   "metadata": {},
   "outputs": [
    {
     "data": {
      "text/html": [
       "<div>\n",
       "<style scoped>\n",
       "    .dataframe tbody tr th:only-of-type {\n",
       "        vertical-align: middle;\n",
       "    }\n",
       "\n",
       "    .dataframe tbody tr th {\n",
       "        vertical-align: top;\n",
       "    }\n",
       "\n",
       "    .dataframe thead th {\n",
       "        text-align: right;\n",
       "    }\n",
       "</style>\n",
       "<table border=\"1\" class=\"dataframe\">\n",
       "  <thead>\n",
       "    <tr style=\"text-align: right;\">\n",
       "      <th></th>\n",
       "      <th>bedrooms</th>\n",
       "      <th>bathrooms</th>\n",
       "      <th>summary</th>\n",
       "      <th>price</th>\n",
       "      <th>commercial</th>\n",
       "      <th>development</th>\n",
       "      <th>students</th>\n",
       "      <th>feature_list</th>\n",
       "      <th>longitude</th>\n",
       "      <th>latitude</th>\n",
       "    </tr>\n",
       "  </thead>\n",
       "  <tbody>\n",
       "    <tr>\n",
       "      <th>0</th>\n",
       "      <td>2</td>\n",
       "      <td>1.0</td>\n",
       "      <td>SPRING TO KING'S CRESCENT! Bright and spacio...</td>\n",
       "      <td>8400.0</td>\n",
       "      <td>False</td>\n",
       "      <td>False</td>\n",
       "      <td>True</td>\n",
       "      <td>[Modern throughout, Bright Spacious Rooms, Exc...</td>\n",
       "      <td>-2.100750</td>\n",
       "      <td>57.156601</td>\n",
       "    </tr>\n",
       "    <tr>\n",
       "      <th>1</th>\n",
       "      <td>2</td>\n",
       "      <td>1.0</td>\n",
       "      <td>Belvoir are pleased to offer for rental this f...</td>\n",
       "      <td>6000.0</td>\n",
       "      <td>False</td>\n",
       "      <td>False</td>\n",
       "      <td>False</td>\n",
       "      <td>[Ultrafast Broadband Available, Green Space wi...</td>\n",
       "      <td>-2.116880</td>\n",
       "      <td>57.166310</td>\n",
       "    </tr>\n",
       "    <tr>\n",
       "      <th>2</th>\n",
       "      <td>2</td>\n",
       "      <td>1.0</td>\n",
       "      <td>We offer For Let this LUXURY 2 BEDROOM FULLY F...</td>\n",
       "      <td>10200.0</td>\n",
       "      <td>False</td>\n",
       "      <td>False</td>\n",
       "      <td>False</td>\n",
       "      <td>[Stylish 2 Bedroom First Floor Apartment, Spac...</td>\n",
       "      <td>-2.085600</td>\n",
       "      <td>57.152140</td>\n",
       "    </tr>\n",
       "    <tr>\n",
       "      <th>3</th>\n",
       "      <td>2</td>\n",
       "      <td>1.0</td>\n",
       "      <td>Property Reference: 1898640.We are pleased to ...</td>\n",
       "      <td>9000.0</td>\n",
       "      <td>False</td>\n",
       "      <td>False</td>\n",
       "      <td>False</td>\n",
       "      <td>[No Agent Fees, Students Can Enquire, Property...</td>\n",
       "      <td>-2.098261</td>\n",
       "      <td>57.145840</td>\n",
       "    </tr>\n",
       "    <tr>\n",
       "      <th>4</th>\n",
       "      <td>2</td>\n",
       "      <td>2.0</td>\n",
       "      <td>This ground floor property comprises of; entra...</td>\n",
       "      <td>10200.0</td>\n",
       "      <td>False</td>\n",
       "      <td>False</td>\n",
       "      <td>False</td>\n",
       "      <td>[Double glazing, Shower, Washing machine, Tele...</td>\n",
       "      <td>-2.095850</td>\n",
       "      <td>57.153930</td>\n",
       "    </tr>\n",
       "    <tr>\n",
       "      <th>...</th>\n",
       "      <td>...</td>\n",
       "      <td>...</td>\n",
       "      <td>...</td>\n",
       "      <td>...</td>\n",
       "      <td>...</td>\n",
       "      <td>...</td>\n",
       "      <td>...</td>\n",
       "      <td>...</td>\n",
       "      <td>...</td>\n",
       "      <td>...</td>\n",
       "    </tr>\n",
       "    <tr>\n",
       "      <th>62937</th>\n",
       "      <td>1</td>\n",
       "      <td>0.0</td>\n",
       "      <td>A modern apartment located on the  ground floo...</td>\n",
       "      <td>30936.0</td>\n",
       "      <td>False</td>\n",
       "      <td>False</td>\n",
       "      <td>False</td>\n",
       "      <td>[Ground Floor Flat, 1 Bedroom, 1 Bathroom, Com...</td>\n",
       "      <td>-0.177018</td>\n",
       "      <td>51.533102</td>\n",
       "    </tr>\n",
       "    <tr>\n",
       "      <th>62938</th>\n",
       "      <td>0</td>\n",
       "      <td>1.0</td>\n",
       "      <td>This stylish studio apartment is on the 10th f...</td>\n",
       "      <td>24600.0</td>\n",
       "      <td>False</td>\n",
       "      <td>False</td>\n",
       "      <td>True</td>\n",
       "      <td>[Pet Friendly, Roof Terrace, No Deposit Option...</td>\n",
       "      <td>-0.278890</td>\n",
       "      <td>51.558530</td>\n",
       "    </tr>\n",
       "    <tr>\n",
       "      <th>62939</th>\n",
       "      <td>3</td>\n",
       "      <td>2.0</td>\n",
       "      <td>A fabulous three bedroom two bathroom apartm...</td>\n",
       "      <td>24000.0</td>\n",
       "      <td>False</td>\n",
       "      <td>False</td>\n",
       "      <td>False</td>\n",
       "      <td>[Spectacular City Centre Living, Three Double ...</td>\n",
       "      <td>-1.895690</td>\n",
       "      <td>52.487440</td>\n",
       "    </tr>\n",
       "    <tr>\n",
       "      <th>62941</th>\n",
       "      <td>6</td>\n",
       "      <td>0.0</td>\n",
       "      <td>CPH are DELIGHTED to offer to the RENTAL MARKE...</td>\n",
       "      <td>28800.0</td>\n",
       "      <td>False</td>\n",
       "      <td>False</td>\n",
       "      <td>False</td>\n",
       "      <td>[SIX BEDROOM DETACHED HOUSE, OFF STREET PARKIN...</td>\n",
       "      <td>-0.442809</td>\n",
       "      <td>54.296051</td>\n",
       "    </tr>\n",
       "    <tr>\n",
       "      <th>62942</th>\n",
       "      <td>3</td>\n",
       "      <td>2.0</td>\n",
       "      <td>11, Brindle Way is a lovely three bedroom semi...</td>\n",
       "      <td>9600.0</td>\n",
       "      <td>False</td>\n",
       "      <td>False</td>\n",
       "      <td>False</td>\n",
       "      <td>[Semi-detached three bedroom family home, Kitc...</td>\n",
       "      <td>-0.773246</td>\n",
       "      <td>54.135269</td>\n",
       "    </tr>\n",
       "  </tbody>\n",
       "</table>\n",
       "<p>51029 rows × 10 columns</p>\n",
       "</div>"
      ],
      "text/plain": [
       "       bedrooms  bathrooms                                            summary  \\\n",
       "0             2        1.0    SPRING TO KING'S CRESCENT! Bright and spacio...   \n",
       "1             2        1.0  Belvoir are pleased to offer for rental this f...   \n",
       "2             2        1.0  We offer For Let this LUXURY 2 BEDROOM FULLY F...   \n",
       "3             2        1.0  Property Reference: 1898640.We are pleased to ...   \n",
       "4             2        2.0  This ground floor property comprises of; entra...   \n",
       "...         ...        ...                                                ...   \n",
       "62937         1        0.0  A modern apartment located on the  ground floo...   \n",
       "62938         0        1.0  This stylish studio apartment is on the 10th f...   \n",
       "62939         3        2.0    A fabulous three bedroom two bathroom apartm...   \n",
       "62941         6        0.0  CPH are DELIGHTED to offer to the RENTAL MARKE...   \n",
       "62942         3        2.0  11, Brindle Way is a lovely three bedroom semi...   \n",
       "\n",
       "         price  commercial  development  students  \\\n",
       "0       8400.0       False        False      True   \n",
       "1       6000.0       False        False     False   \n",
       "2      10200.0       False        False     False   \n",
       "3       9000.0       False        False     False   \n",
       "4      10200.0       False        False     False   \n",
       "...        ...         ...          ...       ...   \n",
       "62937  30936.0       False        False     False   \n",
       "62938  24600.0       False        False      True   \n",
       "62939  24000.0       False        False     False   \n",
       "62941  28800.0       False        False     False   \n",
       "62942   9600.0       False        False     False   \n",
       "\n",
       "                                            feature_list  longitude   latitude  \n",
       "0      [Modern throughout, Bright Spacious Rooms, Exc...  -2.100750  57.156601  \n",
       "1      [Ultrafast Broadband Available, Green Space wi...  -2.116880  57.166310  \n",
       "2      [Stylish 2 Bedroom First Floor Apartment, Spac...  -2.085600  57.152140  \n",
       "3      [No Agent Fees, Students Can Enquire, Property...  -2.098261  57.145840  \n",
       "4      [Double glazing, Shower, Washing machine, Tele...  -2.095850  57.153930  \n",
       "...                                                  ...        ...        ...  \n",
       "62937  [Ground Floor Flat, 1 Bedroom, 1 Bathroom, Com...  -0.177018  51.533102  \n",
       "62938  [Pet Friendly, Roof Terrace, No Deposit Option...  -0.278890  51.558530  \n",
       "62939  [Spectacular City Centre Living, Three Double ...  -1.895690  52.487440  \n",
       "62941  [SIX BEDROOM DETACHED HOUSE, OFF STREET PARKIN...  -0.442809  54.296051  \n",
       "62942  [Semi-detached three bedroom family home, Kitc...  -0.773246  54.135269  \n",
       "\n",
       "[51029 rows x 10 columns]"
      ]
     },
     "execution_count": 234,
     "metadata": {},
     "output_type": "execute_result"
    }
   ],
   "source": [
    "preprocessed_df"
   ]
  },
  {
   "cell_type": "markdown",
   "id": "9cb8be1c-138b-4397-bec2-9fbc5901fa68",
   "metadata": {},
   "source": [
    "# Handling textual Data"
   ]
  },
  {
   "cell_type": "code",
   "execution_count": 222,
   "id": "339ab3d6-f207-40e3-9b16-ec2ef1dcec49",
   "metadata": {},
   "outputs": [],
   "source": [
    "from sklearn.feature_extraction.text import TfidfVectorizer"
   ]
  },
  {
   "cell_type": "code",
   "execution_count": 225,
   "id": "1d4e9833-6424-499c-a259-1189111353db",
   "metadata": {},
   "outputs": [
    {
     "data": {
      "text/plain": [
       "'hello, world'"
      ]
     },
     "execution_count": 225,
     "metadata": {},
     "output_type": "execute_result"
    }
   ],
   "source": [
    "', '.join(['hello', 'world'])"
   ]
  },
  {
   "cell_type": "code",
   "execution_count": 237,
   "id": "1360eae2-922f-435d-81a1-d5936f7dfbdb",
   "metadata": {},
   "outputs": [],
   "source": [
    "def merge_text(x):\n",
    "    summary = x[0]\n",
    "    feature_list = x[1]\n",
    "\n",
    "    feature_list_joined = ', '.join(feature_list)\n",
    "\n",
    "    return feature_list_joined + ' , ' + summary"
   ]
  },
  {
   "cell_type": "code",
   "execution_count": 238,
   "id": "6c2c36d9-bf3e-4c0c-b701-f4442516c0c4",
   "metadata": {},
   "outputs": [],
   "source": [
    "preprocessed_df['text'] = preprocessed_df[['summary', 'feature_list']].apply(merge_text, axis=1)"
   ]
  },
  {
   "cell_type": "code",
   "execution_count": 241,
   "id": "bbb5facb-e81b-4a29-a1bd-d7b1888fe4ae",
   "metadata": {},
   "outputs": [],
   "source": [
    "preprocessed_df = preprocessed_df.drop(columns=['summary', 'feature_list'])"
   ]
  },
  {
   "cell_type": "code",
   "execution_count": 244,
   "id": "5e506b4b-d3c8-458e-917e-f3b96fb6fae8",
   "metadata": {},
   "outputs": [
    {
     "data": {
      "text/plain": [
       "0        Modern throughout, Bright Spacious Rooms, Exce...\n",
       "1        Ultrafast Broadband Available, Green Space wit...\n",
       "2        Stylish 2 Bedroom First Floor Apartment, Spaci...\n",
       "3        No Agent Fees, Students Can Enquire, Property ...\n",
       "4        Double glazing, Shower, Washing machine, Telev...\n",
       "                               ...                        \n",
       "62937    Ground Floor Flat, 1 Bedroom, 1 Bathroom, Comm...\n",
       "62938    Pet Friendly, Roof Terrace, No Deposit Option,...\n",
       "62939    Spectacular City Centre Living, Three Double B...\n",
       "62941    SIX BEDROOM DETACHED HOUSE, OFF STREET PARKING...\n",
       "62942    Semi-detached three bedroom family home, Kitch...\n",
       "Name: text, Length: 51029, dtype: object"
      ]
     },
     "execution_count": 244,
     "metadata": {},
     "output_type": "execute_result"
    }
   ],
   "source": [
    "preprocessed_df['text']"
   ]
  },
  {
   "cell_type": "code",
   "execution_count": 310,
   "id": "a8154d1f-006b-462f-a5fc-bd96776a0f28",
   "metadata": {},
   "outputs": [],
   "source": [
    "preprocessed_df['commercial'] = preprocessed_df['commercial'].apply(lambda x: 1 if x else 0)\n",
    "preprocessed_df['development'] = preprocessed_df['development'].apply(lambda x: 1 if x else 0)\n",
    "preprocessed_df['students'] = preprocessed_df['students'].apply(lambda x: 1 if x else 0)"
   ]
  },
  {
   "cell_type": "markdown",
   "id": "a41bf053-3cf8-4fe4-8da4-5f8de4e3bc02",
   "metadata": {},
   "source": [
    "## Split data"
   ]
  },
  {
   "cell_type": "code",
   "execution_count": 311,
   "id": "50842a7f-a977-48fe-a4d1-780380ce4eea",
   "metadata": {},
   "outputs": [],
   "source": [
    "train_val, test = train_test_split(preprocessed_df, test_size=0.2, random_state=42)  # 20% for test set"
   ]
  },
  {
   "cell_type": "code",
   "execution_count": 312,
   "id": "bff85846-5ba9-43c0-8320-3afb7a5dd5aa",
   "metadata": {},
   "outputs": [
    {
     "data": {
      "text/html": [
       "<div>\n",
       "<style scoped>\n",
       "    .dataframe tbody tr th:only-of-type {\n",
       "        vertical-align: middle;\n",
       "    }\n",
       "\n",
       "    .dataframe tbody tr th {\n",
       "        vertical-align: top;\n",
       "    }\n",
       "\n",
       "    .dataframe thead th {\n",
       "        text-align: right;\n",
       "    }\n",
       "</style>\n",
       "<table border=\"1\" class=\"dataframe\">\n",
       "  <thead>\n",
       "    <tr style=\"text-align: right;\">\n",
       "      <th></th>\n",
       "      <th>bedrooms</th>\n",
       "      <th>bathrooms</th>\n",
       "      <th>price</th>\n",
       "      <th>commercial</th>\n",
       "      <th>development</th>\n",
       "      <th>students</th>\n",
       "      <th>longitude</th>\n",
       "      <th>latitude</th>\n",
       "      <th>text</th>\n",
       "    </tr>\n",
       "  </thead>\n",
       "  <tbody>\n",
       "    <tr>\n",
       "      <th>16795</th>\n",
       "      <td>3</td>\n",
       "      <td>1.0</td>\n",
       "      <td>16200.0</td>\n",
       "      <td>0</td>\n",
       "      <td>0</td>\n",
       "      <td>0</td>\n",
       "      <td>-1.905006</td>\n",
       "      <td>50.812920</td>\n",
       "      <td>Stunning three-bedroom house available now!, B...</td>\n",
       "    </tr>\n",
       "    <tr>\n",
       "      <th>30951</th>\n",
       "      <td>2</td>\n",
       "      <td>0.0</td>\n",
       "      <td>12000.0</td>\n",
       "      <td>0</td>\n",
       "      <td>0</td>\n",
       "      <td>0</td>\n",
       "      <td>-0.533927</td>\n",
       "      <td>50.803699</td>\n",
       "      <td>SPACIOUS FIRST FLOOR FLAT, TWO DOUBLE BEDROOMS...</td>\n",
       "    </tr>\n",
       "    <tr>\n",
       "      <th>58701</th>\n",
       "      <td>1</td>\n",
       "      <td>1.0</td>\n",
       "      <td>7140.0</td>\n",
       "      <td>0</td>\n",
       "      <td>0</td>\n",
       "      <td>0</td>\n",
       "      <td>-0.488143</td>\n",
       "      <td>53.740456</td>\n",
       "      <td>Quant Period Cottage, 1 Bedroom Character Prop...</td>\n",
       "    </tr>\n",
       "    <tr>\n",
       "      <th>58258</th>\n",
       "      <td>3</td>\n",
       "      <td>1.0</td>\n",
       "      <td>10740.0</td>\n",
       "      <td>0</td>\n",
       "      <td>0</td>\n",
       "      <td>0</td>\n",
       "      <td>-1.275200</td>\n",
       "      <td>52.892870</td>\n",
       "      <td>Available Now, Two Spacious Reception Rooms, G...</td>\n",
       "    </tr>\n",
       "    <tr>\n",
       "      <th>21902</th>\n",
       "      <td>1</td>\n",
       "      <td>1.0</td>\n",
       "      <td>7200.0</td>\n",
       "      <td>0</td>\n",
       "      <td>0</td>\n",
       "      <td>0</td>\n",
       "      <td>-1.555076</td>\n",
       "      <td>54.531530</td>\n",
       "      <td>No Agent Fees, Room Only (Shared House), Stude...</td>\n",
       "    </tr>\n",
       "  </tbody>\n",
       "</table>\n",
       "</div>"
      ],
      "text/plain": [
       "       bedrooms  bathrooms    price  commercial  development  students  \\\n",
       "16795         3        1.0  16200.0           0            0         0   \n",
       "30951         2        0.0  12000.0           0            0         0   \n",
       "58701         1        1.0   7140.0           0            0         0   \n",
       "58258         3        1.0  10740.0           0            0         0   \n",
       "21902         1        1.0   7200.0           0            0         0   \n",
       "\n",
       "       longitude   latitude                                               text  \n",
       "16795  -1.905006  50.812920  Stunning three-bedroom house available now!, B...  \n",
       "30951  -0.533927  50.803699  SPACIOUS FIRST FLOOR FLAT, TWO DOUBLE BEDROOMS...  \n",
       "58701  -0.488143  53.740456  Quant Period Cottage, 1 Bedroom Character Prop...  \n",
       "58258  -1.275200  52.892870  Available Now, Two Spacious Reception Rooms, G...  \n",
       "21902  -1.555076  54.531530  No Agent Fees, Room Only (Shared House), Stude...  "
      ]
     },
     "execution_count": 312,
     "metadata": {},
     "output_type": "execute_result"
    }
   ],
   "source": [
    "train_val.head()"
   ]
  },
  {
   "cell_type": "code",
   "execution_count": 345,
   "id": "9bf695d8-a564-4850-bf72-e681b1d0c18c",
   "metadata": {},
   "outputs": [],
   "source": [
    "numeric_features = ['bedrooms', 'bathrooms', 'longitude', 'latitude']\n",
    "text_features = ['text']\n",
    "\n",
    "X = train_val[numeric_features + text_features]\n",
    "y = train_val['price']\n",
    "\n",
    "X_train, X_val, y_train, y_val = train_test_split(X, y, test_size=0.25, random_state=42)  # Splitting the remaining 80% into 60% training and 20% validation"
   ]
  },
  {
   "cell_type": "code",
   "execution_count": 346,
   "id": "823d0804-0e69-454b-bd98-123342f80133",
   "metadata": {},
   "outputs": [
    {
     "data": {
      "text/html": [
       "<div>\n",
       "<style scoped>\n",
       "    .dataframe tbody tr th:only-of-type {\n",
       "        vertical-align: middle;\n",
       "    }\n",
       "\n",
       "    .dataframe tbody tr th {\n",
       "        vertical-align: top;\n",
       "    }\n",
       "\n",
       "    .dataframe thead th {\n",
       "        text-align: right;\n",
       "    }\n",
       "</style>\n",
       "<table border=\"1\" class=\"dataframe\">\n",
       "  <thead>\n",
       "    <tr style=\"text-align: right;\">\n",
       "      <th></th>\n",
       "      <th>bedrooms</th>\n",
       "      <th>bathrooms</th>\n",
       "      <th>longitude</th>\n",
       "      <th>latitude</th>\n",
       "      <th>text</th>\n",
       "    </tr>\n",
       "  </thead>\n",
       "  <tbody>\n",
       "    <tr>\n",
       "      <th>16795</th>\n",
       "      <td>3</td>\n",
       "      <td>1.0</td>\n",
       "      <td>-1.905006</td>\n",
       "      <td>50.812920</td>\n",
       "      <td>Stunning three-bedroom house available now!, B...</td>\n",
       "    </tr>\n",
       "    <tr>\n",
       "      <th>30951</th>\n",
       "      <td>2</td>\n",
       "      <td>0.0</td>\n",
       "      <td>-0.533927</td>\n",
       "      <td>50.803699</td>\n",
       "      <td>SPACIOUS FIRST FLOOR FLAT, TWO DOUBLE BEDROOMS...</td>\n",
       "    </tr>\n",
       "    <tr>\n",
       "      <th>58701</th>\n",
       "      <td>1</td>\n",
       "      <td>1.0</td>\n",
       "      <td>-0.488143</td>\n",
       "      <td>53.740456</td>\n",
       "      <td>Quant Period Cottage, 1 Bedroom Character Prop...</td>\n",
       "    </tr>\n",
       "    <tr>\n",
       "      <th>58258</th>\n",
       "      <td>3</td>\n",
       "      <td>1.0</td>\n",
       "      <td>-1.275200</td>\n",
       "      <td>52.892870</td>\n",
       "      <td>Available Now, Two Spacious Reception Rooms, G...</td>\n",
       "    </tr>\n",
       "    <tr>\n",
       "      <th>21902</th>\n",
       "      <td>1</td>\n",
       "      <td>1.0</td>\n",
       "      <td>-1.555076</td>\n",
       "      <td>54.531530</td>\n",
       "      <td>No Agent Fees, Room Only (Shared House), Stude...</td>\n",
       "    </tr>\n",
       "    <tr>\n",
       "      <th>...</th>\n",
       "      <td>...</td>\n",
       "      <td>...</td>\n",
       "      <td>...</td>\n",
       "      <td>...</td>\n",
       "      <td>...</td>\n",
       "    </tr>\n",
       "    <tr>\n",
       "      <th>14539</th>\n",
       "      <td>0</td>\n",
       "      <td>1.0</td>\n",
       "      <td>-1.781932</td>\n",
       "      <td>53.647977</td>\n",
       "      <td>Town Centre Location, GWE &amp; BB Bills Inclusive...</td>\n",
       "    </tr>\n",
       "    <tr>\n",
       "      <th>55302</th>\n",
       "      <td>0</td>\n",
       "      <td>1.0</td>\n",
       "      <td>-0.093580</td>\n",
       "      <td>51.373760</td>\n",
       "      <td>No deposit required, set utility fees*, Tech-e...</td>\n",
       "    </tr>\n",
       "    <tr>\n",
       "      <th>47438</th>\n",
       "      <td>3</td>\n",
       "      <td>1.0</td>\n",
       "      <td>-1.189950</td>\n",
       "      <td>52.625860</td>\n",
       "      <td>Council tax band A, Available 2024, 3 bedroom ...</td>\n",
       "    </tr>\n",
       "    <tr>\n",
       "      <th>1025</th>\n",
       "      <td>5</td>\n",
       "      <td>3.0</td>\n",
       "      <td>-1.929790</td>\n",
       "      <td>52.438380</td>\n",
       "      <td>Fully furnished with Double Beds, walking dist...</td>\n",
       "    </tr>\n",
       "    <tr>\n",
       "      <th>20142</th>\n",
       "      <td>2</td>\n",
       "      <td>1.0</td>\n",
       "      <td>-0.187820</td>\n",
       "      <td>51.423674</td>\n",
       "      <td>2 double bedrooms, 1 bathroom, 1 reception roo...</td>\n",
       "    </tr>\n",
       "  </tbody>\n",
       "</table>\n",
       "<p>40823 rows × 5 columns</p>\n",
       "</div>"
      ],
      "text/plain": [
       "       bedrooms  bathrooms  longitude   latitude  \\\n",
       "16795         3        1.0  -1.905006  50.812920   \n",
       "30951         2        0.0  -0.533927  50.803699   \n",
       "58701         1        1.0  -0.488143  53.740456   \n",
       "58258         3        1.0  -1.275200  52.892870   \n",
       "21902         1        1.0  -1.555076  54.531530   \n",
       "...         ...        ...        ...        ...   \n",
       "14539         0        1.0  -1.781932  53.647977   \n",
       "55302         0        1.0  -0.093580  51.373760   \n",
       "47438         3        1.0  -1.189950  52.625860   \n",
       "1025          5        3.0  -1.929790  52.438380   \n",
       "20142         2        1.0  -0.187820  51.423674   \n",
       "\n",
       "                                                    text  \n",
       "16795  Stunning three-bedroom house available now!, B...  \n",
       "30951  SPACIOUS FIRST FLOOR FLAT, TWO DOUBLE BEDROOMS...  \n",
       "58701  Quant Period Cottage, 1 Bedroom Character Prop...  \n",
       "58258  Available Now, Two Spacious Reception Rooms, G...  \n",
       "21902  No Agent Fees, Room Only (Shared House), Stude...  \n",
       "...                                                  ...  \n",
       "14539  Town Centre Location, GWE & BB Bills Inclusive...  \n",
       "55302  No deposit required, set utility fees*, Tech-e...  \n",
       "47438  Council tax band A, Available 2024, 3 bedroom ...  \n",
       "1025   Fully furnished with Double Beds, walking dist...  \n",
       "20142  2 double bedrooms, 1 bathroom, 1 reception roo...  \n",
       "\n",
       "[40823 rows x 5 columns]"
      ]
     },
     "execution_count": 346,
     "metadata": {},
     "output_type": "execute_result"
    }
   ],
   "source": [
    "X"
   ]
  },
  {
   "cell_type": "code",
   "execution_count": 347,
   "id": "9ec59314-17c1-4a48-ab03-cf10921c44ed",
   "metadata": {},
   "outputs": [],
   "source": [
    "from sklearn.compose import ColumnTransformer\n",
    "from sklearn.feature_extraction.text import TfidfVectorizer\n",
    "from sklearn.preprocessing import StandardScaler\n",
    "from sklearn.ensemble import RandomForestRegressor\n",
    "from sklearn.pipeline import Pipeline\n",
    "from sklearn.model_selection import train_test_split"
   ]
  },
  {
   "cell_type": "code",
   "execution_count": 348,
   "id": "9a1b78b0-b999-4f65-8938-8b71d6f27ef7",
   "metadata": {},
   "outputs": [
    {
     "data": {
      "text/plain": [
       "['bedrooms', 'bathrooms', 'longitude', 'latitude']"
      ]
     },
     "execution_count": 348,
     "metadata": {},
     "output_type": "execute_result"
    }
   ],
   "source": [
    "numeric_features"
   ]
  },
  {
   "cell_type": "code",
   "execution_count": 349,
   "id": "b0a40888-fa8c-48c0-b776-7f251cb86832",
   "metadata": {},
   "outputs": [],
   "source": [
    "preprocessor = ColumnTransformer(\n",
    "    transformers=[\n",
    "        # ('text', TfidfVectorizer(), 'text'),\n",
    "        ('num', 'passthrough', numeric_features)\n",
    "    ]\n",
    ")"
   ]
  },
  {
   "cell_type": "code",
   "execution_count": 350,
   "id": "f35aa197-0008-4a99-8e9e-c6204999ee9d",
   "metadata": {},
   "outputs": [],
   "source": [
    "pipeline = Pipeline([\n",
    "    ('transformer', preprocessor),\n",
    "    ('classifier', xgb.XGBRegressor())\n",
    "])"
   ]
  },
  {
   "cell_type": "code",
   "execution_count": 351,
   "id": "c197ab66-ec34-443f-8b37-e0be5e40246f",
   "metadata": {},
   "outputs": [],
   "source": [
    "vectorizer = TfidfVectorizer()\n",
    "X_train_tfidf = vectorizer.fit_transform(X_train['text'])"
   ]
  },
  {
   "cell_type": "code",
   "execution_count": 352,
   "id": "6bc47adc-54a9-41de-a2c3-2f5a5cb11d6c",
   "metadata": {},
   "outputs": [
    {
     "data": {
      "text/html": [
       "<div>\n",
       "<style scoped>\n",
       "    .dataframe tbody tr th:only-of-type {\n",
       "        vertical-align: middle;\n",
       "    }\n",
       "\n",
       "    .dataframe tbody tr th {\n",
       "        vertical-align: top;\n",
       "    }\n",
       "\n",
       "    .dataframe thead th {\n",
       "        text-align: right;\n",
       "    }\n",
       "</style>\n",
       "<table border=\"1\" class=\"dataframe\">\n",
       "  <thead>\n",
       "    <tr style=\"text-align: right;\">\n",
       "      <th></th>\n",
       "      <th>bedrooms</th>\n",
       "      <th>bathrooms</th>\n",
       "      <th>longitude</th>\n",
       "      <th>latitude</th>\n",
       "      <th>text</th>\n",
       "    </tr>\n",
       "  </thead>\n",
       "  <tbody>\n",
       "    <tr>\n",
       "      <th>39353</th>\n",
       "      <td>1</td>\n",
       "      <td>1.0</td>\n",
       "      <td>-0.241110</td>\n",
       "      <td>51.595570</td>\n",
       "      <td>Selection of Amenities On-site, Well Tended Co...</td>\n",
       "    </tr>\n",
       "    <tr>\n",
       "      <th>14871</th>\n",
       "      <td>2</td>\n",
       "      <td>2.0</td>\n",
       "      <td>-0.331732</td>\n",
       "      <td>51.562320</td>\n",
       "      <td>No Agent Fees, Students Can Enquire, Property ...</td>\n",
       "    </tr>\n",
       "    <tr>\n",
       "      <th>43096</th>\n",
       "      <td>2</td>\n",
       "      <td>1.0</td>\n",
       "      <td>-0.463023</td>\n",
       "      <td>51.347835</td>\n",
       "      <td>CLOSE TO LOCAL AMENITIES AND HEALTH CLUB, NEAR...</td>\n",
       "    </tr>\n",
       "    <tr>\n",
       "      <th>34038</th>\n",
       "      <td>3</td>\n",
       "      <td>1.0</td>\n",
       "      <td>1.163580</td>\n",
       "      <td>52.049090</td>\n",
       "      <td>WATER VIEWS FROM ALL ROOMS, ONE ALLOCATED PARK...</td>\n",
       "    </tr>\n",
       "    <tr>\n",
       "      <th>28185</th>\n",
       "      <td>0</td>\n",
       "      <td>1.0</td>\n",
       "      <td>0.340181</td>\n",
       "      <td>53.145110</td>\n",
       "      <td>No Agent Fees, Students Can Enquire, Bills Inc...</td>\n",
       "    </tr>\n",
       "    <tr>\n",
       "      <th>...</th>\n",
       "      <td>...</td>\n",
       "      <td>...</td>\n",
       "      <td>...</td>\n",
       "      <td>...</td>\n",
       "      <td>...</td>\n",
       "    </tr>\n",
       "    <tr>\n",
       "      <th>55415</th>\n",
       "      <td>2</td>\n",
       "      <td>2.0</td>\n",
       "      <td>-2.220842</td>\n",
       "      <td>53.480183</td>\n",
       "      <td>**MUST SEE**, Ancoats location, Converted Mill...</td>\n",
       "    </tr>\n",
       "    <tr>\n",
       "      <th>34829</th>\n",
       "      <td>3</td>\n",
       "      <td>1.0</td>\n",
       "      <td>-1.624322</td>\n",
       "      <td>54.687090</td>\n",
       "      <td>No Agent Fees, Students Can Enquire, Property ...</td>\n",
       "    </tr>\n",
       "    <tr>\n",
       "      <th>40917</th>\n",
       "      <td>1</td>\n",
       "      <td>1.0</td>\n",
       "      <td>-3.165760</td>\n",
       "      <td>51.467720</td>\n",
       "      <td>FORIO HOUSE, ONE BEDROOM APARTMENT, FULLY FURN...</td>\n",
       "    </tr>\n",
       "    <tr>\n",
       "      <th>41297</th>\n",
       "      <td>2</td>\n",
       "      <td>1.0</td>\n",
       "      <td>0.045880</td>\n",
       "      <td>51.583073</td>\n",
       "      <td>No Agent Fees, Bills Included, Property Refere...</td>\n",
       "    </tr>\n",
       "    <tr>\n",
       "      <th>55918</th>\n",
       "      <td>2</td>\n",
       "      <td>1.0</td>\n",
       "      <td>-0.427960</td>\n",
       "      <td>51.878590</td>\n",
       "      <td>TOWN CENTRE, TWO BEDROOM FLAT, FIRST FLOOR, CL...</td>\n",
       "    </tr>\n",
       "  </tbody>\n",
       "</table>\n",
       "<p>30617 rows × 5 columns</p>\n",
       "</div>"
      ],
      "text/plain": [
       "       bedrooms  bathrooms  longitude   latitude  \\\n",
       "39353         1        1.0  -0.241110  51.595570   \n",
       "14871         2        2.0  -0.331732  51.562320   \n",
       "43096         2        1.0  -0.463023  51.347835   \n",
       "34038         3        1.0   1.163580  52.049090   \n",
       "28185         0        1.0   0.340181  53.145110   \n",
       "...         ...        ...        ...        ...   \n",
       "55415         2        2.0  -2.220842  53.480183   \n",
       "34829         3        1.0  -1.624322  54.687090   \n",
       "40917         1        1.0  -3.165760  51.467720   \n",
       "41297         2        1.0   0.045880  51.583073   \n",
       "55918         2        1.0  -0.427960  51.878590   \n",
       "\n",
       "                                                    text  \n",
       "39353  Selection of Amenities On-site, Well Tended Co...  \n",
       "14871  No Agent Fees, Students Can Enquire, Property ...  \n",
       "43096  CLOSE TO LOCAL AMENITIES AND HEALTH CLUB, NEAR...  \n",
       "34038  WATER VIEWS FROM ALL ROOMS, ONE ALLOCATED PARK...  \n",
       "28185  No Agent Fees, Students Can Enquire, Bills Inc...  \n",
       "...                                                  ...  \n",
       "55415  **MUST SEE**, Ancoats location, Converted Mill...  \n",
       "34829  No Agent Fees, Students Can Enquire, Property ...  \n",
       "40917  FORIO HOUSE, ONE BEDROOM APARTMENT, FULLY FURN...  \n",
       "41297  No Agent Fees, Bills Included, Property Refere...  \n",
       "55918  TOWN CENTRE, TWO BEDROOM FLAT, FIRST FLOOR, CL...  \n",
       "\n",
       "[30617 rows x 5 columns]"
      ]
     },
     "execution_count": 352,
     "metadata": {},
     "output_type": "execute_result"
    }
   ],
   "source": [
    "X_train"
   ]
  },
  {
   "cell_type": "code",
   "execution_count": 353,
   "id": "cd6c57de-a149-4eb1-a67f-d067bea344bf",
   "metadata": {},
   "outputs": [
    {
     "data": {
      "text/html": [
       "<style>#sk-container-id-8 {color: black;}#sk-container-id-8 pre{padding: 0;}#sk-container-id-8 div.sk-toggleable {background-color: white;}#sk-container-id-8 label.sk-toggleable__label {cursor: pointer;display: block;width: 100%;margin-bottom: 0;padding: 0.3em;box-sizing: border-box;text-align: center;}#sk-container-id-8 label.sk-toggleable__label-arrow:before {content: \"▸\";float: left;margin-right: 0.25em;color: #696969;}#sk-container-id-8 label.sk-toggleable__label-arrow:hover:before {color: black;}#sk-container-id-8 div.sk-estimator:hover label.sk-toggleable__label-arrow:before {color: black;}#sk-container-id-8 div.sk-toggleable__content {max-height: 0;max-width: 0;overflow: hidden;text-align: left;background-color: #f0f8ff;}#sk-container-id-8 div.sk-toggleable__content pre {margin: 0.2em;color: black;border-radius: 0.25em;background-color: #f0f8ff;}#sk-container-id-8 input.sk-toggleable__control:checked~div.sk-toggleable__content {max-height: 200px;max-width: 100%;overflow: auto;}#sk-container-id-8 input.sk-toggleable__control:checked~label.sk-toggleable__label-arrow:before {content: \"▾\";}#sk-container-id-8 div.sk-estimator input.sk-toggleable__control:checked~label.sk-toggleable__label {background-color: #d4ebff;}#sk-container-id-8 div.sk-label input.sk-toggleable__control:checked~label.sk-toggleable__label {background-color: #d4ebff;}#sk-container-id-8 input.sk-hidden--visually {border: 0;clip: rect(1px 1px 1px 1px);clip: rect(1px, 1px, 1px, 1px);height: 1px;margin: -1px;overflow: hidden;padding: 0;position: absolute;width: 1px;}#sk-container-id-8 div.sk-estimator {font-family: monospace;background-color: #f0f8ff;border: 1px dotted black;border-radius: 0.25em;box-sizing: border-box;margin-bottom: 0.5em;}#sk-container-id-8 div.sk-estimator:hover {background-color: #d4ebff;}#sk-container-id-8 div.sk-parallel-item::after {content: \"\";width: 100%;border-bottom: 1px solid gray;flex-grow: 1;}#sk-container-id-8 div.sk-label:hover label.sk-toggleable__label {background-color: #d4ebff;}#sk-container-id-8 div.sk-serial::before {content: \"\";position: absolute;border-left: 1px solid gray;box-sizing: border-box;top: 0;bottom: 0;left: 50%;z-index: 0;}#sk-container-id-8 div.sk-serial {display: flex;flex-direction: column;align-items: center;background-color: white;padding-right: 0.2em;padding-left: 0.2em;position: relative;}#sk-container-id-8 div.sk-item {position: relative;z-index: 1;}#sk-container-id-8 div.sk-parallel {display: flex;align-items: stretch;justify-content: center;background-color: white;position: relative;}#sk-container-id-8 div.sk-item::before, #sk-container-id-8 div.sk-parallel-item::before {content: \"\";position: absolute;border-left: 1px solid gray;box-sizing: border-box;top: 0;bottom: 0;left: 50%;z-index: -1;}#sk-container-id-8 div.sk-parallel-item {display: flex;flex-direction: column;z-index: 1;position: relative;background-color: white;}#sk-container-id-8 div.sk-parallel-item:first-child::after {align-self: flex-end;width: 50%;}#sk-container-id-8 div.sk-parallel-item:last-child::after {align-self: flex-start;width: 50%;}#sk-container-id-8 div.sk-parallel-item:only-child::after {width: 0;}#sk-container-id-8 div.sk-dashed-wrapped {border: 1px dashed gray;margin: 0 0.4em 0.5em 0.4em;box-sizing: border-box;padding-bottom: 0.4em;background-color: white;}#sk-container-id-8 div.sk-label label {font-family: monospace;font-weight: bold;display: inline-block;line-height: 1.2em;}#sk-container-id-8 div.sk-label-container {text-align: center;}#sk-container-id-8 div.sk-container {/* jupyter's `normalize.less` sets `[hidden] { display: none; }` but bootstrap.min.css set `[hidden] { display: none !important; }` so we also need the `!important` here to be able to override the default hidden behavior on the sphinx rendered scikit-learn.org. See: https://github.com/scikit-learn/scikit-learn/issues/21755 */display: inline-block !important;position: relative;}#sk-container-id-8 div.sk-text-repr-fallback {display: none;}</style><div id=\"sk-container-id-8\" class=\"sk-top-container\"><div class=\"sk-text-repr-fallback\"><pre>Pipeline(steps=[(&#x27;transformer&#x27;,\n",
       "                 ColumnTransformer(transformers=[(&#x27;num&#x27;, &#x27;passthrough&#x27;,\n",
       "                                                  [&#x27;bedrooms&#x27;, &#x27;bathrooms&#x27;,\n",
       "                                                   &#x27;longitude&#x27;,\n",
       "                                                   &#x27;latitude&#x27;])])),\n",
       "                (&#x27;classifier&#x27;,\n",
       "                 XGBRegressor(base_score=None, booster=None, callbacks=None,\n",
       "                              colsample_bylevel=None, colsample_bynode=None,\n",
       "                              colsample_bytree=None, device=None,\n",
       "                              early_stopping_rounds=None,\n",
       "                              enable_categorical=False, eval_metric=...\n",
       "                              feature_types=None, gamma=None, grow_policy=None,\n",
       "                              importance_type=None,\n",
       "                              interaction_constraints=None, learning_rate=None,\n",
       "                              max_bin=None, max_cat_threshold=None,\n",
       "                              max_cat_to_onehot=None, max_delta_step=None,\n",
       "                              max_depth=None, max_leaves=None,\n",
       "                              min_child_weight=None, missing=nan,\n",
       "                              monotone_constraints=None, multi_strategy=None,\n",
       "                              n_estimators=None, n_jobs=None,\n",
       "                              num_parallel_tree=None, random_state=None, ...))])</pre><b>In a Jupyter environment, please rerun this cell to show the HTML representation or trust the notebook. <br />On GitHub, the HTML representation is unable to render, please try loading this page with nbviewer.org.</b></div><div class=\"sk-container\" hidden><div class=\"sk-item sk-dashed-wrapped\"><div class=\"sk-label-container\"><div class=\"sk-label sk-toggleable\"><input class=\"sk-toggleable__control sk-hidden--visually\" id=\"sk-estimator-id-27\" type=\"checkbox\" ><label for=\"sk-estimator-id-27\" class=\"sk-toggleable__label sk-toggleable__label-arrow\">Pipeline</label><div class=\"sk-toggleable__content\"><pre>Pipeline(steps=[(&#x27;transformer&#x27;,\n",
       "                 ColumnTransformer(transformers=[(&#x27;num&#x27;, &#x27;passthrough&#x27;,\n",
       "                                                  [&#x27;bedrooms&#x27;, &#x27;bathrooms&#x27;,\n",
       "                                                   &#x27;longitude&#x27;,\n",
       "                                                   &#x27;latitude&#x27;])])),\n",
       "                (&#x27;classifier&#x27;,\n",
       "                 XGBRegressor(base_score=None, booster=None, callbacks=None,\n",
       "                              colsample_bylevel=None, colsample_bynode=None,\n",
       "                              colsample_bytree=None, device=None,\n",
       "                              early_stopping_rounds=None,\n",
       "                              enable_categorical=False, eval_metric=...\n",
       "                              feature_types=None, gamma=None, grow_policy=None,\n",
       "                              importance_type=None,\n",
       "                              interaction_constraints=None, learning_rate=None,\n",
       "                              max_bin=None, max_cat_threshold=None,\n",
       "                              max_cat_to_onehot=None, max_delta_step=None,\n",
       "                              max_depth=None, max_leaves=None,\n",
       "                              min_child_weight=None, missing=nan,\n",
       "                              monotone_constraints=None, multi_strategy=None,\n",
       "                              n_estimators=None, n_jobs=None,\n",
       "                              num_parallel_tree=None, random_state=None, ...))])</pre></div></div></div><div class=\"sk-serial\"><div class=\"sk-item sk-dashed-wrapped\"><div class=\"sk-label-container\"><div class=\"sk-label sk-toggleable\"><input class=\"sk-toggleable__control sk-hidden--visually\" id=\"sk-estimator-id-28\" type=\"checkbox\" ><label for=\"sk-estimator-id-28\" class=\"sk-toggleable__label sk-toggleable__label-arrow\">transformer: ColumnTransformer</label><div class=\"sk-toggleable__content\"><pre>ColumnTransformer(transformers=[(&#x27;num&#x27;, &#x27;passthrough&#x27;,\n",
       "                                 [&#x27;bedrooms&#x27;, &#x27;bathrooms&#x27;, &#x27;longitude&#x27;,\n",
       "                                  &#x27;latitude&#x27;])])</pre></div></div></div><div class=\"sk-parallel\"><div class=\"sk-parallel-item\"><div class=\"sk-item\"><div class=\"sk-label-container\"><div class=\"sk-label sk-toggleable\"><input class=\"sk-toggleable__control sk-hidden--visually\" id=\"sk-estimator-id-29\" type=\"checkbox\" ><label for=\"sk-estimator-id-29\" class=\"sk-toggleable__label sk-toggleable__label-arrow\">num</label><div class=\"sk-toggleable__content\"><pre>[&#x27;bedrooms&#x27;, &#x27;bathrooms&#x27;, &#x27;longitude&#x27;, &#x27;latitude&#x27;]</pre></div></div></div><div class=\"sk-serial\"><div class=\"sk-item\"><div class=\"sk-estimator sk-toggleable\"><input class=\"sk-toggleable__control sk-hidden--visually\" id=\"sk-estimator-id-30\" type=\"checkbox\" ><label for=\"sk-estimator-id-30\" class=\"sk-toggleable__label sk-toggleable__label-arrow\">passthrough</label><div class=\"sk-toggleable__content\"><pre>passthrough</pre></div></div></div></div></div></div></div></div><div class=\"sk-item\"><div class=\"sk-estimator sk-toggleable\"><input class=\"sk-toggleable__control sk-hidden--visually\" id=\"sk-estimator-id-31\" type=\"checkbox\" ><label for=\"sk-estimator-id-31\" class=\"sk-toggleable__label sk-toggleable__label-arrow\">XGBRegressor</label><div class=\"sk-toggleable__content\"><pre>XGBRegressor(base_score=None, booster=None, callbacks=None,\n",
       "             colsample_bylevel=None, colsample_bynode=None,\n",
       "             colsample_bytree=None, device=None, early_stopping_rounds=None,\n",
       "             enable_categorical=False, eval_metric=None, feature_types=None,\n",
       "             gamma=None, grow_policy=None, importance_type=None,\n",
       "             interaction_constraints=None, learning_rate=None, max_bin=None,\n",
       "             max_cat_threshold=None, max_cat_to_onehot=None,\n",
       "             max_delta_step=None, max_depth=None, max_leaves=None,\n",
       "             min_child_weight=None, missing=nan, monotone_constraints=None,\n",
       "             multi_strategy=None, n_estimators=None, n_jobs=None,\n",
       "             num_parallel_tree=None, random_state=None, ...)</pre></div></div></div></div></div></div></div>"
      ],
      "text/plain": [
       "Pipeline(steps=[('transformer',\n",
       "                 ColumnTransformer(transformers=[('num', 'passthrough',\n",
       "                                                  ['bedrooms', 'bathrooms',\n",
       "                                                   'longitude',\n",
       "                                                   'latitude'])])),\n",
       "                ('classifier',\n",
       "                 XGBRegressor(base_score=None, booster=None, callbacks=None,\n",
       "                              colsample_bylevel=None, colsample_bynode=None,\n",
       "                              colsample_bytree=None, device=None,\n",
       "                              early_stopping_rounds=None,\n",
       "                              enable_categorical=False, eval_metric=...\n",
       "                              feature_types=None, gamma=None, grow_policy=None,\n",
       "                              importance_type=None,\n",
       "                              interaction_constraints=None, learning_rate=None,\n",
       "                              max_bin=None, max_cat_threshold=None,\n",
       "                              max_cat_to_onehot=None, max_delta_step=None,\n",
       "                              max_depth=None, max_leaves=None,\n",
       "                              min_child_weight=None, missing=nan,\n",
       "                              monotone_constraints=None, multi_strategy=None,\n",
       "                              n_estimators=None, n_jobs=None,\n",
       "                              num_parallel_tree=None, random_state=None, ...))])"
      ]
     },
     "execution_count": 353,
     "metadata": {},
     "output_type": "execute_result"
    }
   ],
   "source": [
    "pipeline.fit(X_train, y_train)"
   ]
  },
  {
   "cell_type": "code",
   "execution_count": 354,
   "id": "69ca40f4-b349-4afe-8c46-5e5c10d19e6d",
   "metadata": {},
   "outputs": [],
   "source": [
    "y_pred = pipeline.predict(X_val)"
   ]
  },
  {
   "cell_type": "code",
   "execution_count": 355,
   "id": "9ac56c4b-b362-4920-b5d1-abf128775ebb",
   "metadata": {},
   "outputs": [],
   "source": [
    "rmse = mean_squared_error(y_val, y_pred, squared=False)"
   ]
  },
  {
   "cell_type": "code",
   "execution_count": 356,
   "id": "0cb04a50-59d9-4634-b37e-8695fd0fe08e",
   "metadata": {},
   "outputs": [
    {
     "data": {
      "text/plain": [
       "11641.95877170567"
      ]
     },
     "execution_count": 356,
     "metadata": {},
     "output_type": "execute_result"
    }
   ],
   "source": [
    "rmse"
   ]
  },
  {
   "cell_type": "markdown",
   "id": "f2b9d5e1-dc4a-4792-b5d0-e16e4f6de497",
   "metadata": {},
   "source": [
    "# Walk Score"
   ]
  },
  {
   "cell_type": "markdown",
   "id": "37063112-ad68-446a-a7a4-86c81204fd6a",
   "metadata": {},
   "source": [
    "Location is clearly the most important indicator of a properties value, however coordinates, are not a good inidcator of how close your property is to town centers.  "
   ]
  },
  {
   "cell_type": "code",
   "execution_count": 37,
   "id": "f96b1265-e8f7-4ddd-953f-5d227f968cc6",
   "metadata": {},
   "outputs": [],
   "source": [
    "fields = {\"id\": 1, \"scores\":1}\n",
    "walk_score_df = load_data_from_mongo(\"walk_scores\", fields)\n",
    "walk_score_df = walk_score_df.drop(columns=['_id'])"
   ]
  },
  {
   "cell_type": "code",
   "execution_count": 33,
   "id": "8c81f755-a6fc-4ba0-b68f-8687e28ecb56",
   "metadata": {},
   "outputs": [],
   "source": [
    "walk_score_df['walk_score'] = walk_score_df['scores'].apply(lambda x: x['walk_score'])"
   ]
  },
  {
   "cell_type": "code",
   "execution_count": 38,
   "id": "b5f286f3-4dd1-4fec-9686-91927e885ce7",
   "metadata": {},
   "outputs": [],
   "source": [
    "fields = {\"id\": 1, \"bedrooms\": 1, \"bathrooms\":1, \"location\":1, \"price\":1}\n",
    "property_df = load_data_from_mongo(\"properties\", fields)\n",
    "property_df = property_df.drop(columns=['_id'])"
   ]
  },
  {
   "cell_type": "code",
   "execution_count": 86,
   "id": "8ef9c62c-dace-4fe5-9d4e-f505f0beb419",
   "metadata": {},
   "outputs": [],
   "source": [
    "full_df = property_df.merge(walk_score_df, on='id')"
   ]
  },
  {
   "cell_type": "code",
   "execution_count": 89,
   "id": "8ead7653-34ab-4c71-ab73-d6478c62bc03",
   "metadata": {},
   "outputs": [
    {
     "data": {
      "text/plain": [
       "{'grocery': 2.9922318274989697,\n",
       " 'restaurants': 2.2477573270328963,\n",
       " 'shopping': 0.7292017742749498,\n",
       " 'coffee': 1.9008371075608335,\n",
       " 'banks': 0.1272753080779171,\n",
       " 'parks': 0.6132279773053357,\n",
       " 'schools': 0.8803189269738656,\n",
       " 'books': 0.9579643579312742,\n",
       " 'entertainment': 0.06415095371925339,\n",
       " 'walk_score': 70.1214802877032}"
      ]
     },
     "execution_count": 89,
     "metadata": {},
     "output_type": "execute_result"
    }
   ],
   "source": [
    "full_df['scores'].iloc[0]"
   ]
  },
  {
   "cell_type": "code",
   "execution_count": 92,
   "id": "aa9a0a47-c69c-4724-8c9e-1f51782050cf",
   "metadata": {},
   "outputs": [],
   "source": [
    "full_df['walk_score'] = full_df['scores'].apply(lambda x: x['walk_score'])\n",
    "full_df['restaurants'] = full_df['scores'].apply(lambda x: x['restaurants'])\n",
    "full_df['shopping'] = full_df['scores'].apply(lambda x: x['shopping'])\n",
    "full_df['coffee'] = full_df['scores'].apply(lambda x: x['coffee'])\n",
    "full_df['banks'] = full_df['scores'].apply(lambda x: x['banks'])\n",
    "full_df['parks'] = full_df['scores'].apply(lambda x: x['parks'])\n",
    "full_df['schools'] = full_df['scores'].apply(lambda x: x['schools'])\n",
    "full_df['books'] = full_df['scores'].apply(lambda x: x['books'])\n",
    "full_df['entertainment'] = full_df['scores'].apply(lambda x: x['entertainment'])"
   ]
  },
  {
   "cell_type": "code",
   "execution_count": 49,
   "id": "0e697563-fa4b-417c-b4f5-441625927d03",
   "metadata": {},
   "outputs": [],
   "source": [
    "def convert_frequencies(x):\n",
    "    frequency = x['frequency']\n",
    "    price = x['amount']\n",
    "    \n",
    "    if frequency == 'monthly':\n",
    "        return price * 12\n",
    "    elif frequency == 'weekly':\n",
    "        return (price / 7) * 365\n",
    "    elif frequency == 'daily':\n",
    "        return price * 365\n",
    "    elif frequency == 'quarterly':\n",
    "        return price * 4\n",
    "    else: # Yearly\n",
    "        return price\n",
    "\n",
    "def remove_anamolies(df):\n",
    "    df = df[df['bedrooms'] < 50]\n",
    "    df = df[df['bathrooms'] < 18]\n",
    "    df = df[df['price'] < 1_000_000]\n",
    "\n",
    "    return df\n",
    "\n",
    "def preprocess_data(df):\n",
    "    df['longitude'] = df['location'].apply(lambda x: x['longitude'])\n",
    "    df['latitude'] = df['location'].apply(lambda x: x['latitude'])\n",
    "\n",
    "    df = df.drop_duplicates(subset='id')\n",
    "    \n",
    "    df = df.drop(columns=['id', 'location', 'scores'])\n",
    "    \n",
    "    df['price'] = df['price'].apply(convert_frequencies)\n",
    "\n",
    "    df = remove_anamolies(df)\n",
    "\n",
    "    df = df.dropna()\n",
    "\n",
    "    return df"
   ]
  },
  {
   "cell_type": "code",
   "execution_count": 93,
   "id": "29754cee-319a-46f2-9b12-e8999fd8e9ac",
   "metadata": {},
   "outputs": [],
   "source": [
    "preprocessed_df = preprocess_data(full_df)"
   ]
  },
  {
   "cell_type": "code",
   "execution_count": 117,
   "id": "ecf64f17-6b8d-4101-a481-292a76b8d3e9",
   "metadata": {},
   "outputs": [],
   "source": [
    "from sklearn.model_selection import train_test_split, GridSearchCV\n",
    "from sklearn.ensemble import RandomForestRegressor\n",
    "\n",
    "# numeric_features = ['bedrooms', 'bathrooms', 'longitude', 'latitude', 'walk_score', 'restaurants',\n",
    "# 'shopping', 'coffee', 'banks', 'parks', 'schools', 'books', 'entertainment']\n",
    "\n",
    "numeric_features = ['bedrooms', 'bathrooms', 'longitude', 'latitude', 'walk_score']\n",
    "# text_features = ['text']\n",
    "\n",
    "X = preprocessed_df[numeric_features]\n",
    "y = preprocessed_df['price']\n",
    "\n",
    "train_val, test = train_test_split(preprocessed_df[numeric_features + ['price']], test_size=0.2, random_state=42)  # 20% for test set\n",
    "X_train, X_val, y_train, y_val = train_test_split(X, y, test_size=0.25, random_state=42)  # Splitting the remaining 80% into 60% training and 20% validation"
   ]
  },
  {
   "cell_type": "code",
   "execution_count": 100,
   "id": "0991a711-a2c3-401a-bbdd-b5b5c37de078",
   "metadata": {},
   "outputs": [
    {
     "data": {
      "text/html": [
       "<style>#sk-container-id-7 {color: black;}#sk-container-id-7 pre{padding: 0;}#sk-container-id-7 div.sk-toggleable {background-color: white;}#sk-container-id-7 label.sk-toggleable__label {cursor: pointer;display: block;width: 100%;margin-bottom: 0;padding: 0.3em;box-sizing: border-box;text-align: center;}#sk-container-id-7 label.sk-toggleable__label-arrow:before {content: \"▸\";float: left;margin-right: 0.25em;color: #696969;}#sk-container-id-7 label.sk-toggleable__label-arrow:hover:before {color: black;}#sk-container-id-7 div.sk-estimator:hover label.sk-toggleable__label-arrow:before {color: black;}#sk-container-id-7 div.sk-toggleable__content {max-height: 0;max-width: 0;overflow: hidden;text-align: left;background-color: #f0f8ff;}#sk-container-id-7 div.sk-toggleable__content pre {margin: 0.2em;color: black;border-radius: 0.25em;background-color: #f0f8ff;}#sk-container-id-7 input.sk-toggleable__control:checked~div.sk-toggleable__content {max-height: 200px;max-width: 100%;overflow: auto;}#sk-container-id-7 input.sk-toggleable__control:checked~label.sk-toggleable__label-arrow:before {content: \"▾\";}#sk-container-id-7 div.sk-estimator input.sk-toggleable__control:checked~label.sk-toggleable__label {background-color: #d4ebff;}#sk-container-id-7 div.sk-label input.sk-toggleable__control:checked~label.sk-toggleable__label {background-color: #d4ebff;}#sk-container-id-7 input.sk-hidden--visually {border: 0;clip: rect(1px 1px 1px 1px);clip: rect(1px, 1px, 1px, 1px);height: 1px;margin: -1px;overflow: hidden;padding: 0;position: absolute;width: 1px;}#sk-container-id-7 div.sk-estimator {font-family: monospace;background-color: #f0f8ff;border: 1px dotted black;border-radius: 0.25em;box-sizing: border-box;margin-bottom: 0.5em;}#sk-container-id-7 div.sk-estimator:hover {background-color: #d4ebff;}#sk-container-id-7 div.sk-parallel-item::after {content: \"\";width: 100%;border-bottom: 1px solid gray;flex-grow: 1;}#sk-container-id-7 div.sk-label:hover label.sk-toggleable__label {background-color: #d4ebff;}#sk-container-id-7 div.sk-serial::before {content: \"\";position: absolute;border-left: 1px solid gray;box-sizing: border-box;top: 0;bottom: 0;left: 50%;z-index: 0;}#sk-container-id-7 div.sk-serial {display: flex;flex-direction: column;align-items: center;background-color: white;padding-right: 0.2em;padding-left: 0.2em;position: relative;}#sk-container-id-7 div.sk-item {position: relative;z-index: 1;}#sk-container-id-7 div.sk-parallel {display: flex;align-items: stretch;justify-content: center;background-color: white;position: relative;}#sk-container-id-7 div.sk-item::before, #sk-container-id-7 div.sk-parallel-item::before {content: \"\";position: absolute;border-left: 1px solid gray;box-sizing: border-box;top: 0;bottom: 0;left: 50%;z-index: -1;}#sk-container-id-7 div.sk-parallel-item {display: flex;flex-direction: column;z-index: 1;position: relative;background-color: white;}#sk-container-id-7 div.sk-parallel-item:first-child::after {align-self: flex-end;width: 50%;}#sk-container-id-7 div.sk-parallel-item:last-child::after {align-self: flex-start;width: 50%;}#sk-container-id-7 div.sk-parallel-item:only-child::after {width: 0;}#sk-container-id-7 div.sk-dashed-wrapped {border: 1px dashed gray;margin: 0 0.4em 0.5em 0.4em;box-sizing: border-box;padding-bottom: 0.4em;background-color: white;}#sk-container-id-7 div.sk-label label {font-family: monospace;font-weight: bold;display: inline-block;line-height: 1.2em;}#sk-container-id-7 div.sk-label-container {text-align: center;}#sk-container-id-7 div.sk-container {/* jupyter's `normalize.less` sets `[hidden] { display: none; }` but bootstrap.min.css set `[hidden] { display: none !important; }` so we also need the `!important` here to be able to override the default hidden behavior on the sphinx rendered scikit-learn.org. See: https://github.com/scikit-learn/scikit-learn/issues/21755 */display: inline-block !important;position: relative;}#sk-container-id-7 div.sk-text-repr-fallback {display: none;}</style><div id=\"sk-container-id-7\" class=\"sk-top-container\"><div class=\"sk-text-repr-fallback\"><pre>RandomForestRegressor()</pre><b>In a Jupyter environment, please rerun this cell to show the HTML representation or trust the notebook. <br />On GitHub, the HTML representation is unable to render, please try loading this page with nbviewer.org.</b></div><div class=\"sk-container\" hidden><div class=\"sk-item\"><div class=\"sk-estimator sk-toggleable\"><input class=\"sk-toggleable__control sk-hidden--visually\" id=\"sk-estimator-id-7\" type=\"checkbox\" checked><label for=\"sk-estimator-id-7\" class=\"sk-toggleable__label sk-toggleable__label-arrow\">RandomForestRegressor</label><div class=\"sk-toggleable__content\"><pre>RandomForestRegressor()</pre></div></div></div></div></div>"
      ],
      "text/plain": [
       "RandomForestRegressor()"
      ]
     },
     "execution_count": 100,
     "metadata": {},
     "output_type": "execute_result"
    }
   ],
   "source": [
    "model = RandomForestRegressor()\n",
    "model.fit(X_train, y_train)"
   ]
  },
  {
   "cell_type": "code",
   "execution_count": 101,
   "id": "09742ec9-45d3-4f4a-af42-ee3d7d1bae63",
   "metadata": {},
   "outputs": [
    {
     "name": "stdout",
     "output_type": "stream",
     "text": [
      "Returned RMSE of 12751.977190191068\n"
     ]
    }
   ],
   "source": [
    "from sklearn.metrics import mean_squared_error\n",
    "import numpy as np \n",
    "\n",
    "y_pred = model.predict(X_val)\n",
    "\n",
    "# Calculate RMSE\n",
    "rmse = np.sqrt(mean_squared_error(y_val, y_pred))\n",
    "\n",
    "print(f\"Returned RMSE of {rmse}\")"
   ]
  },
  {
   "cell_type": "code",
   "execution_count": 102,
   "id": "7dac5389-3be1-4378-ada4-06b7dbc2b6d7",
   "metadata": {},
   "outputs": [
    {
     "data": {
      "image/png": "[encoded data removed]",
      "text/plain": [
       "<Figure size 1000x600 with 1 Axes>"
      ]
     },
     "metadata": {},
     "output_type": "display_data"
    }
   ],
   "source": [
    "importances = model.feature_importances_\n",
    "# Sort the feature importances in descending order\n",
    "sorted_indices = importances.argsort()[::-1]\n",
    "feature_names = X_train.columns\n",
    "\n",
    "# Visualize the Feature Importancess\n",
    "plt.figure(figsize=(10, 6))\n",
    "plt.title(\"Feature Importances\")\n",
    "plt.bar(range(X.shape[1]), importances[sorted_indices], align='center')\n",
    "plt.xticks(range(X.shape[1]), feature_names[sorted_indices], rotation=90)\n",
    "plt.tight_layout()\n",
    "plt.show()"
   ]
  },
  {
   "cell_type": "code",
   "execution_count": 112,
   "id": "eb1b9ffd-415d-4aad-b464-68351ca0e232",
   "metadata": {},
   "outputs": [],
   "source": [
    "import xgboost as xgb\n",
    "\n",
    "xg_reg = xgb.XGBRegressor()\n",
    "xg_reg.fit(X_train, y_train)\n",
    "\n",
    "y_pred = xg_reg.predict(X_val)\n",
    "\n",
    "rmse = mean_squared_error(y_val, y_pred, squared=False)"
   ]
  },
  {
   "cell_type": "code",
   "execution_count": 113,
   "id": "0b1d2b3f-26ab-47b1-8fb8-f1c3648806fe",
   "metadata": {},
   "outputs": [
    {
     "data": {
      "text/plain": [
       "13003.569807524367"
      ]
     },
     "execution_count": 113,
     "metadata": {},
     "output_type": "execute_result"
    }
   ],
   "source": [
    "rmse"
   ]
  },
  {
   "cell_type": "code",
   "execution_count": 118,
   "id": "d6c70b25-5ef6-413e-917f-5d48d646a934",
   "metadata": {},
   "outputs": [
    {
     "data": {
      "text/html": [
       "<div>\n",
       "<style scoped>\n",
       "    .dataframe tbody tr th:only-of-type {\n",
       "        vertical-align: middle;\n",
       "    }\n",
       "\n",
       "    .dataframe tbody tr th {\n",
       "        vertical-align: top;\n",
       "    }\n",
       "\n",
       "    .dataframe thead th {\n",
       "        text-align: right;\n",
       "    }\n",
       "</style>\n",
       "<table border=\"1\" class=\"dataframe\">\n",
       "  <thead>\n",
       "    <tr style=\"text-align: right;\">\n",
       "      <th></th>\n",
       "      <th>bedrooms</th>\n",
       "      <th>bathrooms</th>\n",
       "      <th>longitude</th>\n",
       "      <th>latitude</th>\n",
       "      <th>walk_score</th>\n",
       "      <th>price</th>\n",
       "    </tr>\n",
       "  </thead>\n",
       "  <tbody>\n",
       "    <tr>\n",
       "      <th>bedrooms</th>\n",
       "      <td>1.000000</td>\n",
       "      <td>0.530540</td>\n",
       "      <td>-0.056019</td>\n",
       "      <td>0.003694</td>\n",
       "      <td>-0.209332</td>\n",
       "      <td>0.284471</td>\n",
       "    </tr>\n",
       "    <tr>\n",
       "      <th>bathrooms</th>\n",
       "      <td>0.530540</td>\n",
       "      <td>1.000000</td>\n",
       "      <td>0.029698</td>\n",
       "      <td>-0.036012</td>\n",
       "      <td>-0.051528</td>\n",
       "      <td>0.330576</td>\n",
       "    </tr>\n",
       "    <tr>\n",
       "      <th>longitude</th>\n",
       "      <td>-0.056019</td>\n",
       "      <td>0.029698</td>\n",
       "      <td>1.000000</td>\n",
       "      <td>-0.376304</td>\n",
       "      <td>0.095851</td>\n",
       "      <td>0.187332</td>\n",
       "    </tr>\n",
       "    <tr>\n",
       "      <th>latitude</th>\n",
       "      <td>0.003694</td>\n",
       "      <td>-0.036012</td>\n",
       "      <td>-0.376304</td>\n",
       "      <td>1.000000</td>\n",
       "      <td>-0.092008</td>\n",
       "      <td>-0.203806</td>\n",
       "    </tr>\n",
       "    <tr>\n",
       "      <th>walk_score</th>\n",
       "      <td>-0.209332</td>\n",
       "      <td>-0.051528</td>\n",
       "      <td>0.095851</td>\n",
       "      <td>-0.092008</td>\n",
       "      <td>1.000000</td>\n",
       "      <td>0.109756</td>\n",
       "    </tr>\n",
       "    <tr>\n",
       "      <th>price</th>\n",
       "      <td>0.284471</td>\n",
       "      <td>0.330576</td>\n",
       "      <td>0.187332</td>\n",
       "      <td>-0.203806</td>\n",
       "      <td>0.109756</td>\n",
       "      <td>1.000000</td>\n",
       "    </tr>\n",
       "  </tbody>\n",
       "</table>\n",
       "</div>"
      ],
      "text/plain": [
       "            bedrooms  bathrooms  longitude  latitude  walk_score     price\n",
       "bedrooms    1.000000   0.530540  -0.056019  0.003694   -0.209332  0.284471\n",
       "bathrooms   0.530540   1.000000   0.029698 -0.036012   -0.051528  0.330576\n",
       "longitude  -0.056019   0.029698   1.000000 -0.376304    0.095851  0.187332\n",
       "latitude    0.003694  -0.036012  -0.376304  1.000000   -0.092008 -0.203806\n",
       "walk_score -0.209332  -0.051528   0.095851 -0.092008    1.000000  0.109756\n",
       "price       0.284471   0.330576   0.187332 -0.203806    0.109756  1.000000"
      ]
     },
     "execution_count": 118,
     "metadata": {},
     "output_type": "execute_result"
    }
   ],
   "source": [
    "train_val.corr()"
   ]
  },
  {
   "cell_type": "code",
   "execution_count": 120,
   "id": "8f2d4e7b-8f81-4c79-aad3-af52f6cf2faf",
   "metadata": {},
   "outputs": [],
   "source": [
    "import matplotlib.pyplot as plt\n",
    "import seaborn as sns"
   ]
  },
  {
   "cell_type": "code",
   "execution_count": 121,
   "id": "4c3bce66-9f2b-446e-92b4-cf7db3490472",
   "metadata": {},
   "outputs": [
    {
     "data": {
      "text/plain": [
       "<Axes: xlabel='walk_score', ylabel='price'>"
      ]
     },
     "execution_count": 121,
     "metadata": {},
     "output_type": "execute_result"
    },
    {
     "data": {
      "image/png": "[encoded data removed]",
      "text/plain": [
       "<Figure size 640x480 with 1 Axes>"
      ]
     },
     "metadata": {},
     "output_type": "display_data"
    }
   ],
   "source": [
    "sns.regplot(data=train_val, x=\"walk_score\", y=\"price\")"
   ]
  },
  {
   "cell_type": "code",
   "execution_count": null,
   "id": "59bdd2d2-5289-4025-b477-427ff2cf3cb8",
   "metadata": {},
   "outputs": [],
   "source": []
  }
 ],
 "metadata": {
  "kernelspec": {
   "display_name": "Python 3 (ipykernel)",
   "language": "python",
   "name": "python3"
  },
  "language_info": {
   "codemirror_mode": {
    "name": "ipython",
    "version": 3
   },
   "file_extension": ".py",
   "mimetype": "text/x-python",
   "name": "python",
   "nbconvert_exporter": "python",
   "pygments_lexer": "ipython3",
   "version": "3.11.4"
  }
 },
 "nbformat": 4,
 "nbformat_minor": 5
}

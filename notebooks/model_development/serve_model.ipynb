{
 "cells": [
  {
   "cell_type": "code",
   "execution_count": 2,
   "id": "4d8491d1-9214-4ac3-99ce-8a813ecc5488",
   "metadata": {},
   "outputs": [
    {
     "data": {
      "text/plain": [
       "<Experiment: artifact_location='mlflow-artifacts:/1', creation_time=1706524695369, experiment_id='1', last_update_time=1706524695369, lifecycle_stage='active', name='rightmove-rent-prediction', tags={}>"
      ]
     },
     "execution_count": 2,
     "metadata": {},
     "output_type": "execute_result"
    }
   ],
   "source": [
    "import mlflow\n",
    "\n",
    "\n",
    "mlflow.set_tracking_uri(\"http://localhost:8090\")\n",
    "# mlflow.set_tracking_uri(\"sqlite:///mlflow.db\") # Local Database\n",
    "mlflow.set_experiment(\"rightmove-rent-prediction\")"
   ]
  },
  {
   "cell_type": "code",
   "execution_count": 3,
   "id": "b77d3217-1a5e-4b4c-8e9f-e7de54f4bdd4",
   "metadata": {},
   "outputs": [
    {
     "data": {
      "application/vnd.jupyter.widget-view+json": {
       "model_id": "61037f8e37f044589b7a6ed271d36652",
       "version_major": 2,
       "version_minor": 0
      },
      "text/plain": [
       "Downloading artifacts:   0%|          | 0/5 [00:00<?, ?it/s]"
      ]
     },
     "metadata": {},
     "output_type": "display_data"
    }
   ],
   "source": [
    "logged_model = 'runs:/b7172013ae584abba3863113c852547d/random-forest-model'\n",
    "\n",
    "# Load model as a PyFuncModel.\n",
    "loaded_model = mlflow.pyfunc.load_model(logged_model)\n",
    "\n",
    "# Predict on a Pandas DataFrame.\n",
    "import pandas as pd\n",
    "# loaded_model.predict(pd.DataFrame(data))"
   ]
  },
  {
   "cell_type": "code",
   "execution_count": 5,
   "id": "5b250fe2-a548-4f1c-a7d5-f2a836ba40f0",
   "metadata": {},
   "outputs": [],
   "source": [
    "test_dataset_source_url = \"data/test.csv\""
   ]
  },
  {
   "cell_type": "code",
   "execution_count": 6,
   "id": "f34bb5b9-58c5-4031-a086-4ac4bfccd72a",
   "metadata": {},
   "outputs": [],
   "source": [
    "test_df = pd.read_csv(test_dataset_source_url, index_col=0)"
   ]
  },
  {
   "cell_type": "code",
   "execution_count": 12,
   "id": "f069e6f9-9d6c-4b01-b482-24772d174e8c",
   "metadata": {},
   "outputs": [],
   "source": [
    "test_df = test_df.dropna()"
   ]
  },
  {
   "cell_type": "code",
   "execution_count": 13,
   "id": "f7e9e685-fa59-486a-823d-6f150902634b",
   "metadata": {},
   "outputs": [],
   "source": [
    "X_test = test_df[['bedrooms', 'bathrooms', 'longitude', 'latitude', 'walk_score']]\n",
    "y_test = test_df['price']"
   ]
  },
  {
   "cell_type": "code",
   "execution_count": 14,
   "id": "a5d51566-98a2-4b85-a19c-32bb2734fd08",
   "metadata": {},
   "outputs": [
    {
     "data": {
      "text/html": [
       "<div>\n",
       "<style scoped>\n",
       "    .dataframe tbody tr th:only-of-type {\n",
       "        vertical-align: middle;\n",
       "    }\n",
       "\n",
       "    .dataframe tbody tr th {\n",
       "        vertical-align: top;\n",
       "    }\n",
       "\n",
       "    .dataframe thead th {\n",
       "        text-align: right;\n",
       "    }\n",
       "</style>\n",
       "<table border=\"1\" class=\"dataframe\">\n",
       "  <thead>\n",
       "    <tr style=\"text-align: right;\">\n",
       "      <th></th>\n",
       "      <th>bedrooms</th>\n",
       "      <th>bathrooms</th>\n",
       "      <th>longitude</th>\n",
       "      <th>latitude</th>\n",
       "      <th>walk_score</th>\n",
       "    </tr>\n",
       "  </thead>\n",
       "  <tbody>\n",
       "    <tr>\n",
       "      <th>27119</th>\n",
       "      <td>3</td>\n",
       "      <td>1.0</td>\n",
       "      <td>-1.131311</td>\n",
       "      <td>52.581016</td>\n",
       "      <td>71.134235</td>\n",
       "    </tr>\n",
       "    <tr>\n",
       "      <th>62148</th>\n",
       "      <td>2</td>\n",
       "      <td>1.0</td>\n",
       "      <td>-0.197000</td>\n",
       "      <td>51.578000</td>\n",
       "      <td>63.053638</td>\n",
       "    </tr>\n",
       "    <tr>\n",
       "      <th>48297</th>\n",
       "      <td>3</td>\n",
       "      <td>3.0</td>\n",
       "      <td>-0.542221</td>\n",
       "      <td>51.208686</td>\n",
       "      <td>21.968521</td>\n",
       "    </tr>\n",
       "    <tr>\n",
       "      <th>6145</th>\n",
       "      <td>4</td>\n",
       "      <td>3.0</td>\n",
       "      <td>0.785040</td>\n",
       "      <td>51.892120</td>\n",
       "      <td>6.395397</td>\n",
       "    </tr>\n",
       "    <tr>\n",
       "      <th>14813</th>\n",
       "      <td>3</td>\n",
       "      <td>0.0</td>\n",
       "      <td>-1.535310</td>\n",
       "      <td>52.405940</td>\n",
       "      <td>44.803983</td>\n",
       "    </tr>\n",
       "    <tr>\n",
       "      <th>...</th>\n",
       "      <td>...</td>\n",
       "      <td>...</td>\n",
       "      <td>...</td>\n",
       "      <td>...</td>\n",
       "      <td>...</td>\n",
       "    </tr>\n",
       "    <tr>\n",
       "      <th>46670</th>\n",
       "      <td>2</td>\n",
       "      <td>2.0</td>\n",
       "      <td>0.077272</td>\n",
       "      <td>51.505588</td>\n",
       "      <td>40.634970</td>\n",
       "    </tr>\n",
       "    <tr>\n",
       "      <th>31141</th>\n",
       "      <td>1</td>\n",
       "      <td>1.0</td>\n",
       "      <td>-0.014849</td>\n",
       "      <td>51.127452</td>\n",
       "      <td>85.458916</td>\n",
       "    </tr>\n",
       "    <tr>\n",
       "      <th>36987</th>\n",
       "      <td>2</td>\n",
       "      <td>2.0</td>\n",
       "      <td>-1.747542</td>\n",
       "      <td>51.582861</td>\n",
       "      <td>32.501023</td>\n",
       "    </tr>\n",
       "    <tr>\n",
       "      <th>60991</th>\n",
       "      <td>3</td>\n",
       "      <td>1.0</td>\n",
       "      <td>-2.843968</td>\n",
       "      <td>51.436893</td>\n",
       "      <td>30.114648</td>\n",
       "    </tr>\n",
       "    <tr>\n",
       "      <th>2089</th>\n",
       "      <td>2</td>\n",
       "      <td>1.0</td>\n",
       "      <td>-2.426981</td>\n",
       "      <td>53.622890</td>\n",
       "      <td>27.749500</td>\n",
       "    </tr>\n",
       "  </tbody>\n",
       "</table>\n",
       "<p>5890 rows × 5 columns</p>\n",
       "</div>"
      ],
      "text/plain": [
       "       bedrooms  bathrooms  longitude   latitude  walk_score\n",
       "27119         3        1.0  -1.131311  52.581016   71.134235\n",
       "62148         2        1.0  -0.197000  51.578000   63.053638\n",
       "48297         3        3.0  -0.542221  51.208686   21.968521\n",
       "6145          4        3.0   0.785040  51.892120    6.395397\n",
       "14813         3        0.0  -1.535310  52.405940   44.803983\n",
       "...         ...        ...        ...        ...         ...\n",
       "46670         2        2.0   0.077272  51.505588   40.634970\n",
       "31141         1        1.0  -0.014849  51.127452   85.458916\n",
       "36987         2        2.0  -1.747542  51.582861   32.501023\n",
       "60991         3        1.0  -2.843968  51.436893   30.114648\n",
       "2089          2        1.0  -2.426981  53.622890   27.749500\n",
       "\n",
       "[5890 rows x 5 columns]"
      ]
     },
     "execution_count": 14,
     "metadata": {},
     "output_type": "execute_result"
    }
   ],
   "source": [
    "X_test"
   ]
  },
  {
   "cell_type": "code",
   "execution_count": 22,
   "id": "b485d164-5ea7-404a-ae44-d06abbfaf14b",
   "metadata": {},
   "outputs": [],
   "source": [
    "y_pred = loaded_model.predict(X_test)"
   ]
  },
  {
   "cell_type": "code",
   "execution_count": 16,
   "id": "2b8ecb7b-54d8-4b36-9ef3-f0255d1a4e02",
   "metadata": {},
   "outputs": [],
   "source": [
    "from sklearn.metrics import mean_squared_error\n",
    "rmse = mean_squared_error(y_test, y_pred, squared=False)"
   ]
  },
  {
   "cell_type": "code",
   "execution_count": 43,
   "id": "5e8cd78f-b512-4cd9-9232-eb7c1b4fe12f",
   "metadata": {},
   "outputs": [
    {
     "data": {
      "image/png": "[encoded data removed]",
      "text/plain": [
       "<Figure size 1000x600 with 1 Axes>"
      ]
     },
     "metadata": {},
     "output_type": "display_data"
    }
   ],
   "source": [
    "import matplotlib.pyplot as plt\n",
    "import seaborn as sns\n",
    "\n",
    "# Calculate residuals\n",
    "residuals = y_test - y_pred\n",
    "\n",
    "# Plotting residuals\n",
    "plt.figure(figsize=(10, 6))\n",
    "sns.scatterplot(x=y_test, y=residuals)\n",
    "plt.axhline(y=0, color='r', linestyle='--')\n",
    "plt.xlabel('Actual Values')\n",
    "plt.ylabel('Residuals')\n",
    "plt.title('Residuals Plot')\n",
    "plt.show()\n"
   ]
  },
  {
   "cell_type": "code",
   "execution_count": 38,
   "id": "964ce166-267b-46b0-a623-a964068ea197",
   "metadata": {},
   "outputs": [
    {
     "name": "stderr",
     "output_type": "stream",
     "text": [
      "/opt/homebrew/lib/python3.11/site-packages/mlflow/store/artifact/utils/models.py:32: FutureWarning: ``mlflow.tracking.client.MlflowClient.get_latest_versions`` is deprecated since 2.9.0. Model registry stages will be removed in a future major release. To learn more about the deprecation of model registry stages, see our migration guide here: https://mlflow.org/docs/2.9.2/model-registry.html#migrating-from-stages\n",
      "  latest = client.get_latest_versions(name, None if stage is None else [stage])\n"
     ]
    },
    {
     "data": {
      "application/vnd.jupyter.widget-view+json": {
       "model_id": "5b9502b754ba45f18d522e2e95dd43df",
       "version_major": 2,
       "version_minor": 0
      },
      "text/plain": [
       "Downloading artifacts:   0%|          | 0/5 [00:00<?, ?it/s]"
      ]
     },
     "metadata": {},
     "output_type": "display_data"
    }
   ],
   "source": [
    "model_name = \"Random Forest Regression\"\n",
    "model_uri = f\"models:/{model_name}/Staging\"\n",
    "\n",
    "# Load the model as a PyFunc model\n",
    "model = mlflow.pyfunc.load_model(model_uri)"
   ]
  },
  {
   "cell_type": "code",
   "execution_count": 39,
   "id": "6b1435fd-30ca-4e9b-beba-cd59057aa8b8",
   "metadata": {},
   "outputs": [],
   "source": [
    "y_pred = model.predict(X_test)"
   ]
  },
  {
   "cell_type": "code",
   "execution_count": 41,
   "id": "290fde8d-32b2-40d0-9305-00ccf89d0878",
   "metadata": {},
   "outputs": [],
   "source": [
    "from sklearn.metrics import mean_squared_error\n",
    "rmse = mean_squared_error(y_test, y_pred, squared=False)"
   ]
  },
  {
   "cell_type": "code",
   "execution_count": 42,
   "id": "a405347b-ccf9-4787-815a-2835868e8510",
   "metadata": {},
   "outputs": [
    {
     "data": {
      "text/plain": [
       "23180.235917777096"
      ]
     },
     "execution_count": 42,
     "metadata": {},
     "output_type": "execute_result"
    }
   ],
   "source": [
    "rmse"
   ]
  },
  {
   "cell_type": "code",
   "execution_count": 69,
   "id": "86ee076d-9427-4e92-9ba2-00055bff7d16",
   "metadata": {},
   "outputs": [
    {
     "data": {
      "text/plain": [
       "{'bedrooms': 3.0,\n",
       " 'bathrooms': 1.0,\n",
       " 'longitude': -1.131311,\n",
       " 'latitude': 52.581016,\n",
       " 'walk_score': 71.13423513662073}"
      ]
     },
     "execution_count": 69,
     "metadata": {},
     "output_type": "execute_result"
    }
   ],
   "source": [
    "X_test.iloc[0].to_dict()"
   ]
  },
  {
   "cell_type": "code",
   "execution_count": 45,
   "id": "91b6bdf9-242f-4190-9b0c-7553250fef60",
   "metadata": {},
   "outputs": [],
   "source": [
    "from pydantic import BaseModel\n",
    "\n",
    "class Property(BaseModel):\n",
    "    bedrooms: float\n",
    "    bathrooms: float\n",
    "    longitude: float\n",
    "    latitude: float\n",
    "    walk_score: float"
   ]
  },
  {
   "cell_type": "code",
   "execution_count": 70,
   "id": "6af3b91a-b069-4784-9e83-1a105f6b2bb4",
   "metadata": {},
   "outputs": [],
   "source": [
    "data = X_test.iloc[0].to_dict()"
   ]
  },
  {
   "cell_type": "code",
   "execution_count": 81,
   "id": "283896ff-90c5-4740-b72d-fa65f46355bb",
   "metadata": {},
   "outputs": [],
   "source": [
    "prop = Property(**data)"
   ]
  },
  {
   "cell_type": "code",
   "execution_count": 83,
   "id": "8ff534d8-56d2-4cf8-acb1-7553a48d3253",
   "metadata": {},
   "outputs": [
    {
     "data": {
      "text/plain": [
       "{'bedrooms': 3.0,\n",
       " 'bathrooms': 1.0,\n",
       " 'longitude': -1.131311,\n",
       " 'latitude': 52.581016,\n",
       " 'walk_score': 71.13423513662073}"
      ]
     },
     "execution_count": 83,
     "metadata": {},
     "output_type": "execute_result"
    }
   ],
   "source": [
    "prop.dict()"
   ]
  },
  {
   "cell_type": "code",
   "execution_count": 84,
   "id": "06910d7e-60f6-4fc0-a5d4-f5e85f3c6e35",
   "metadata": {},
   "outputs": [],
   "source": [
    "features_df = pd.DataFrame(prop.dict(), index=[0])"
   ]
  },
  {
   "cell_type": "code",
   "execution_count": 85,
   "id": "c9869b75-af49-41c6-8da0-311d64a00d52",
   "metadata": {},
   "outputs": [
    {
     "data": {
      "text/html": [
       "<div>\n",
       "<style scoped>\n",
       "    .dataframe tbody tr th:only-of-type {\n",
       "        vertical-align: middle;\n",
       "    }\n",
       "\n",
       "    .dataframe tbody tr th {\n",
       "        vertical-align: top;\n",
       "    }\n",
       "\n",
       "    .dataframe thead th {\n",
       "        text-align: right;\n",
       "    }\n",
       "</style>\n",
       "<table border=\"1\" class=\"dataframe\">\n",
       "  <thead>\n",
       "    <tr style=\"text-align: right;\">\n",
       "      <th></th>\n",
       "      <th>bedrooms</th>\n",
       "      <th>bathrooms</th>\n",
       "      <th>longitude</th>\n",
       "      <th>latitude</th>\n",
       "      <th>walk_score</th>\n",
       "    </tr>\n",
       "  </thead>\n",
       "  <tbody>\n",
       "    <tr>\n",
       "      <th>0</th>\n",
       "      <td>3.0</td>\n",
       "      <td>1.0</td>\n",
       "      <td>-1.131311</td>\n",
       "      <td>52.581016</td>\n",
       "      <td>71.134235</td>\n",
       "    </tr>\n",
       "  </tbody>\n",
       "</table>\n",
       "</div>"
      ],
      "text/plain": [
       "   bedrooms  bathrooms  longitude   latitude  walk_score\n",
       "0       3.0        1.0  -1.131311  52.581016   71.134235"
      ]
     },
     "execution_count": 85,
     "metadata": {},
     "output_type": "execute_result"
    }
   ],
   "source": [
    "features_df"
   ]
  },
  {
   "cell_type": "code",
   "execution_count": 86,
   "id": "603f520a-3817-4c60-971e-bcbdc314c767",
   "metadata": {},
   "outputs": [],
   "source": [
    "y_pred = model.predict(features_df)"
   ]
  },
  {
   "cell_type": "code",
   "execution_count": 90,
   "id": "9b939009-6b3c-4a03-b218-9c7b6bfedfcb",
   "metadata": {},
   "outputs": [
    {
     "data": {
      "text/plain": [
       "11739.971428571429"
      ]
     },
     "execution_count": 90,
     "metadata": {},
     "output_type": "execute_result"
    }
   ],
   "source": [
    "y_pred[0]"
   ]
  },
  {
   "cell_type": "code",
   "execution_count": null,
   "id": "b508b236-a51b-4492-9e40-acf211ba4b5a",
   "metadata": {},
   "outputs": [],
   "source": []
  }
 ],
 "metadata": {
  "kernelspec": {
   "display_name": "Python 3 (ipykernel)",
   "language": "python",
   "name": "python3"
  },
  "language_info": {
   "codemirror_mode": {
    "name": "ipython",
    "version": 3
   },
   "file_extension": ".py",
   "mimetype": "text/x-python",
   "name": "python",
   "nbconvert_exporter": "python",
   "pygments_lexer": "ipython3",
   "version": "3.11.4"
  }
 },
 "nbformat": 4,
 "nbformat_minor": 5
}

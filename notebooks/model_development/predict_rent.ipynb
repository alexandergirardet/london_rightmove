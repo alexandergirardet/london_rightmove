{
 "cells": [
  {
   "cell_type": "code",
   "execution_count": 1,
   "id": "2a09e417-f781-4703-bde0-98f6d0b56a58",
   "metadata": {},
   "outputs": [],
   "source": [
    "import pandas as pd\n",
    "from sklearn.linear_model import LinearRegression\n",
    "from sklearn.metrics import mean_squared_error"
   ]
  },
  {
   "cell_type": "code",
   "execution_count": 2,
   "id": "077612d0-2757-4fd9-981b-105cbe33033c",
   "metadata": {},
   "outputs": [],
   "source": [
    "import warnings\n",
    "warnings.filterwarnings(\"ignore\", category=UserWarning, module=\"mlflow\")"
   ]
  },
  {
   "cell_type": "code",
   "execution_count": 3,
   "id": "cf8c0138-6f2f-449f-be2e-0c631a3a4cd5",
   "metadata": {},
   "outputs": [
    {
     "data": {
      "text/plain": [
       "<Experiment: artifact_location='mlflow-artifacts:/1', creation_time=1706524695369, experiment_id='1', last_update_time=1706524695369, lifecycle_stage='active', name='rightmove-rent-prediction', tags={}>"
      ]
     },
     "execution_count": 3,
     "metadata": {},
     "output_type": "execute_result"
    }
   ],
   "source": [
    "import mlflow\n",
    "\n",
    "mlflow.set_tracking_uri(\"http://localhost:8090\")\n",
    "# mlflow.set_tracking_uri(\"sqlite:///mlflow.db\") # Local Database\n",
    "mlflow.set_experiment(\"rightmove-rent-prediction\")"
   ]
  },
  {
   "cell_type": "markdown",
   "id": "800973eb-84a6-4569-af42-1a99a032447f",
   "metadata": {},
   "source": [
    "# Load Data"
   ]
  },
  {
   "cell_type": "code",
   "execution_count": 4,
   "id": "5fb146b4-f8a7-4f55-93f9-f8ce911f47a5",
   "metadata": {},
   "outputs": [],
   "source": [
    "from mlflow.data.pandas_dataset import PandasDataset\n",
    "train_dataset_source_url = \"data/train.csv\"\n",
    "val_dataset_source_url = \"data/val.csv\"\n",
    "\n",
    "train_df = pd.read_csv(train_dataset_source_url, index_col=0)\n",
    "val_df = pd.read_csv(val_dataset_source_url, index_col=0)"
   ]
  },
  {
   "cell_type": "code",
   "execution_count": 5,
   "id": "b7c644ab-a14a-4df4-bea1-98fcb895bca4",
   "metadata": {},
   "outputs": [
    {
     "data": {
      "text/html": [
       "<div>\n",
       "<style scoped>\n",
       "    .dataframe tbody tr th:only-of-type {\n",
       "        vertical-align: middle;\n",
       "    }\n",
       "\n",
       "    .dataframe tbody tr th {\n",
       "        vertical-align: top;\n",
       "    }\n",
       "\n",
       "    .dataframe thead th {\n",
       "        text-align: right;\n",
       "    }\n",
       "</style>\n",
       "<table border=\"1\" class=\"dataframe\">\n",
       "  <thead>\n",
       "    <tr style=\"text-align: right;\">\n",
       "      <th></th>\n",
       "      <th>bedrooms</th>\n",
       "      <th>bathrooms</th>\n",
       "      <th>price</th>\n",
       "      <th>commercial</th>\n",
       "      <th>development</th>\n",
       "      <th>students</th>\n",
       "      <th>longitude</th>\n",
       "      <th>latitude</th>\n",
       "      <th>text</th>\n",
       "      <th>walk_score</th>\n",
       "      <th>restaurants</th>\n",
       "      <th>shopping</th>\n",
       "      <th>coffee</th>\n",
       "      <th>banks</th>\n",
       "      <th>parks</th>\n",
       "      <th>schools</th>\n",
       "      <th>books</th>\n",
       "      <th>entertainment</th>\n",
       "      <th>grocery</th>\n",
       "    </tr>\n",
       "  </thead>\n",
       "  <tbody>\n",
       "    <tr>\n",
       "      <th>38830</th>\n",
       "      <td>3</td>\n",
       "      <td>1.0</td>\n",
       "      <td>24000.0</td>\n",
       "      <td>0</td>\n",
       "      <td>0</td>\n",
       "      <td>0</td>\n",
       "      <td>-0.056192</td>\n",
       "      <td>51.667706</td>\n",
       "      <td>THREE BEDROOM HOUSE, TWO RECEPTION ROOMS, FITT...</td>\n",
       "      <td>15.133139</td>\n",
       "      <td>3.179574e-01</td>\n",
       "      <td>0.000000e+00</td>\n",
       "      <td>5.457925e-08</td>\n",
       "      <td>2.781163e-09</td>\n",
       "      <td>0.992856</td>\n",
       "      <td>0.823671</td>\n",
       "      <td>2.903329e-07</td>\n",
       "      <td>6.413508e-45</td>\n",
       "      <td>0.134351</td>\n",
       "    </tr>\n",
       "    <tr>\n",
       "      <th>55467</th>\n",
       "      <td>1</td>\n",
       "      <td>1.0</td>\n",
       "      <td>19800.0</td>\n",
       "      <td>0</td>\n",
       "      <td>0</td>\n",
       "      <td>0</td>\n",
       "      <td>-0.110176</td>\n",
       "      <td>51.568771</td>\n",
       "      <td>, Hunters Stanmore are proud to market this o...</td>\n",
       "      <td>85.781982</td>\n",
       "      <td>2.999974e+00</td>\n",
       "      <td>8.963245e-01</td>\n",
       "      <td>1.999985e+00</td>\n",
       "      <td>0.000000e+00</td>\n",
       "      <td>0.999051</td>\n",
       "      <td>0.991928</td>\n",
       "      <td>9.999584e-01</td>\n",
       "      <td>9.736460e-01</td>\n",
       "      <td>3.000000</td>\n",
       "    </tr>\n",
       "    <tr>\n",
       "      <th>39597</th>\n",
       "      <td>3</td>\n",
       "      <td>1.0</td>\n",
       "      <td>10500.0</td>\n",
       "      <td>0</td>\n",
       "      <td>0</td>\n",
       "      <td>0</td>\n",
       "      <td>-1.426080</td>\n",
       "      <td>53.687050</td>\n",
       "      <td>Well Presented, Semi Detached, Unfurnished, Th...</td>\n",
       "      <td>17.884093</td>\n",
       "      <td>1.087511e-08</td>\n",
       "      <td>1.955617e-14</td>\n",
       "      <td>3.639962e-09</td>\n",
       "      <td>7.589710e-09</td>\n",
       "      <td>0.062920</td>\n",
       "      <td>0.287689</td>\n",
       "      <td>2.679829e-07</td>\n",
       "      <td>0.000000e+00</td>\n",
       "      <td>2.330664</td>\n",
       "    </tr>\n",
       "    <tr>\n",
       "      <th>58613</th>\n",
       "      <td>2</td>\n",
       "      <td>1.0</td>\n",
       "      <td>11400.0</td>\n",
       "      <td>0</td>\n",
       "      <td>0</td>\n",
       "      <td>0</td>\n",
       "      <td>-4.259540</td>\n",
       "      <td>55.820202</td>\n",
       "      <td>Mod Ground Floor Flat, 2 Bedrooms, Unfurnished...</td>\n",
       "      <td>64.970217</td>\n",
       "      <td>1.795519e+00</td>\n",
       "      <td>1.638024e-05</td>\n",
       "      <td>1.809908e+00</td>\n",
       "      <td>6.343372e-01</td>\n",
       "      <td>0.991111</td>\n",
       "      <td>0.910470</td>\n",
       "      <td>5.993718e-01</td>\n",
       "      <td>0.000000e+00</td>\n",
       "      <td>2.999929</td>\n",
       "    </tr>\n",
       "    <tr>\n",
       "      <th>25056</th>\n",
       "      <td>3</td>\n",
       "      <td>NaN</td>\n",
       "      <td>48000.0</td>\n",
       "      <td>0</td>\n",
       "      <td>0</td>\n",
       "      <td>0</td>\n",
       "      <td>-0.736478</td>\n",
       "      <td>51.425994</td>\n",
       "      <td>Garden, Cooking basics, Dedicated workspace, W...</td>\n",
       "      <td>41.593268</td>\n",
       "      <td>3.870290e-06</td>\n",
       "      <td>1.016736e-19</td>\n",
       "      <td>1.092181e+00</td>\n",
       "      <td>1.785391e-15</td>\n",
       "      <td>0.895333</td>\n",
       "      <td>0.999893</td>\n",
       "      <td>8.105341e-01</td>\n",
       "      <td>1.367258e-30</td>\n",
       "      <td>2.437928</td>\n",
       "    </tr>\n",
       "  </tbody>\n",
       "</table>\n",
       "</div>"
      ],
      "text/plain": [
       "       bedrooms  bathrooms    price  commercial  development  students  \\\n",
       "38830         3        1.0  24000.0           0            0         0   \n",
       "55467         1        1.0  19800.0           0            0         0   \n",
       "39597         3        1.0  10500.0           0            0         0   \n",
       "58613         2        1.0  11400.0           0            0         0   \n",
       "25056         3        NaN  48000.0           0            0         0   \n",
       "\n",
       "       longitude   latitude  \\\n",
       "38830  -0.056192  51.667706   \n",
       "55467  -0.110176  51.568771   \n",
       "39597  -1.426080  53.687050   \n",
       "58613  -4.259540  55.820202   \n",
       "25056  -0.736478  51.425994   \n",
       "\n",
       "                                                    text  walk_score  \\\n",
       "38830  THREE BEDROOM HOUSE, TWO RECEPTION ROOMS, FITT...   15.133139   \n",
       "55467   , Hunters Stanmore are proud to market this o...   85.781982   \n",
       "39597  Well Presented, Semi Detached, Unfurnished, Th...   17.884093   \n",
       "58613  Mod Ground Floor Flat, 2 Bedrooms, Unfurnished...   64.970217   \n",
       "25056  Garden, Cooking basics, Dedicated workspace, W...   41.593268   \n",
       "\n",
       "        restaurants      shopping        coffee         banks     parks  \\\n",
       "38830  3.179574e-01  0.000000e+00  5.457925e-08  2.781163e-09  0.992856   \n",
       "55467  2.999974e+00  8.963245e-01  1.999985e+00  0.000000e+00  0.999051   \n",
       "39597  1.087511e-08  1.955617e-14  3.639962e-09  7.589710e-09  0.062920   \n",
       "58613  1.795519e+00  1.638024e-05  1.809908e+00  6.343372e-01  0.991111   \n",
       "25056  3.870290e-06  1.016736e-19  1.092181e+00  1.785391e-15  0.895333   \n",
       "\n",
       "        schools         books  entertainment   grocery  \n",
       "38830  0.823671  2.903329e-07   6.413508e-45  0.134351  \n",
       "55467  0.991928  9.999584e-01   9.736460e-01  3.000000  \n",
       "39597  0.287689  2.679829e-07   0.000000e+00  2.330664  \n",
       "58613  0.910470  5.993718e-01   0.000000e+00  2.999929  \n",
       "25056  0.999893  8.105341e-01   1.367258e-30  2.437928  "
      ]
     },
     "execution_count": 5,
     "metadata": {},
     "output_type": "execute_result"
    }
   ],
   "source": [
    "train_df.head()"
   ]
  },
  {
   "cell_type": "code",
   "execution_count": 6,
   "id": "c8a873ee-b8c7-4718-beb3-e7cb830a7ab5",
   "metadata": {},
   "outputs": [],
   "source": [
    "train_df = train_df.dropna()\n",
    "val_df = val_df.dropna()"
   ]
  },
  {
   "cell_type": "code",
   "execution_count": 7,
   "id": "b602ad33-0b93-43a6-926b-011e89085278",
   "metadata": {},
   "outputs": [],
   "source": [
    "def create_dataset(train_df, val_df, features):\n",
    "    X_train = train_df[features]\n",
    "    y_train = train_df[['price']]\n",
    "    \n",
    "    X_val = val_df[features]\n",
    "    y_val = val_df[['price']]\n",
    "\n",
    "    train_dataset: PandasDataset = mlflow.data.from_pandas(train_df[features], source=train_dataset_source_url)\n",
    "    val_dataset: PandasDataset = mlflow.data.from_pandas(val_df[features], source=val_dataset_source_url)\n",
    "\n",
    "    return X_train, y_train, X_val, y_val, train_dataset, val_dataset"
   ]
  },
  {
   "cell_type": "markdown",
   "id": "62a9ab38-8054-4d7c-b067-3f9f78a4d500",
   "metadata": {},
   "source": [
    "# Linear Regression"
   ]
  },
  {
   "cell_type": "markdown",
   "id": "dd8dae83-da4e-42f7-85a4-dd92bbba8b5a",
   "metadata": {},
   "source": [
    "## Numerical features"
   ]
  },
  {
   "cell_type": "code",
   "execution_count": 8,
   "id": "a0afeda5-9082-4b9d-9bef-5fbab02d3514",
   "metadata": {},
   "outputs": [],
   "source": [
    "numerical_features = ['bedrooms', 'bathrooms', 'longitude', 'latitude']"
   ]
  },
  {
   "cell_type": "code",
   "execution_count": 51,
   "id": "b2db62e3-18ac-49b0-97dd-9daa44f87c64",
   "metadata": {},
   "outputs": [],
   "source": [
    "X_train, y_train, X_val, y_val, train_dataset, val_dataset = create_dataset(train_df, val_df, numerical_features)"
   ]
  },
  {
   "cell_type": "code",
   "execution_count": 52,
   "id": "1fd96af0-5397-4e9a-a159-d7fc44a71afb",
   "metadata": {},
   "outputs": [],
   "source": [
    "with mlflow.start_run():\n",
    "    # Log the dataset to the MLflow Run. Specify the \"training\" context to indicate that the\n",
    "    # dataset is used for model training\n",
    "    mlflow.log_input(train_dataset, context=\"training\")\n",
    "    mlflow.log_input(val_dataset, context=\"validation\")\n",
    "    \n",
    "    mlflow.set_tag(\"developer\", \"Alex\") # Addind metadata\n",
    "    \n",
    "    mlflow.log_param(\"Model type\", \"Linear Regression\")\n",
    "    mlflow.log_param(\"Included Data\", numerical_features)\n",
    "    \n",
    "    model = LinearRegression()\n",
    "    model.fit(X_train, y_train)\n",
    "    \n",
    "    y_pred = model.predict(X_val)\n",
    "    \n",
    "    rmse = mean_squared_error(y_val, y_pred, squared=False)\n",
    "    \n",
    "    mlflow.log_metric(\"rmse\", rmse)"
   ]
  },
  {
   "cell_type": "markdown",
   "id": "8a3d2adc-d74f-43e7-bb42-03f9667a79f9",
   "metadata": {},
   "source": [
    "## Walk Score"
   ]
  },
  {
   "cell_type": "code",
   "execution_count": 13,
   "id": "166b99c6-dbb4-413f-9a6d-b02697aac31e",
   "metadata": {},
   "outputs": [],
   "source": [
    "numerical_features_walk_score = ['bedrooms', 'bathrooms', 'longitude', 'latitude', 'walk_score']"
   ]
  },
  {
   "cell_type": "code",
   "execution_count": 54,
   "id": "a014cddd-f09a-414b-8b68-e4f679a4e8e6",
   "metadata": {},
   "outputs": [],
   "source": [
    "X_train, y_train, X_val, y_val, train_dataset, val_dataset = create_dataset(train_df, val_df, numerical_features_walk_score)"
   ]
  },
  {
   "cell_type": "code",
   "execution_count": 55,
   "id": "bc662fdb-7c75-426a-bb01-8a212121dbd4",
   "metadata": {},
   "outputs": [],
   "source": [
    "with mlflow.start_run():\n",
    "    # Log the dataset to the MLflow Run. Specify the \"training\" context to indicate that the\n",
    "    # dataset is used for model training\n",
    "    mlflow.log_input(train_dataset, context=\"training\")\n",
    "    mlflow.log_input(val_dataset, context=\"validation\")\n",
    "    \n",
    "    mlflow.set_tag(\"developer\", \"Alex\") # Addind metadata\n",
    "    \n",
    "    mlflow.log_param(\"Model type\", \"Linear Regression\")\n",
    "    mlflow.log_param(\"Included Data\", numerical_features_walk_score)\n",
    "    \n",
    "    model = LinearRegression()\n",
    "    model.fit(X_train, y_train)\n",
    "    \n",
    "    y_pred = model.predict(X_val)\n",
    "    \n",
    "    rmse = mean_squared_error(y_val, y_pred, squared=False)\n",
    "    \n",
    "    mlflow.log_metric(\"rmse\", rmse)"
   ]
  },
  {
   "cell_type": "markdown",
   "id": "4ad59bc0-5d6e-45c6-b992-6f584f135d96",
   "metadata": {},
   "source": [
    "## Binary features"
   ]
  },
  {
   "cell_type": "code",
   "execution_count": 11,
   "id": "d8bc952f-e2f2-4cd7-b4b2-1ef3c24008b2",
   "metadata": {},
   "outputs": [],
   "source": [
    "numerical_features_walk_score_binary = ['bedrooms', 'bathrooms', 'longitude', 'latitude', 'walk_score', 'commercial', 'development', 'students']"
   ]
  },
  {
   "cell_type": "code",
   "execution_count": 57,
   "id": "2416ab63-c3dd-4e43-bf3c-002bad1c9e8f",
   "metadata": {},
   "outputs": [],
   "source": [
    "X_train, y_train, X_val, y_val, train_dataset, val_dataset = create_dataset(train_df, val_df, numerical_features_walk_score_binary)"
   ]
  },
  {
   "cell_type": "code",
   "execution_count": 58,
   "id": "f06a93a7-55f2-40fa-9de7-e364714bfc8f",
   "metadata": {},
   "outputs": [],
   "source": [
    "with mlflow.start_run():\n",
    "    # Log the dataset to the MLflow Run. Specify the \"training\" context to indicate that the\n",
    "    # dataset is used for model training\n",
    "    mlflow.log_input(train_dataset, context=\"training\")\n",
    "    mlflow.log_input(val_dataset, context=\"validation\")\n",
    "    \n",
    "    mlflow.set_tag(\"developer\", \"Alex\") # Addind metadata\n",
    "    \n",
    "    mlflow.log_param(\"Model type\", \"Linear Regression\")\n",
    "    mlflow.log_param(\"Included Data\", numerical_features_walk_score_binary)\n",
    "    \n",
    "    model = LinearRegression()\n",
    "    model.fit(X_train, y_train)\n",
    "    \n",
    "    y_pred = model.predict(X_val)\n",
    "    \n",
    "    rmse = mean_squared_error(y_val, y_pred, squared=False)\n",
    "    \n",
    "    mlflow.log_metric(\"rmse\", rmse)"
   ]
  },
  {
   "cell_type": "code",
   "execution_count": 59,
   "id": "afbe26d6-8d2b-4ba2-b319-fe577433d521",
   "metadata": {},
   "outputs": [
    {
     "data": {
      "text/plain": [
       "17936.675239064596"
      ]
     },
     "execution_count": 59,
     "metadata": {},
     "output_type": "execute_result"
    }
   ],
   "source": [
    "rmse"
   ]
  },
  {
   "cell_type": "markdown",
   "id": "8ca142c9-1785-4e50-b6e3-273c9c4ab3e4",
   "metadata": {},
   "source": [
    "# Random Forest"
   ]
  },
  {
   "cell_type": "code",
   "execution_count": 62,
   "id": "6f98717e-a732-4fa7-9063-a64921ce9d39",
   "metadata": {},
   "outputs": [],
   "source": [
    "from sklearn.ensemble import RandomForestRegressor"
   ]
  },
  {
   "cell_type": "markdown",
   "id": "bb871831-19bc-4d4f-b66d-5ec7e3dee22b",
   "metadata": {},
   "source": [
    "## Numerical"
   ]
  },
  {
   "cell_type": "code",
   "execution_count": 60,
   "id": "97cc9f8e-9ba4-46bd-8fad-07c52ac99c2f",
   "metadata": {},
   "outputs": [],
   "source": [
    "X_train, y_train, X_val, y_val, train_dataset, val_dataset = create_dataset(train_df, val_df, numerical_features)"
   ]
  },
  {
   "cell_type": "code",
   "execution_count": 63,
   "id": "a284a495-2bbe-408c-a9d9-51ba33021e97",
   "metadata": {},
   "outputs": [
    {
     "name": "stderr",
     "output_type": "stream",
     "text": [
      "/opt/homebrew/lib/python3.11/site-packages/sklearn/base.py:1152: DataConversionWarning: A column-vector y was passed when a 1d array was expected. Please change the shape of y to (n_samples,), for example using ravel().\n",
      "  return fit_method(estimator, *args, **kwargs)\n"
     ]
    }
   ],
   "source": [
    "with mlflow.start_run():\n",
    "    # Log the dataset to the MLflow Run. Specify the \"training\" context to indicate that the\n",
    "    # dataset is used for model training\n",
    "    mlflow.log_input(train_dataset, context=\"training\")\n",
    "    mlflow.log_input(val_dataset, context=\"validation\")\n",
    "    \n",
    "    mlflow.set_tag(\"developer\", \"Alex\") # Addind metadata\n",
    "    \n",
    "    mlflow.log_param(\"Model type\", \"Random Forest\")\n",
    "    mlflow.log_param(\"Included Data\", numerical_features)\n",
    "    \n",
    "    model = RandomForestRegressor()\n",
    "    model.fit(X_train, y_train)\n",
    "    \n",
    "    y_pred = model.predict(X_val)\n",
    "    \n",
    "    rmse = mean_squared_error(y_val, y_pred, squared=False)\n",
    "    \n",
    "    mlflow.log_metric(\"rmse\", rmse)"
   ]
  },
  {
   "cell_type": "markdown",
   "id": "900e172f-b08e-425e-bc9b-ae22a37e1ef5",
   "metadata": {},
   "source": [
    "## Walk score"
   ]
  },
  {
   "cell_type": "code",
   "execution_count": 65,
   "id": "20af87be-1b82-452a-9ab0-d47174db83b7",
   "metadata": {},
   "outputs": [],
   "source": [
    "X_train, y_train, X_val, y_val, train_dataset, val_dataset = create_dataset(train_df, val_df, numerical_features_walk_score)"
   ]
  },
  {
   "cell_type": "code",
   "execution_count": 66,
   "id": "9c917b31-59f8-4da2-8201-e12019eff86a",
   "metadata": {},
   "outputs": [
    {
     "name": "stderr",
     "output_type": "stream",
     "text": [
      "/opt/homebrew/lib/python3.11/site-packages/sklearn/base.py:1152: DataConversionWarning: A column-vector y was passed when a 1d array was expected. Please change the shape of y to (n_samples,), for example using ravel().\n",
      "  return fit_method(estimator, *args, **kwargs)\n"
     ]
    }
   ],
   "source": [
    "with mlflow.start_run():\n",
    "    # Log the dataset to the MLflow Run. Specify the \"training\" context to indicate that the\n",
    "    # dataset is used for model training\n",
    "    mlflow.log_input(train_dataset, context=\"training\")\n",
    "    mlflow.log_input(val_dataset, context=\"validation\")\n",
    "    \n",
    "    mlflow.set_tag(\"developer\", \"Alex\") # Addind metadata\n",
    "    \n",
    "    mlflow.log_param(\"Model type\", \"Random Forest\")\n",
    "    mlflow.log_param(\"Included Data\", numerical_features_walk_score)\n",
    "    \n",
    "    model = RandomForestRegressor()\n",
    "    model.fit(X_train, y_train)\n",
    "    \n",
    "    y_pred = model.predict(X_val)\n",
    "    \n",
    "    rmse = mean_squared_error(y_val, y_pred, squared=False)\n",
    "    \n",
    "    mlflow.log_metric(\"rmse\", rmse)"
   ]
  },
  {
   "cell_type": "markdown",
   "id": "49108957-4d9e-41fa-86d5-ed03660343ba",
   "metadata": {},
   "source": [
    "## Binary values"
   ]
  },
  {
   "cell_type": "code",
   "execution_count": 67,
   "id": "b07c630f-6abf-45ec-b2d9-497147849c4a",
   "metadata": {},
   "outputs": [],
   "source": [
    "X_train, y_train, X_val, y_val, train_dataset, val_dataset = create_dataset(train_df, val_df, numerical_features_walk_score_binary)"
   ]
  },
  {
   "cell_type": "code",
   "execution_count": 68,
   "id": "fceb8689-b1bc-4d7f-a062-39e7fa18f225",
   "metadata": {},
   "outputs": [
    {
     "name": "stderr",
     "output_type": "stream",
     "text": [
      "/opt/homebrew/lib/python3.11/site-packages/sklearn/base.py:1152: DataConversionWarning: A column-vector y was passed when a 1d array was expected. Please change the shape of y to (n_samples,), for example using ravel().\n",
      "  return fit_method(estimator, *args, **kwargs)\n"
     ]
    }
   ],
   "source": [
    "with mlflow.start_run():\n",
    "    # Log the dataset to the MLflow Run. Specify the \"training\" context to indicate that the\n",
    "    # dataset is used for model training\n",
    "    mlflow.log_input(train_dataset, context=\"training\")\n",
    "    mlflow.log_input(val_dataset, context=\"validation\")\n",
    "    \n",
    "    mlflow.set_tag(\"developer\", \"Alex\") # Addind metadata\n",
    "    \n",
    "    mlflow.log_param(\"Model type\", \"Random Forest\")\n",
    "    mlflow.log_param(\"Included Data\", numerical_features_walk_score_binary)\n",
    "    \n",
    "    model = RandomForestRegressor()\n",
    "    model.fit(X_train, y_train)\n",
    "    \n",
    "    y_pred = model.predict(X_val)\n",
    "    \n",
    "    rmse = mean_squared_error(y_val, y_pred, squared=False)\n",
    "    \n",
    "    mlflow.log_metric(\"rmse\", rmse)"
   ]
  },
  {
   "cell_type": "markdown",
   "id": "a5980117-7517-425b-aeb9-3ab24fc21232",
   "metadata": {},
   "source": [
    "# XGBoost"
   ]
  },
  {
   "cell_type": "code",
   "execution_count": 69,
   "id": "ff3bd810-30e5-4e58-800e-d85c51bc84be",
   "metadata": {},
   "outputs": [],
   "source": [
    "import xgboost as xgb"
   ]
  },
  {
   "cell_type": "code",
   "execution_count": 70,
   "id": "7f14e943-3ee8-4943-b3f6-eb6664929cba",
   "metadata": {},
   "outputs": [],
   "source": [
    "X_train, y_train, X_val, y_val, train_dataset, val_dataset = create_dataset(train_df, val_df, numerical_features)"
   ]
  },
  {
   "cell_type": "code",
   "execution_count": 71,
   "id": "17cfc16c-a4b7-4153-9a4a-abaa7be6cd47",
   "metadata": {},
   "outputs": [],
   "source": [
    "with mlflow.start_run():\n",
    "    # Log the dataset to the MLflow Run. Specify the \"training\" context to indicate that the\n",
    "    # dataset is used for model training\n",
    "    mlflow.log_input(train_dataset, context=\"training\")\n",
    "    mlflow.log_input(val_dataset, context=\"validation\")\n",
    "    \n",
    "    mlflow.set_tag(\"developer\", \"Alex\") # Addind metadata\n",
    "    \n",
    "    mlflow.log_param(\"Model type\", \"XGBoost\")\n",
    "    mlflow.log_param(\"Included Data\", numerical_features)\n",
    "    \n",
    "    model = xgb.XGBRegressor()\n",
    "    model.fit(X_train, y_train)\n",
    "    \n",
    "    y_pred = model.predict(X_val)\n",
    "    \n",
    "    rmse = mean_squared_error(y_val, y_pred, squared=False)\n",
    "    \n",
    "    mlflow.log_metric(\"rmse\", rmse)"
   ]
  },
  {
   "cell_type": "markdown",
   "id": "1f5a226d-39fc-4e43-b1d7-e75cdb1af7c6",
   "metadata": {},
   "source": [
    "## Walk score"
   ]
  },
  {
   "cell_type": "code",
   "execution_count": 73,
   "id": "a43b61f5-4d6c-4f2a-a95c-f71f56a57f7b",
   "metadata": {},
   "outputs": [],
   "source": [
    "X_train, y_train, X_val, y_val, train_dataset, val_dataset = create_dataset(train_df, val_df, numerical_features_walk_score)"
   ]
  },
  {
   "cell_type": "code",
   "execution_count": 74,
   "id": "b9eccb3d-959c-4639-b88f-eed229db91db",
   "metadata": {},
   "outputs": [],
   "source": [
    "with mlflow.start_run():\n",
    "    # Log the dataset to the MLflow Run. Specify the \"training\" context to indicate that the\n",
    "    # dataset is used for model training\n",
    "    mlflow.log_input(train_dataset, context=\"training\")\n",
    "    mlflow.log_input(val_dataset, context=\"validation\")\n",
    "    \n",
    "    mlflow.set_tag(\"developer\", \"Alex\") # Addind metadata\n",
    "    \n",
    "    mlflow.log_param(\"Model type\", \"XGBoost\")\n",
    "    mlflow.log_param(\"Included Data\", numerical_features_walk_score)\n",
    "    \n",
    "    model = xgb.XGBRegressor()\n",
    "    model.fit(X_train, y_train)\n",
    "    \n",
    "    y_pred = model.predict(X_val)\n",
    "    \n",
    "    rmse = mean_squared_error(y_val, y_pred, squared=False)\n",
    "    \n",
    "    mlflow.log_metric(\"rmse\", rmse)"
   ]
  },
  {
   "cell_type": "code",
   "execution_count": 75,
   "id": "32a91083-e598-4273-b573-233be04032ec",
   "metadata": {},
   "outputs": [
    {
     "data": {
      "text/plain": [
       "20303.760748490633"
      ]
     },
     "execution_count": 75,
     "metadata": {},
     "output_type": "execute_result"
    }
   ],
   "source": [
    "rmse"
   ]
  },
  {
   "cell_type": "code",
   "execution_count": 76,
   "id": "710c9ddd-1791-416e-babb-06b496f1eb51",
   "metadata": {},
   "outputs": [],
   "source": [
    "X_train, y_train, X_val, y_val, train_dataset, val_dataset = create_dataset(train_df, val_df, numerical_features_walk_score_binary)"
   ]
  },
  {
   "cell_type": "code",
   "execution_count": 77,
   "id": "ebd1979b-58be-4e63-b0d8-8b57827869d9",
   "metadata": {},
   "outputs": [],
   "source": [
    "with mlflow.start_run():\n",
    "    # Log the dataset to the MLflow Run. Specify the \"training\" context to indicate that the\n",
    "    # dataset is used for model training\n",
    "    mlflow.log_input(train_dataset, context=\"training\")\n",
    "    mlflow.log_input(val_dataset, context=\"validation\")\n",
    "    \n",
    "    mlflow.set_tag(\"developer\", \"Alex\") # Addind metadata\n",
    "    \n",
    "    mlflow.log_param(\"Model type\", \"XGBoost\")\n",
    "    mlflow.log_param(\"Included Data\", numerical_features_walk_score_binary)\n",
    "    \n",
    "    model = xgb.XGBRegressor()\n",
    "    model.fit(X_train, y_train)\n",
    "    \n",
    "    y_pred = model.predict(X_val)\n",
    "    \n",
    "    rmse = mean_squared_error(y_val, y_pred, squared=False)\n",
    "    \n",
    "    mlflow.log_metric(\"rmse\", rmse)"
   ]
  },
  {
   "cell_type": "markdown",
   "id": "9b0e62c8-f261-409d-aeca-901ea6f91620",
   "metadata": {},
   "source": [
    "# Finetune XGBoost"
   ]
  },
  {
   "cell_type": "code",
   "execution_count": 79,
   "id": "53e48444-e64f-4f70-81e6-48e178a18cfe",
   "metadata": {},
   "outputs": [],
   "source": [
    "from hyperopt import fmin, tpe, hp, STATUS_OK, Trials\n",
    "from hyperopt.pyll import scope"
   ]
  },
  {
   "cell_type": "code",
   "execution_count": 81,
   "id": "3fdce4be-030c-4bd4-81af-c7015bd59585",
   "metadata": {},
   "outputs": [],
   "source": [
    "X_train, y_train, X_val, y_val, train_dataset, val_dataset = create_dataset(train_df, val_df, numerical_features_walk_score_binary)"
   ]
  },
  {
   "cell_type": "code",
   "execution_count": 82,
   "id": "5086bc5e-4483-4213-97eb-f74c67c54851",
   "metadata": {},
   "outputs": [],
   "source": [
    "train = xgb.DMatrix(X_train, label=y_train)\n",
    "valid = xgb.DMatrix(X_val, label=y_val)"
   ]
  },
  {
   "cell_type": "code",
   "execution_count": 84,
   "id": "cec2dced-a2e0-43f8-b0cc-5f9001d300b5",
   "metadata": {},
   "outputs": [],
   "source": [
    "def objective(params):\n",
    "    with mlflow.start_run(): # Start a new MLflow run for each evaluation\n",
    "        mlflow.set_tag(\"Model type\", \"XGBoost\") # Log model tag\n",
    "        mlflow.log_params(params) # Log parameters\n",
    "\n",
    "        # Train the model\n",
    "        booster = xgb.train(\n",
    "            params=params,\n",
    "            dtrain=train, # Your training dataset\n",
    "            num_boost_round=1000,\n",
    "            evals=[(valid, 'validation')], # Your validation dataset\n",
    "            early_stopping_rounds=50\n",
    "        )\n",
    "\n",
    "        # Make predictions and calculate RMSE\n",
    "        y_pred = booster.predict(valid) # Your validation dataset\n",
    "        rmse = mean_squared_error(y_val, y_pred, squared=False) # y_val should be your validation target\n",
    "        mlflow.log_metric(\"rmse\", rmse) # Log RMSE metric\n",
    "\n",
    "    return {'loss': rmse, 'status': STATUS_OK}"
   ]
  },
  {
   "cell_type": "code",
   "execution_count": 85,
   "id": "6ed67e77-3a10-406a-955e-eaed0f85f53e",
   "metadata": {},
   "outputs": [],
   "source": [
    "# Define the search space for Hyperopt\n",
    "search_space = {\n",
    "    'max_depth': scope.int(hp.quniform('max_depth', 4, 100, 1)),\n",
    "    'learning_rate': hp.loguniform('learning_rate', -3, 0),\n",
    "    'reg_alpha': hp.loguniform('reg_alpha', -5, -1),\n",
    "    'reg_lambda': hp.loguniform('reg_lambda', -6, -1),\n",
    "    'min_child_weight': hp.loguniform('min_child_weight', -1, 3),\n",
    "    'objective': 'reg:squarederror', # Updated objective for regression\n",
    "    'seed': 42\n",
    "}"
   ]
  },
  {
   "cell_type": "code",
   "execution_count": null,
   "id": "71ada4b2-0bad-4008-86ca-7e6b7f76aeb7",
   "metadata": {},
   "outputs": [],
   "source": [
    "# Run Hyperopt\n",
    "best_result = fmin(\n",
    "    fn=objective,\n",
    "    space=search_space,\n",
    "    algo=tpe.suggest,\n",
    "    max_evals=50,\n",
    "    trials=Trials()\n",
    ")\n",
    "\n",
    "print(\"Best Hyperparameters:\", best_result)"
   ]
  },
  {
   "cell_type": "code",
   "execution_count": 96,
   "id": "7b6c6ac8-0817-407e-99f0-79e299516fbb",
   "metadata": {},
   "outputs": [],
   "source": [
    "best_result['max_depth'] = 94"
   ]
  },
  {
   "cell_type": "markdown",
   "id": "b481c2f7-6b7b-45db-ba6a-2b9828dbf784",
   "metadata": {},
   "source": [
    "## Save Random Forest"
   ]
  },
  {
   "cell_type": "code",
   "execution_count": 88,
   "id": "7065c824-0101-433b-9dd4-8965b3ab81ce",
   "metadata": {},
   "outputs": [],
   "source": [
    "X_train, y_train, X_val, y_val, train_dataset, val_dataset = create_dataset(train_df, val_df, numerical_features_walk_score_binary)"
   ]
  },
  {
   "cell_type": "code",
   "execution_count": null,
   "id": "5785a153-5ccd-4da2-986c-805c0ec968f8",
   "metadata": {},
   "outputs": [],
   "source": [
    "with mlflow.start_run():\n",
    "    \n",
    "    train = xgb.DMatrix(X_train, label=y_train)\n",
    "    valid = xgb.DMatrix(X_val, label=y_val)\n",
    "\n",
    "    mlflow.log_params(best_result)\n",
    "\n",
    "    mlflow.set_tag(\"developer\", \"Alex\") # Addind metadata\n",
    "    \n",
    "    mlflow.log_param(\"Model type\", \"XGBoost\")\n",
    "    mlflow.log_param(\"Included Data\", numerical_features_walk_score_binary)\n",
    "\n",
    "    booster = xgb.train(\n",
    "        params=best_result,\n",
    "        dtrain=train,\n",
    "        num_boost_round=1000,\n",
    "        evals=[(valid, 'validation')],\n",
    "        early_stopping_rounds=50\n",
    "    )\n",
    "\n",
    "    y_pred = booster.predict(valid)\n",
    "    rmse = mean_squared_error(y_val, y_pred, squared=False)\n",
    "    mlflow.log_metric(\"rmse\", rmse)\n",
    "\n",
    "    # with open(\"models/preprocessor.b\", \"wb\") as f_out:\n",
    "    #     pickle.dump(dv, f_out)\n",
    "    # mlflow.log_artifact(\"models/preprocessor.b\", artifact_path=\"preprocessor\")\n",
    "\n",
    "    mlflow.xgboost.log_model(booster, artifact_path=\"models_mlflow\")"
   ]
  },
  {
   "cell_type": "code",
   "execution_count": 14,
   "id": "87101a9f-00d1-4212-9054-0c7e764a53a0",
   "metadata": {},
   "outputs": [],
   "source": [
    "X_train, y_train, X_val, y_val, train_dataset, val_dataset = create_dataset(train_df, val_df, numerical_features_walk_score)"
   ]
  },
  {
   "cell_type": "code",
   "execution_count": 17,
   "id": "7025e21d-076d-4c88-a557-01be6e3565de",
   "metadata": {},
   "outputs": [
    {
     "name": "stderr",
     "output_type": "stream",
     "text": [
      "/opt/homebrew/lib/python3.11/site-packages/sklearn/base.py:1152: DataConversionWarning: A column-vector y was passed when a 1d array was expected. Please change the shape of y to (n_samples,), for example using ravel().\n",
      "  return fit_method(estimator, *args, **kwargs)\n"
     ]
    }
   ],
   "source": [
    "from sklearn.ensemble import RandomForestRegressor\n",
    "\n",
    "with mlflow.start_run():\n",
    "    # Log the dataset to the MLflow Run. Specify the \"training\" context to indicate that the\n",
    "    # dataset is used for model training\n",
    "    mlflow.log_input(train_dataset, context=\"training\")\n",
    "    mlflow.log_input(val_dataset, context=\"validation\")\n",
    "    \n",
    "    mlflow.set_tag(\"developer\", \"Alex\") # Addind metadata\n",
    "    \n",
    "    mlflow.log_param(\"Model type\", \"Random Forest\")\n",
    "    mlflow.log_param(\"Included Data\", numerical_features_walk_score)\n",
    "    \n",
    "    model = RandomForestRegressor()\n",
    "    model.fit(X_train, y_train)\n",
    "    \n",
    "    y_pred = model.predict(X_val)\n",
    "    \n",
    "    rmse = mean_squared_error(y_val, y_pred, squared=False)\n",
    "    \n",
    "    mlflow.log_metric(\"rmse\", rmse)\n",
    "\n",
    "    mlflow.sklearn.log_model(model, artifact_path=\"random-forest-model\")"
   ]
  },
  {
   "cell_type": "code",
   "execution_count": null,
   "id": "846a4a0d-d867-46f9-9f18-c7a9b14d986a",
   "metadata": {},
   "outputs": [],
   "source": []
  }
 ],
 "metadata": {
  "kernelspec": {
   "display_name": "Python 3 (ipykernel)",
   "language": "python",
   "name": "python3"
  },
  "language_info": {
   "codemirror_mode": {
    "name": "ipython",
    "version": 3
   },
   "file_extension": ".py",
   "mimetype": "text/x-python",
   "name": "python",
   "nbconvert_exporter": "python",
   "pygments_lexer": "ipython3",
   "version": "3.11.4"
  }
 },
 "nbformat": 4,
 "nbformat_minor": 5
}
